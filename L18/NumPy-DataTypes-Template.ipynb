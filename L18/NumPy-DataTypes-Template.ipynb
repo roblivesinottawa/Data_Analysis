{
 "cells": [
  {
   "cell_type": "markdown",
   "metadata": {},
   "source": [
    "# NumPy DataTypes"
   ]
  },
  {
   "cell_type": "code",
   "execution_count": 1,
   "metadata": {},
   "outputs": [],
   "source": [
    "import numpy as np"
   ]
  },
  {
   "cell_type": "markdown",
   "metadata": {},
   "source": [
    "### Ndarrays"
   ]
  },
  {
   "cell_type": "code",
   "execution_count": 2,
   "metadata": {},
   "outputs": [
    {
     "output_type": "execute_result",
     "data": {
      "text/plain": [
       "array([[10, 20, 30],\n",
       "       [40, 50, 60]])"
      ]
     },
     "metadata": {},
     "execution_count": 2
    }
   ],
   "source": [
    "array_a = np.array([[10,20,30], [40,50,60]])\n",
    "array_a"
   ]
  },
  {
   "cell_type": "code",
   "execution_count": 3,
   "metadata": {},
   "outputs": [
    {
     "output_type": "execute_result",
     "data": {
      "text/plain": [
       "numpy.ndarray"
      ]
     },
     "metadata": {},
     "execution_count": 3
    }
   ],
   "source": [
    "type(array_a)"
   ]
  },
  {
   "cell_type": "code",
   "execution_count": 4,
   "metadata": {},
   "outputs": [
    {
     "output_type": "execute_result",
     "data": {
      "text/plain": [
       "(2, 3)"
      ]
     },
     "metadata": {},
     "execution_count": 4
    }
   ],
   "source": [
    "array_a.shape"
   ]
  },
  {
   "cell_type": "code",
   "execution_count": 5,
   "metadata": {},
   "outputs": [
    {
     "output_type": "execute_result",
     "data": {
      "text/plain": [
       "array([[100, 200, 300],\n",
       "       [400, 500, 600]])"
      ]
     },
     "metadata": {},
     "execution_count": 5
    }
   ],
   "source": [
    "array_b = np.array([[100,200,300], [400, 500, 600]])\n",
    "array_b"
   ]
  },
  {
   "cell_type": "code",
   "execution_count": 7,
   "metadata": {},
   "outputs": [
    {
     "output_type": "execute_result",
     "data": {
      "text/plain": [
       "array([15])"
      ]
     },
     "metadata": {},
     "execution_count": 7
    }
   ],
   "source": [
    "array_c = np.array([15])\n",
    "array_c"
   ]
  },
  {
   "cell_type": "code",
   "execution_count": 8,
   "metadata": {},
   "outputs": [
    {
     "output_type": "execute_result",
     "data": {
      "text/plain": [
       "numpy.ndarray"
      ]
     },
     "metadata": {},
     "execution_count": 8
    }
   ],
   "source": [
    "type(array_c)"
   ]
  },
  {
   "cell_type": "markdown",
   "metadata": {},
   "source": [
    "### List vs Array"
   ]
  },
  {
   "cell_type": "code",
   "execution_count": 15,
   "metadata": {},
   "outputs": [
    {
     "output_type": "execute_result",
     "data": {
      "text/plain": [
       "[[1, 2, 3], [4, 5, 6]]"
      ]
     },
     "metadata": {},
     "execution_count": 15
    }
   ],
   "source": [
    "list_a = [[1,2,3],[4,5,6]]\n",
    "list_a"
   ]
  },
  {
   "cell_type": "code",
   "execution_count": 16,
   "metadata": {},
   "outputs": [
    {
     "output_type": "execute_result",
     "data": {
      "text/plain": [
       "array([[1, 2, 3],\n",
       "       [4, 5, 6]])"
      ]
     },
     "metadata": {},
     "execution_count": 16
    }
   ],
   "source": [
    "array_a = np.array(list_a)\n",
    "array_a"
   ]
  },
  {
   "cell_type": "code",
   "execution_count": 17,
   "metadata": {},
   "outputs": [
    {
     "output_type": "execute_result",
     "data": {
      "text/plain": [
       "numpy.ndarray"
      ]
     },
     "metadata": {},
     "execution_count": 17
    }
   ],
   "source": [
    "type(array_a)"
   ]
  },
  {
   "cell_type": "code",
   "execution_count": 18,
   "metadata": {},
   "outputs": [
    {
     "output_type": "execute_result",
     "data": {
      "text/plain": [
       "list"
      ]
     },
     "metadata": {},
     "execution_count": 18
    }
   ],
   "source": [
    "type(list_a)"
   ]
  },
  {
   "cell_type": "code",
   "execution_count": 19,
   "metadata": {},
   "outputs": [
    {
     "output_type": "stream",
     "name": "stdout",
     "text": [
      "[[1, 2, 3], [4, 5, 6]]\n"
     ]
    }
   ],
   "source": [
    "print(list_a)"
   ]
  },
  {
   "cell_type": "code",
   "execution_count": 20,
   "metadata": {},
   "outputs": [
    {
     "output_type": "stream",
     "name": "stdout",
     "text": [
      "[[1 2 3]\n [4 5 6]]\n"
     ]
    }
   ],
   "source": [
    "print(array_a)"
   ]
  },
  {
   "cell_type": "code",
   "execution_count": 21,
   "metadata": {},
   "outputs": [
    {
     "output_type": "execute_result",
     "data": {
      "text/plain": [
       "(2, 3)"
      ]
     },
     "metadata": {},
     "execution_count": 21
    }
   ],
   "source": [
    "array_a.shape"
   ]
  },
  {
   "cell_type": "code",
   "execution_count": 22,
   "metadata": {},
   "outputs": [
    {
     "output_type": "error",
     "ename": "AttributeError",
     "evalue": "'list' object has no attribute 'shape'",
     "traceback": [
      "\u001b[0;31m---------------------------------------------------------------------------\u001b[0m",
      "\u001b[0;31mAttributeError\u001b[0m                            Traceback (most recent call last)",
      "\u001b[0;32m<ipython-input-22-5ec378df78d4>\u001b[0m in \u001b[0;36m<module>\u001b[0;34m\u001b[0m\n\u001b[0;32m----> 1\u001b[0;31m \u001b[0mlist_a\u001b[0m\u001b[0;34m.\u001b[0m\u001b[0mshape\u001b[0m\u001b[0;34m\u001b[0m\u001b[0;34m\u001b[0m\u001b[0m\n\u001b[0m",
      "\u001b[0;31mAttributeError\u001b[0m: 'list' object has no attribute 'shape'"
     ]
    }
   ],
   "source": [
    "list_a.shape"
   ]
  },
  {
   "cell_type": "code",
   "execution_count": 23,
   "metadata": {},
   "outputs": [
    {
     "output_type": "execute_result",
     "data": {
      "text/plain": [
       "3"
      ]
     },
     "metadata": {},
     "execution_count": 23
    }
   ],
   "source": [
    "len(list_a[0])"
   ]
  },
  {
   "cell_type": "code",
   "execution_count": 24,
   "metadata": {},
   "outputs": [
    {
     "output_type": "execute_result",
     "data": {
      "text/plain": [
       "3"
      ]
     },
     "metadata": {},
     "execution_count": 24
    }
   ],
   "source": [
    "len(list_a[1])"
   ]
  },
  {
   "cell_type": "code",
   "execution_count": 25,
   "metadata": {},
   "outputs": [],
   "source": [
    "list_b = list_a[0] + list_a[1]\n"
   ]
  },
  {
   "cell_type": "code",
   "execution_count": 26,
   "metadata": {},
   "outputs": [
    {
     "output_type": "stream",
     "name": "stdout",
     "text": [
      "[1, 2, 3, 4, 5, 6]\n"
     ]
    }
   ],
   "source": [
    "print(list_b)"
   ]
  },
  {
   "cell_type": "code",
   "execution_count": 27,
   "metadata": {},
   "outputs": [
    {
     "output_type": "stream",
     "name": "stdout",
     "text": [
      "[5 7 9]\n"
     ]
    }
   ],
   "source": [
    "array_b = array_a[0] + array_a[1]\n",
    "print(array_b)"
   ]
  },
  {
   "cell_type": "code",
   "execution_count": 28,
   "metadata": {},
   "outputs": [
    {
     "output_type": "execute_result",
     "data": {
      "text/plain": [
       "array([[1.        , 1.41421356, 1.73205081],\n",
       "       [2.        , 2.23606798, 2.44948974]])"
      ]
     },
     "metadata": {},
     "execution_count": 28
    }
   ],
   "source": [
    "np.sqrt(array_a)"
   ]
  },
  {
   "cell_type": "code",
   "execution_count": 29,
   "metadata": {},
   "outputs": [
    {
     "output_type": "execute_result",
     "data": {
      "text/plain": [
       "array([1.        , 1.41421356, 1.73205081, 2.        , 2.23606798,\n",
       "       2.44948974])"
      ]
     },
     "metadata": {},
     "execution_count": 29
    }
   ],
   "source": [
    "np.sqrt(list_b)"
   ]
  },
  {
   "cell_type": "code",
   "execution_count": null,
   "metadata": {
    "scrolled": true
   },
   "outputs": [],
   "source": []
  },
  {
   "cell_type": "markdown",
   "metadata": {
    "scrolled": true
   },
   "source": [
    "### String vs Object vs Numbers"
   ]
  },
  {
   "cell_type": "code",
   "execution_count": 35,
   "metadata": {},
   "outputs": [
    {
     "output_type": "execute_result",
     "data": {
      "text/plain": [
       "array([[   -1,    -1,    -1, ...,    -1,    -1,    -1],\n",
       "       [    1,    -1,    -1, ...,    -1,    -1, 16600],\n",
       "       [    2,    -1,    -1, ...,    -1,    -1, 16600],\n",
       "       ...,\n",
       "       [ 1041,    -1,    -1, ...,    -1,    -1, 16600],\n",
       "       [ 1042,    -1,    -1, ...,    -1,    -1, 15600],\n",
       "       [ 1043,    -1,    -1, ...,    -1,    -1, 16600]], dtype=int32)"
      ]
     },
     "metadata": {},
     "execution_count": 35
    }
   ],
   "source": [
    "lending_co_lt = np.genfromtxt(\"Lending-co-LT.csv\", delimiter= ',', dtype=np.int32)\n",
    "lending_co_lt"
   ]
  },
  {
   "cell_type": "code",
   "execution_count": 36,
   "metadata": {},
   "outputs": [
    {
     "output_type": "stream",
     "name": "stdout",
     "text": [
      "[[   -1    -1    -1 ...    -1    -1    -1]\n [    1    -1    -1 ...    -1    -1 16600]\n [    2    -1    -1 ...    -1    -1 16600]\n ...\n [ 1041    -1    -1 ...    -1    -1 16600]\n [ 1042    -1    -1 ...    -1    -1 15600]\n [ 1043    -1    -1 ...    -1    -1 16600]]\n"
     ]
    }
   ],
   "source": [
    "print(lending_co_lt)"
   ]
  },
  {
   "cell_type": "code",
   "execution_count": 37,
   "metadata": {},
   "outputs": [
    {
     "output_type": "execute_result",
     "data": {
      "text/plain": [
       "-2"
      ]
     },
     "metadata": {},
     "execution_count": 37
    }
   ],
   "source": [
    "lending_co_lt[0,0] + lending_co_lt[0,1]"
   ]
  },
  {
   "cell_type": "code",
   "execution_count": 38,
   "metadata": {},
   "outputs": [
    {
     "output_type": "execute_result",
     "data": {
      "text/plain": [
       "array([['LoanID', 'StringID', 'Product', ..., 'Location', 'Region',\n",
       "        'TotalPrice'],\n",
       "       ['1', 'id_1', 'Product B', ..., 'Location 2', 'Region 2',\n",
       "        '16600.0'],\n",
       "       ['2', 'id_2', 'Product B', ..., 'Location 3', '', '16600.0'],\n",
       "       ...,\n",
       "       ['1041', 'id_1041', 'Product B', ..., 'Location 23', 'Region 4',\n",
       "        '16600.0'],\n",
       "       ['1042', 'id_1042', 'Product C', ..., 'Location 52', 'Region 6',\n",
       "        '15600.0'],\n",
       "       ['1043', 'id_1043', 'Product B', ..., 'Location 142', 'Region 6',\n",
       "        '16600.0']], dtype='<U14')"
      ]
     },
     "metadata": {},
     "execution_count": 38
    }
   ],
   "source": [
    "lending_co_lt = np.genfromtxt(\"Lending-co-LT.csv\", delimiter= ',', dtype=str)\n",
    "lending_co_lt"
   ]
  },
  {
   "cell_type": "code",
   "execution_count": 40,
   "metadata": {},
   "outputs": [
    {
     "output_type": "execute_result",
     "data": {
      "text/plain": [
       "array([[b'LoanID', b'StringID', b'Product', ..., b'Location', b'Region',\n",
       "        b'TotalPrice'],\n",
       "       [b'1', b'id_1', b'Product B', ..., b'Location 2', b'Region 2',\n",
       "        b'16600.0'],\n",
       "       [b'2', b'id_2', b'Product B', ..., b'Location 3', b'', b'16600.0'],\n",
       "       ...,\n",
       "       [b'1041', b'id_1041', b'Product B', ..., b'Location 23',\n",
       "        b'Region 4', b'16600.0'],\n",
       "       [b'1042', b'id_1042', b'Product C', ..., b'Location 52',\n",
       "        b'Region 6', b'15600.0'],\n",
       "       [b'1043', b'id_1043', b'Product B', ..., b'Location 142',\n",
       "        b'Region 6', b'16600.0']], dtype=object)"
      ]
     },
     "metadata": {},
     "execution_count": 40
    }
   ],
   "source": [
    "lending_co_lt = np.genfromtxt(\"Lending-co-LT.csv\", delimiter= ',', dtype=object)\n",
    "lending_co_lt"
   ]
  },
  {
   "cell_type": "code",
   "execution_count": 43,
   "metadata": {},
   "outputs": [
    {
     "output_type": "execute_result",
     "data": {
      "text/plain": [
       "array([(  -1, '', '', '', '', '',    -1),\n",
       "       (   1, '', '', '', '', '', 16600),\n",
       "       (   2, '', '', '', '', '', 16600), ...,\n",
       "       (1041, '', '', '', '', '', 16600),\n",
       "       (1042, '', '', '', '', '', 15600),\n",
       "       (1043, '', '', '', '', '', 16600)],\n",
       "      dtype=[('f0', '<i4'), ('f1', '<U'), ('f2', '<U'), ('f3', '<U'), ('f4', '<U'), ('f5', '<U'), ('f6', '<i4')])"
      ]
     },
     "metadata": {},
     "execution_count": 43
    }
   ],
   "source": [
    "lending_co_lt = np.genfromtxt(\"Lending-co-LT.csv\", delimiter= ',', \n",
    "dtype = (np.int32, str, str, str, str, str, np.int32))\n",
    "lending_co_lt"
   ]
  },
  {
   "cell_type": "code",
   "execution_count": null,
   "metadata": {},
   "outputs": [],
   "source": []
  }
 ],
 "metadata": {
  "kernelspec": {
   "name": "python3",
   "display_name": "Python 3.8.3 64-bit ('base': conda)"
  },
  "language_info": {
   "codemirror_mode": {
    "name": "ipython",
    "version": 3
   },
   "file_extension": ".py",
   "mimetype": "text/x-python",
   "name": "python",
   "nbconvert_exporter": "python",
   "pygments_lexer": "ipython3",
   "version": "3.8.3"
  },
  "interpreter": {
   "hash": "dca0ade3e726a953b501b15e8e990130d2b7799f14cfd9f4271676035ebe5511"
  }
 },
 "nbformat": 4,
 "nbformat_minor": 2
}