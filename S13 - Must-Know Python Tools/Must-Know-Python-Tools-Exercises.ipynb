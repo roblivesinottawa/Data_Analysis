{
 "cells": [
  {
   "cell_type": "markdown",
   "metadata": {},
   "source": [
    "<hr style=\"border:5px solid #108999\"> </hr>"
   ]
  },
  {
   "cell_type": "markdown",
   "metadata": {},
   "source": [
    "# Must Know Python Tools <hr style=\"border:4.5px solid #108999\"> </hr>"
   ]
  },
  {
   "cell_type": "markdown",
   "metadata": {},
   "source": [
    "## Iterating Over Range Objects, <br><br> Nested For Loops - Introduction, <br><br> Triple Nested For Loops"
   ]
  },
  {
   "cell_type": "markdown",
   "metadata": {},
   "source": [
    "Create a 'range' object with a stop value of 10. \n",
    "Do this operation twice - once without indicating a start value, and then by indicating the start value of 0."
   ]
  },
  {
   "cell_type": "code",
   "execution_count": 3,
   "metadata": {},
   "outputs": [
    {
     "output_type": "execute_result",
     "data": {
      "text/plain": [
       "(3, 4, 5, 6)"
      ]
     },
     "metadata": {},
     "execution_count": 3
    }
   ],
   "source": [
    "t = (3,4,5,6)\n",
    "t"
   ]
  },
  {
   "cell_type": "code",
   "execution_count": 4,
   "metadata": {},
   "outputs": [
    {
     "output_type": "execute_result",
     "data": {
      "text/plain": [
       "tuple"
      ]
     },
     "metadata": {},
     "execution_count": 4
    }
   ],
   "source": [
    "type(t)"
   ]
  },
  {
   "cell_type": "code",
   "execution_count": 5,
   "metadata": {},
   "outputs": [
    {
     "output_type": "execute_result",
     "data": {
      "text/plain": [
       "[1, 2, 3, 4]"
      ]
     },
     "metadata": {},
     "execution_count": 5
    }
   ],
   "source": [
    "l = [1,2,3,4]\n",
    "l"
   ]
  },
  {
   "cell_type": "code",
   "execution_count": 6,
   "metadata": {},
   "outputs": [
    {
     "output_type": "execute_result",
     "data": {
      "text/plain": [
       "list"
      ]
     },
     "metadata": {},
     "execution_count": 6
    }
   ],
   "source": [
    "type(l)"
   ]
  },
  {
   "cell_type": "code",
   "execution_count": 7,
   "metadata": {},
   "outputs": [
    {
     "output_type": "execute_result",
     "data": {
      "text/plain": [
       "'azsdce'"
      ]
     },
     "metadata": {},
     "execution_count": 7
    }
   ],
   "source": [
    "s = 'azsdce'\n",
    "s"
   ]
  },
  {
   "cell_type": "code",
   "execution_count": 8,
   "metadata": {},
   "outputs": [
    {
     "output_type": "execute_result",
     "data": {
      "text/plain": [
       "str"
      ]
     },
     "metadata": {},
     "execution_count": 8
    }
   ],
   "source": [
    "type(s)"
   ]
  },
  {
   "cell_type": "code",
   "execution_count": 9,
   "metadata": {},
   "outputs": [
    {
     "output_type": "stream",
     "name": "stdout",
     "text": [
      "3 4 5 6 "
     ]
    }
   ],
   "source": [
    "for i in t:\n",
    "    print(i, end=\" \")"
   ]
  },
  {
   "cell_type": "code",
   "execution_count": 11,
   "metadata": {},
   "outputs": [
    {
     "output_type": "stream",
     "name": "stdout",
     "text": [
      "a z s d c e "
     ]
    }
   ],
   "source": [
    "for x in s:\n",
    "    print(x, end=\" \")"
   ]
  },
  {
   "cell_type": "code",
   "execution_count": 12,
   "metadata": {},
   "outputs": [
    {
     "output_type": "stream",
     "name": "stdout",
     "text": [
      "0 2 4 6 8 10 12 14 16 18 20 22 24 26 28 30 32 34 36 38 40 42 44 46 48 50 52 54 56 58 60 62 64 66 68 70 72 74 76 78 80 82 84 86 88 90 92 94 96 98 "
     ]
    }
   ],
   "source": [
    "for x in range(100):\n",
    "    if x % 2 == 0:\n",
    "        print(x, end=\" \")"
   ]
  },
  {
   "cell_type": "code",
   "execution_count": 21,
   "metadata": {},
   "outputs": [
    {
     "output_type": "stream",
     "name": "stdout",
     "text": [
      "[0, 0, 0] [0, 0, 1] [0, 0, 2] [0, 0, 3] [0, 0, 4] [0, 0, 5] [0, 0, 6] [0, 0, 7] [0, 0, 8] [0, 0, 9] [0, 1, 0] [0, 1, 1] [0, 1, 2] [0, 1, 3] [0, 1, 4] [0, 1, 5] [0, 1, 6] [0, 1, 7] [0, 1, 8] [0, 1, 9] [0, 2, 0] [0, 2, 1] [0, 2, 2] [0, 2, 3] [0, 2, 4] [0, 2, 5] [0, 2, 6] [0, 2, 7] [0, 2, 8] [0, 2, 9] [0, 3, 0] [0, 3, 1] [0, 3, 2] [0, 3, 3] [0, 3, 4] [0, 3, 5] [0, 3, 6] [0, 3, 7] [0, 3, 8] [0, 3, 9] [0, 4, 0] [0, 4, 1] [0, 4, 2] [0, 4, 3] [0, 4, 4] [0, 4, 5] [0, 4, 6] [0, 4, 7] [0, 4, 8] [0, 4, 9] [1, 0, 0] [1, 0, 1] [1, 0, 2] [1, 0, 3] [1, 0, 4] [1, 0, 5] [1, 0, 6] [1, 0, 7] [1, 0, 8] [1, 0, 9] [1, 1, 0] [1, 1, 1] [1, 1, 2] [1, 1, 3] [1, 1, 4] [1, 1, 5] [1, 1, 6] [1, 1, 7] [1, 1, 8] [1, 1, 9] [1, 2, 0] [1, 2, 1] [1, 2, 2] [1, 2, 3] [1, 2, 4] [1, 2, 5] [1, 2, 6] [1, 2, 7] [1, 2, 8] [1, 2, 9] [1, 3, 0] [1, 3, 1] [1, 3, 2] [1, 3, 3] [1, 3, 4] [1, 3, 5] [1, 3, 6] [1, 3, 7] [1, 3, 8] [1, 3, 9] [1, 4, 0] [1, 4, 1] [1, 4, 2] [1, 4, 3] [1, 4, 4] [1, 4, 5] [1, 4, 6] [1, 4, 7] [1, 4, 8] [1, 4, 9] [2, 0, 0] [2, 0, 1] [2, 0, 2] [2, 0, 3] [2, 0, 4] [2, 0, 5] [2, 0, 6] [2, 0, 7] [2, 0, 8] [2, 0, 9] [2, 1, 0] [2, 1, 1] [2, 1, 2] [2, 1, 3] [2, 1, 4] [2, 1, 5] [2, 1, 6] [2, 1, 7] [2, 1, 8] [2, 1, 9] [2, 2, 0] [2, 2, 1] [2, 2, 2] [2, 2, 3] [2, 2, 4] [2, 2, 5] [2, 2, 6] [2, 2, 7] [2, 2, 8] [2, 2, 9] [2, 3, 0] [2, 3, 1] [2, 3, 2] [2, 3, 3] [2, 3, 4] [2, 3, 5] [2, 3, 6] [2, 3, 7] [2, 3, 8] [2, 3, 9] [2, 4, 0] [2, 4, 1] [2, 4, 2] [2, 4, 3] [2, 4, 4] [2, 4, 5] [2, 4, 6] [2, 4, 7] [2, 4, 8] [2, 4, 9] "
     ]
    }
   ],
   "source": [
    "for i in range(3):\n",
    "    for j in range(5):\n",
    "        for k in range(10):\n",
    "            print([i, j, k], end=\" \")"
   ]
  },
  {
   "cell_type": "code",
   "execution_count": 22,
   "metadata": {},
   "outputs": [
    {
     "output_type": "stream",
     "name": "stdout",
     "text": [
      "['Product A', 0]\n['Product A', 1]\n['Product A', 2]\n['Product A', 3]\n['Product A', 4]\n['Product A', 5]\n['Product A', 6]\n['Product A', 7]\n['Product A', 8]\n['Product A', 9]\n['Product B', 0]\n['Product B', 1]\n['Product B', 2]\n['Product B', 3]\n['Product B', 4]\n['Product B', 5]\n['Product B', 6]\n['Product B', 7]\n['Product B', 8]\n['Product B', 9]\n"
     ]
    }
   ],
   "source": [
    "for i in ['Product A', 'Product B']:\n",
    "    for j in range(10):\n",
    "        print([i, j])"
   ]
  },
  {
   "cell_type": "code",
   "execution_count": 23,
   "metadata": {},
   "outputs": [
    {
     "output_type": "stream",
     "name": "stdout",
     "text": [
      "['Product A', 1000]\n['Product A', 2000]\n['Product A', 3000]\n['Product A', 4000]\n['Product A', 5000]\n['Product B', 1000]\n['Product B', 2000]\n['Product B', 3000]\n['Product B', 4000]\n['Product B', 5000]\n"
     ]
    }
   ],
   "source": [
    "products = ['Product A', 'Product B']\n",
    "expected_sales = [1000, 2000, 3000, 4000, 5000]\n",
    "\n",
    "for i in products:\n",
    "    for j in expected_sales:\n",
    "        print([i, j])"
   ]
  },
  {
   "cell_type": "code",
   "execution_count": 31,
   "metadata": {},
   "outputs": [
    {
     "output_type": "stream",
     "name": "stdout",
     "text": [
      "Product  | Expected Sales\n['Product A', 1000]\n['Product A', 3000]\n['Product A', 12000]\n['Product A', 2000]\n['Product A', 6000]\n['Product A', 24000]\n['Product A', 3000]\n['Product A', 9000]\n['Product A', 36000]\n['Product A', 4000]\n['Product A', 12000]\n['Product A', 48000]\n['Product A', 5000]\n['Product A', 15000]\n['Product A', 60000]\n['Product B', 1000]\n['Product B', 3000]\n['Product B', 12000]\n['Product B', 2000]\n['Product B', 6000]\n['Product B', 24000]\n['Product B', 3000]\n['Product B', 9000]\n['Product B', 36000]\n['Product B', 4000]\n['Product B', 12000]\n['Product B', 48000]\n['Product B', 5000]\n['Product B', 15000]\n['Product B', 60000]\n"
     ]
    }
   ],
   "source": [
    "print('Product  | Expected Sales')\n",
    "\n",
    "products = ['Product A', 'Product B']\n",
    "expected_sales = [1000, 2000, 3000, 4000, 5000]\n",
    "time_horizon = (1,3,12)\n",
    "\n",
    "for prod in products:\n",
    "    for sale in expected_sales:\n",
    "        for t_hor in time_horizon:\n",
    "            print([prod, sale*t_hor])"
   ]
  },
  {
   "cell_type": "code",
   "execution_count": null,
   "metadata": {},
   "outputs": [],
   "source": []
  },
  {
   "cell_type": "code",
   "execution_count": null,
   "metadata": {},
   "outputs": [],
   "source": []
  },
  {
   "cell_type": "code",
   "execution_count": 2,
   "metadata": {},
   "outputs": [
    {
     "name": "stdout",
     "output_type": "stream",
     "text": [
      "0\n",
      "1\n",
      "2\n",
      "3\n",
      "4\n",
      "5\n",
      "6\n",
      "7\n",
      "8\n",
      "9\n",
      "10\n"
     ]
    }
   ],
   "source": [
    "for x in range(11):\n",
    "    print(x)"
   ]
  },
  {
   "cell_type": "code",
   "execution_count": 3,
   "metadata": {},
   "outputs": [
    {
     "name": "stdout",
     "output_type": "stream",
     "text": [
      "0\n",
      "1\n",
      "2\n",
      "3\n",
      "4\n",
      "5\n",
      "6\n",
      "7\n",
      "8\n",
      "9\n",
      "10\n"
     ]
    }
   ],
   "source": [
    "for x in range(0, 11):\n",
    "    print(x)"
   ]
  },
  {
   "cell_type": "markdown",
   "metadata": {},
   "source": [
    "Turn this 'range' object into a list of values."
   ]
  },
  {
   "cell_type": "code",
   "execution_count": 4,
   "metadata": {},
   "outputs": [
    {
     "data": {
      "text/plain": [
       "[0, 1, 2, 3, 4, 5, 6, 7, 8, 9, 10]"
      ]
     },
     "execution_count": 4,
     "metadata": {},
     "output_type": "execute_result"
    }
   ],
   "source": [
    "x = list(range(11))\n",
    "x"
   ]
  },
  {
   "cell_type": "markdown",
   "metadata": {},
   "source": [
    "Obtain all integers from 0 to 9 again, this time using a for-loop with a range() function. Let Python display the values in the output vertically."
   ]
  },
  {
   "cell_type": "code",
   "execution_count": 9,
   "metadata": {},
   "outputs": [
    {
     "name": "stdout",
     "output_type": "stream",
     "text": [
      "0\n",
      "1\n",
      "2\n",
      "3\n",
      "4\n",
      "5\n",
      "6\n",
      "7\n",
      "8\n",
      "9\n"
     ]
    }
   ],
   "source": [
    "for y in range(10):\n",
    "    print(y)"
   ]
  },
  {
   "cell_type": "markdown",
   "metadata": {},
   "source": [
    "Repeat the same task, this time printing the values from the output on the same line."
   ]
  },
  {
   "cell_type": "code",
   "execution_count": 10,
   "metadata": {},
   "outputs": [
    {
     "name": "stdout",
     "output_type": "stream",
     "text": [
      "0 1 2 3 4 5 6 7 8 9 "
     ]
    }
   ],
   "source": [
    "for i in range(10):\n",
    "    print(i, end=\" \")"
   ]
  },
  {
   "cell_type": "markdown",
   "metadata": {},
   "source": [
    "Create a nested loop that delivers all possible combinations of the elements from the following two lists in the form of lists:"
   ]
  },
  {
   "cell_type": "code",
   "execution_count": 11,
   "metadata": {},
   "outputs": [],
   "source": [
    "products_on_sale = ['Chair_Type_1', 'Chair_Type_2', 'Chair_Type_3', 'Chair_Type_4']\n",
    "sale_prices = [100, 120, 135, 150]"
   ]
  },
  {
   "cell_type": "code",
   "execution_count": 12,
   "metadata": {},
   "outputs": [
    {
     "name": "stdout",
     "output_type": "stream",
     "text": [
      "['Chair_Type_1', 100]\n",
      "['Chair_Type_1', 120]\n",
      "['Chair_Type_1', 135]\n",
      "['Chair_Type_1', 150]\n",
      "['Chair_Type_2', 100]\n",
      "['Chair_Type_2', 120]\n",
      "['Chair_Type_2', 135]\n",
      "['Chair_Type_2', 150]\n",
      "['Chair_Type_3', 100]\n",
      "['Chair_Type_3', 120]\n",
      "['Chair_Type_3', 135]\n",
      "['Chair_Type_3', 150]\n",
      "['Chair_Type_4', 100]\n",
      "['Chair_Type_4', 120]\n",
      "['Chair_Type_4', 135]\n",
      "['Chair_Type_4', 150]\n"
     ]
    }
   ],
   "source": [
    "for x in products_on_sale:\n",
    "    for y in sale_prices:\n",
    "        print([x, y])"
   ]
  },
  {
   "cell_type": "markdown",
   "metadata": {},
   "source": [
    "Consider the following list with data, which is our third for this exercise. It represents the possible quantities in which the relevant items can be put on sale."
   ]
  },
  {
   "cell_type": "code",
   "execution_count": 13,
   "metadata": {},
   "outputs": [],
   "source": [
    "quantities = [1000, 1500, 1300]"
   ]
  },
  {
   "cell_type": "markdown",
   "metadata": {},
   "source": [
    "Create a triple nested loop that shows the potential revenue generated from each chair type. Use iterator variables with more meaningful names than letters such as i, j, k.\n",
    "<br>Present two versions of the nested loop. Let the first one return a Python list where the chair type is the first element, while the potential revenue is the second element. \n",
    "<br>Then, let the second loop return a more presentable output, where the quantity and potential revenue have been explicitly stated."
   ]
  },
  {
   "cell_type": "code",
   "execution_count": 17,
   "metadata": {},
   "outputs": [
    {
     "name": "stdout",
     "output_type": "stream",
     "text": [
      "['Chair_Type_1', 100000]\n",
      "['Chair_Type_1', 150000]\n",
      "['Chair_Type_1', 130000]\n",
      "['Chair_Type_1', 120000]\n",
      "['Chair_Type_1', 180000]\n",
      "['Chair_Type_1', 156000]\n",
      "['Chair_Type_1', 135000]\n",
      "['Chair_Type_1', 202500]\n",
      "['Chair_Type_1', 175500]\n",
      "['Chair_Type_1', 150000]\n",
      "['Chair_Type_1', 225000]\n",
      "['Chair_Type_1', 195000]\n",
      "['Chair_Type_2', 100000]\n",
      "['Chair_Type_2', 150000]\n",
      "['Chair_Type_2', 130000]\n",
      "['Chair_Type_2', 120000]\n",
      "['Chair_Type_2', 180000]\n",
      "['Chair_Type_2', 156000]\n",
      "['Chair_Type_2', 135000]\n",
      "['Chair_Type_2', 202500]\n",
      "['Chair_Type_2', 175500]\n",
      "['Chair_Type_2', 150000]\n",
      "['Chair_Type_2', 225000]\n",
      "['Chair_Type_2', 195000]\n",
      "['Chair_Type_3', 100000]\n",
      "['Chair_Type_3', 150000]\n",
      "['Chair_Type_3', 130000]\n",
      "['Chair_Type_3', 120000]\n",
      "['Chair_Type_3', 180000]\n",
      "['Chair_Type_3', 156000]\n",
      "['Chair_Type_3', 135000]\n",
      "['Chair_Type_3', 202500]\n",
      "['Chair_Type_3', 175500]\n",
      "['Chair_Type_3', 150000]\n",
      "['Chair_Type_3', 225000]\n",
      "['Chair_Type_3', 195000]\n",
      "['Chair_Type_4', 100000]\n",
      "['Chair_Type_4', 150000]\n",
      "['Chair_Type_4', 130000]\n",
      "['Chair_Type_4', 120000]\n",
      "['Chair_Type_4', 180000]\n",
      "['Chair_Type_4', 156000]\n",
      "['Chair_Type_4', 135000]\n",
      "['Chair_Type_4', 202500]\n",
      "['Chair_Type_4', 175500]\n",
      "['Chair_Type_4', 150000]\n",
      "['Chair_Type_4', 225000]\n",
      "['Chair_Type_4', 195000]\n"
     ]
    }
   ],
   "source": [
    "for chair_type in products_on_sale:\n",
    "    for price in sale_prices:\n",
    "        for quantity in quantities:\n",
    "            print([chair_type, price*quantity])"
   ]
  },
  {
   "cell_type": "code",
   "execution_count": 20,
   "metadata": {},
   "outputs": [
    {
     "name": "stdout",
     "output_type": "stream",
     "text": [
      "Expected revenue for Chair_Type_1 if 1000 chairs are to be sold: 100000\n",
      "Expected revenue for Chair_Type_1 if 1500 chairs are to be sold: 150000\n",
      "Expected revenue for Chair_Type_1 if 1300 chairs are to be sold: 130000\n",
      "Expected revenue for Chair_Type_1 if 1000 chairs are to be sold: 120000\n",
      "Expected revenue for Chair_Type_1 if 1500 chairs are to be sold: 180000\n",
      "Expected revenue for Chair_Type_1 if 1300 chairs are to be sold: 156000\n",
      "Expected revenue for Chair_Type_1 if 1000 chairs are to be sold: 135000\n",
      "Expected revenue for Chair_Type_1 if 1500 chairs are to be sold: 202500\n",
      "Expected revenue for Chair_Type_1 if 1300 chairs are to be sold: 175500\n",
      "Expected revenue for Chair_Type_1 if 1000 chairs are to be sold: 150000\n",
      "Expected revenue for Chair_Type_1 if 1500 chairs are to be sold: 225000\n",
      "Expected revenue for Chair_Type_1 if 1300 chairs are to be sold: 195000\n",
      "Expected revenue for Chair_Type_2 if 1000 chairs are to be sold: 100000\n",
      "Expected revenue for Chair_Type_2 if 1500 chairs are to be sold: 150000\n",
      "Expected revenue for Chair_Type_2 if 1300 chairs are to be sold: 130000\n",
      "Expected revenue for Chair_Type_2 if 1000 chairs are to be sold: 120000\n",
      "Expected revenue for Chair_Type_2 if 1500 chairs are to be sold: 180000\n",
      "Expected revenue for Chair_Type_2 if 1300 chairs are to be sold: 156000\n",
      "Expected revenue for Chair_Type_2 if 1000 chairs are to be sold: 135000\n",
      "Expected revenue for Chair_Type_2 if 1500 chairs are to be sold: 202500\n",
      "Expected revenue for Chair_Type_2 if 1300 chairs are to be sold: 175500\n",
      "Expected revenue for Chair_Type_2 if 1000 chairs are to be sold: 150000\n",
      "Expected revenue for Chair_Type_2 if 1500 chairs are to be sold: 225000\n",
      "Expected revenue for Chair_Type_2 if 1300 chairs are to be sold: 195000\n",
      "Expected revenue for Chair_Type_3 if 1000 chairs are to be sold: 100000\n",
      "Expected revenue for Chair_Type_3 if 1500 chairs are to be sold: 150000\n",
      "Expected revenue for Chair_Type_3 if 1300 chairs are to be sold: 130000\n",
      "Expected revenue for Chair_Type_3 if 1000 chairs are to be sold: 120000\n",
      "Expected revenue for Chair_Type_3 if 1500 chairs are to be sold: 180000\n",
      "Expected revenue for Chair_Type_3 if 1300 chairs are to be sold: 156000\n",
      "Expected revenue for Chair_Type_3 if 1000 chairs are to be sold: 135000\n",
      "Expected revenue for Chair_Type_3 if 1500 chairs are to be sold: 202500\n",
      "Expected revenue for Chair_Type_3 if 1300 chairs are to be sold: 175500\n",
      "Expected revenue for Chair_Type_3 if 1000 chairs are to be sold: 150000\n",
      "Expected revenue for Chair_Type_3 if 1500 chairs are to be sold: 225000\n",
      "Expected revenue for Chair_Type_3 if 1300 chairs are to be sold: 195000\n",
      "Expected revenue for Chair_Type_4 if 1000 chairs are to be sold: 100000\n",
      "Expected revenue for Chair_Type_4 if 1500 chairs are to be sold: 150000\n",
      "Expected revenue for Chair_Type_4 if 1300 chairs are to be sold: 130000\n",
      "Expected revenue for Chair_Type_4 if 1000 chairs are to be sold: 120000\n",
      "Expected revenue for Chair_Type_4 if 1500 chairs are to be sold: 180000\n",
      "Expected revenue for Chair_Type_4 if 1300 chairs are to be sold: 156000\n",
      "Expected revenue for Chair_Type_4 if 1000 chairs are to be sold: 135000\n",
      "Expected revenue for Chair_Type_4 if 1500 chairs are to be sold: 202500\n",
      "Expected revenue for Chair_Type_4 if 1300 chairs are to be sold: 175500\n",
      "Expected revenue for Chair_Type_4 if 1000 chairs are to be sold: 150000\n",
      "Expected revenue for Chair_Type_4 if 1500 chairs are to be sold: 225000\n",
      "Expected revenue for Chair_Type_4 if 1300 chairs are to be sold: 195000\n"
     ]
    }
   ],
   "source": [
    "for chair_type in products_on_sale:\n",
    "    for price in sale_prices:\n",
    "        for quantity in quantities:\n",
    "            print(f'Expected revenue for {chair_type} if {quantity} chairs are to be sold: {(price*quantity)}')"
   ]
  },
  {
   "cell_type": "markdown",
   "metadata": {},
   "source": [
    "## List Comprehensions"
   ]
  },
  {
   "cell_type": "markdown",
   "metadata": {},
   "source": [
    "Execute the code cell below to create the following three lists: **products_on_sale**, **sale_prices**, **quantities**"
   ]
  },
  {
   "cell_type": "code",
   "execution_count": 35,
   "metadata": {},
   "outputs": [
    {
     "output_type": "execute_result",
     "data": {
      "text/plain": [
       "[1, 4, 49, 56, 89, 100]"
      ]
     },
     "metadata": {},
     "execution_count": 35
    }
   ],
   "source": [
    "numbers = [1, 4, 49, 56, 89, 100]\n",
    "numbers"
   ]
  },
  {
   "cell_type": "code",
   "execution_count": 36,
   "metadata": {},
   "outputs": [
    {
     "output_type": "stream",
     "name": "stdout",
     "text": [
      "[2, 8, 98, 112, 178, 200]\n"
     ]
    }
   ],
   "source": [
    "new_numbers = []\n",
    "\n",
    "for n in numbers:\n",
    "    new_numbers.append(n * 2)\n",
    "\n",
    "print(new_numbers)"
   ]
  },
  {
   "cell_type": "code",
   "execution_count": 37,
   "metadata": {},
   "outputs": [
    {
     "output_type": "stream",
     "name": "stdout",
     "text": [
      "[2, 8, 98, 112, 178, 200]\n"
     ]
    }
   ],
   "source": [
    "new_numbers = [n * 2 for n in numbers]\n",
    "print(new_numbers)"
   ]
  },
  {
   "cell_type": "code",
   "execution_count": 43,
   "metadata": {},
   "outputs": [
    {
     "output_type": "stream",
     "name": "stdout",
     "text": [
      "[1, 49, 89]\n"
     ]
    }
   ],
   "source": [
    "odd_numbers = [n for n in numbers if n % 2 != 0]\n",
    "print(odd_numbers)"
   ]
  },
  {
   "cell_type": "code",
   "execution_count": 44,
   "metadata": {},
   "outputs": [
    {
     "output_type": "stream",
     "name": "stdout",
     "text": [
      "[4, 56, 100]\n"
     ]
    }
   ],
   "source": [
    "even_numbers = [n for n in numbers if n % 2 == 0]\n",
    "print(even_numbers)"
   ]
  },
  {
   "cell_type": "code",
   "execution_count": 45,
   "metadata": {},
   "outputs": [
    {
     "output_type": "execute_result",
     "data": {
      "text/plain": [
       "list"
      ]
     },
     "metadata": {},
     "execution_count": 45
    }
   ],
   "source": [
    "type(even_numbers)"
   ]
  },
  {
   "cell_type": "code",
   "execution_count": 46,
   "metadata": {},
   "outputs": [
    {
     "output_type": "stream",
     "name": "stdout",
     "text": [
      "[1, 0, 0, 0, 0, 0, 0, 0, 0, 0, 0, 0, 0, 0, 0, 0, 0, 0, 0, 0, 1, 1, 1, 1, 1, 1, 1, 1, 1, 1, 1, 1, 1, 1, 1, 1, 1, 1, 1, 1, 1, 2, 4, 8, 16, 32, 64, 128, 256, 512, 1024, 2048, 4096, 8192, 16384, 32768, 65536, 131072, 262144, 524288, 1, 3, 9, 27, 81, 243, 729, 2187, 6561, 19683, 59049, 177147, 531441, 1594323, 4782969, 14348907, 43046721, 129140163, 387420489, 1162261467, 1, 4, 16, 64, 256, 1024, 4096, 16384, 65536, 262144, 1048576, 4194304, 16777216, 67108864, 268435456, 1073741824, 4294967296, 17179869184, 68719476736, 274877906944, 1, 5, 25, 125, 625, 3125, 15625, 78125, 390625, 1953125, 9765625, 48828125, 244140625, 1220703125, 6103515625, 30517578125, 152587890625, 762939453125, 3814697265625, 19073486328125, 1, 6, 36, 216, 1296, 7776, 46656, 279936, 1679616, 10077696, 60466176, 362797056, 2176782336, 13060694016, 78364164096, 470184984576, 2821109907456, 16926659444736, 101559956668416, 609359740010496, 1, 7, 49, 343, 2401, 16807, 117649, 823543, 5764801, 40353607, 282475249, 1977326743, 13841287201, 96889010407, 678223072849, 4747561509943, 33232930569601, 232630513987207, 1628413597910449, 11398895185373143, 1, 8, 64, 512, 4096, 32768, 262144, 2097152, 16777216, 134217728, 1073741824, 8589934592, 68719476736, 549755813888, 4398046511104, 35184372088832, 281474976710656, 2251799813685248, 18014398509481984, 144115188075855872, 1, 9, 81, 729, 6561, 59049, 531441, 4782969, 43046721, 387420489, 3486784401, 31381059609, 282429536481, 2541865828329, 22876792454961, 205891132094649, 1853020188851841, 16677181699666569, 150094635296999121, 1350851717672992089]\n"
     ]
    }
   ],
   "source": [
    "result = [n**m for n in range(10) for m in range(20)]\n",
    "print(result)"
   ]
  },
  {
   "cell_type": "code",
   "execution_count": 50,
   "metadata": {},
   "outputs": [
    {
     "output_type": "execute_result",
     "data": {
      "text/plain": [
       "[1, 2, 3, 4, 5, 6, 7, 8, 9, 10]"
      ]
     },
     "metadata": {},
     "execution_count": 50
    }
   ],
   "source": [
    "list(range(1, 11))"
   ]
  },
  {
   "cell_type": "code",
   "execution_count": 51,
   "metadata": {},
   "outputs": [
    {
     "output_type": "execute_result",
     "data": {
      "text/plain": [
       "[8, 64, 216, 512, 1000]"
      ]
     },
     "metadata": {},
     "execution_count": 51
    }
   ],
   "source": [
    "[num ** 3 for num in range(1, 11) if num % 2 == 0]\n"
   ]
  },
  {
   "cell_type": "code",
   "execution_count": 52,
   "metadata": {},
   "outputs": [
    {
     "output_type": "execute_result",
     "data": {
      "text/plain": [
       "['odd',\n",
       " 4,\n",
       " 'odd',\n",
       " 16,\n",
       " 'odd',\n",
       " 36,\n",
       " 'odd',\n",
       " 64,\n",
       " 'odd',\n",
       " 100,\n",
       " 'odd',\n",
       " 144,\n",
       " 'odd',\n",
       " 196,\n",
       " 'odd',\n",
       " 256,\n",
       " 'odd',\n",
       " 324,\n",
       " 'odd',\n",
       " 400]"
      ]
     },
     "metadata": {},
     "execution_count": 52
    }
   ],
   "source": [
    "[num ** 2 if num % 2 == 0 else \"odd\" for num in range(1, 21)]"
   ]
  },
  {
   "cell_type": "code",
   "execution_count": 32,
   "metadata": {},
   "outputs": [],
   "source": [
    "products_on_sale = ['Chair_Type_1', 'Chair_Type_2', 'Chair_Type_3', 'Chair_Type_4']\n",
    "sale_prices = [100, 120, 135, 150]\n",
    "quantities = [1000, 1500, 1300]"
   ]
  },
  {
   "cell_type": "markdown",
   "metadata": {},
   "source": [
    "The following code cell will execute a nested loop that will deliver all possible combinations of the elements from the **products_on_sale**, **sale_prices** and **quantities** lists:"
   ]
  },
  {
   "cell_type": "code",
   "execution_count": 33,
   "metadata": {},
   "outputs": [
    {
     "output_type": "stream",
     "name": "stdout",
     "text": [
      "['Chair_Type_1', 100000]\n['Chair_Type_1', 150000]\n['Chair_Type_1', 130000]\n['Chair_Type_1', 120000]\n['Chair_Type_1', 180000]\n['Chair_Type_1', 156000]\n['Chair_Type_1', 135000]\n['Chair_Type_1', 202500]\n['Chair_Type_1', 175500]\n['Chair_Type_1', 150000]\n['Chair_Type_1', 225000]\n['Chair_Type_1', 195000]\n['Chair_Type_2', 100000]\n['Chair_Type_2', 150000]\n['Chair_Type_2', 130000]\n['Chair_Type_2', 120000]\n['Chair_Type_2', 180000]\n['Chair_Type_2', 156000]\n['Chair_Type_2', 135000]\n['Chair_Type_2', 202500]\n['Chair_Type_2', 175500]\n['Chair_Type_2', 150000]\n['Chair_Type_2', 225000]\n['Chair_Type_2', 195000]\n['Chair_Type_3', 100000]\n['Chair_Type_3', 150000]\n['Chair_Type_3', 130000]\n['Chair_Type_3', 120000]\n['Chair_Type_3', 180000]\n['Chair_Type_3', 156000]\n['Chair_Type_3', 135000]\n['Chair_Type_3', 202500]\n['Chair_Type_3', 175500]\n['Chair_Type_3', 150000]\n['Chair_Type_3', 225000]\n['Chair_Type_3', 195000]\n['Chair_Type_4', 100000]\n['Chair_Type_4', 150000]\n['Chair_Type_4', 130000]\n['Chair_Type_4', 120000]\n['Chair_Type_4', 180000]\n['Chair_Type_4', 156000]\n['Chair_Type_4', 135000]\n['Chair_Type_4', 202500]\n['Chair_Type_4', 175500]\n['Chair_Type_4', 150000]\n['Chair_Type_4', 225000]\n['Chair_Type_4', 195000]\n"
     ]
    }
   ],
   "source": [
    "for chair_type in products_on_sale:\n",
    "    for price in sale_prices:\n",
    "        for quantity in quantities:\n",
    "            print ([chair_type, price*quantity])"
   ]
  },
  {
   "cell_type": "markdown",
   "metadata": {},
   "source": [
    "Use a list comprehension to obtain the same output. Store it in a variable called **sales_revenue**. <br/>\n",
    "Make sure you refrain from obtaining any inexistent \"None\" values."
   ]
  },
  {
   "cell_type": "code",
   "execution_count": 34,
   "metadata": {},
   "outputs": [
    {
     "output_type": "stream",
     "name": "stdout",
     "text": [
      "Chair_Type_1 100000\nChair_Type_1 150000\nChair_Type_1 130000\nChair_Type_1 120000\nChair_Type_1 180000\nChair_Type_1 156000\nChair_Type_1 135000\nChair_Type_1 202500\nChair_Type_1 175500\nChair_Type_1 150000\nChair_Type_1 225000\nChair_Type_1 195000\nChair_Type_2 100000\nChair_Type_2 150000\nChair_Type_2 130000\nChair_Type_2 120000\nChair_Type_2 180000\nChair_Type_2 156000\nChair_Type_2 135000\nChair_Type_2 202500\nChair_Type_2 175500\nChair_Type_2 150000\nChair_Type_2 225000\nChair_Type_2 195000\nChair_Type_3 100000\nChair_Type_3 150000\nChair_Type_3 130000\nChair_Type_3 120000\nChair_Type_3 180000\nChair_Type_3 156000\nChair_Type_3 135000\nChair_Type_3 202500\nChair_Type_3 175500\nChair_Type_3 150000\nChair_Type_3 225000\nChair_Type_3 195000\nChair_Type_4 100000\nChair_Type_4 150000\nChair_Type_4 130000\nChair_Type_4 120000\nChair_Type_4 180000\nChair_Type_4 156000\nChair_Type_4 135000\nChair_Type_4 202500\nChair_Type_4 175500\nChair_Type_4 150000\nChair_Type_4 225000\nChair_Type_4 195000\n"
     ]
    }
   ],
   "source": [
    "sales_revenue = filter(None, [print(chair_type, price*quantity) for chair_type in products_on_sale for price in sale_prices for quantity in quantities])"
   ]
  },
  {
   "cell_type": "markdown",
   "metadata": {},
   "source": [
    "**List comprehensions with Conditionals**\n",
    "<br> <br> **Conditional on the iterable**"
   ]
  },
  {
   "cell_type": "markdown",
   "metadata": {},
   "source": [
    "Use a list comprehension to return a list with all even numbers between 1 and 10 inclusive, multiplied by 10."
   ]
  },
  {
   "cell_type": "code",
   "execution_count": 54,
   "metadata": {},
   "outputs": [
    {
     "output_type": "execute_result",
     "data": {
      "text/plain": [
       "[1, 2, 3, 4, 5, 6, 7, 8, 9, 10]"
      ]
     },
     "metadata": {},
     "execution_count": 54
    }
   ],
   "source": [
    "list(range(1, 11))"
   ]
  },
  {
   "cell_type": "code",
   "execution_count": 55,
   "metadata": {},
   "outputs": [
    {
     "output_type": "execute_result",
     "data": {
      "text/plain": [
       "[20, 40, 60, 80, 100]"
      ]
     },
     "metadata": {},
     "execution_count": 55
    }
   ],
   "source": [
    "[num * 10 for num in range(1, 11) if num % 2 == 0]"
   ]
  },
  {
   "cell_type": "markdown",
   "metadata": {},
   "source": [
    "We consider the previous answer as the Pythonic way to obtain the output because it involved the use of a list comprehension.\n",
    "Can you think of a way to obtain identical output in the \"Non-Pythonic\" way, i.e. by using a double nested loop?"
   ]
  },
  {
   "cell_type": "code",
   "execution_count": 61,
   "metadata": {},
   "outputs": [
    {
     "output_type": "stream",
     "name": "stdout",
     "text": [
      "20 40 60 80 100 "
     ]
    }
   ],
   "source": [
    "for num in range(1, 11):\n",
    "    if num % 2 == 0:\n",
    "        print(num * 10, end=\" \")"
   ]
  },
  {
   "cell_type": "markdown",
   "metadata": {},
   "source": [
    "**Conditional on the output**"
   ]
  },
  {
   "cell_type": "markdown",
   "metadata": {},
   "source": [
    "Return a list that contains the element from range(1, 11) multiplied by 10 if the number is even, and \"None\" if that number is odd."
   ]
  },
  {
   "cell_type": "code",
   "execution_count": 64,
   "metadata": {},
   "outputs": [
    {
     "output_type": "execute_result",
     "data": {
      "text/plain": [
       "['None', 20, 'None', 40, 'None', 60, 'None', 80, 'None', 100]"
      ]
     },
     "metadata": {},
     "execution_count": 64
    }
   ],
   "source": [
    "[n * 10 if n % 2 == 0 else \"None\" for n in range(1, 11)]"
   ]
  },
  {
   "cell_type": "markdown",
   "metadata": {},
   "source": [
    "## Anonymous Functions"
   ]
  },
  {
   "cell_type": "markdown",
   "metadata": {},
   "source": [
    "Define a function called **multiply_by_10** that will return a value ten times bigger than the argument."
   ]
  },
  {
   "cell_type": "code",
   "execution_count": 67,
   "metadata": {},
   "outputs": [],
   "source": [
    "def multiply_by_10(n):\n",
    "    return n * 10\n",
    "\n"
   ]
  },
  {
   "cell_type": "markdown",
   "metadata": {},
   "source": [
    "Apply **multiply_by_10** to the argument of 5. Clearly, you should obtain 50."
   ]
  },
  {
   "cell_type": "code",
   "execution_count": 68,
   "metadata": {},
   "outputs": [
    {
     "output_type": "execute_result",
     "data": {
      "text/plain": [
       "50"
      ]
     },
     "metadata": {},
     "execution_count": 68
    }
   ],
   "source": [
    "multiply_by_10(5)"
   ]
  },
  {
   "cell_type": "markdown",
   "metadata": {},
   "source": [
    "#### Lambda Functions"
   ]
  },
  {
   "cell_type": "markdown",
   "metadata": {},
   "source": [
    "This time, create **multiply_by_10** as a Lambda funciton. Execute it with an argument of 7."
   ]
  },
  {
   "cell_type": "code",
   "execution_count": 69,
   "metadata": {},
   "outputs": [
    {
     "output_type": "execute_result",
     "data": {
      "text/plain": [
       "70"
      ]
     },
     "metadata": {},
     "execution_count": 69
    }
   ],
   "source": [
    "(lambda n: n * 10)(7)"
   ]
  },
  {
   "cell_type": "markdown",
   "metadata": {},
   "source": [
    "Define a Lambda function named **product_xy** that returns the product of two parameters, x and y. Execute it with arguments 4 and 20."
   ]
  },
  {
   "cell_type": "code",
   "execution_count": 73,
   "metadata": {},
   "outputs": [
    {
     "output_type": "execute_result",
     "data": {
      "text/plain": [
       "80"
      ]
     },
     "metadata": {},
     "execution_count": 73
    }
   ],
   "source": [
    "product_xy = (lambda x, y : x * y)(4, 20)\n",
    "product_xy"
   ]
  },
  {
   "cell_type": "markdown",
   "metadata": {},
   "source": [
    "Create a Lambda function that returns the output of the following mathematical expression. Execute it with an argument of 13."
   ]
  },
  {
   "cell_type": "code",
   "execution_count": 76,
   "metadata": {},
   "outputs": [
    {
     "output_type": "execute_result",
     "data": {
      "text/plain": [
       "132860.25"
      ]
     },
     "metadata": {},
     "execution_count": 76
    }
   ],
   "source": [
    "(lambda x: (135 - x ** 3) ** 4 / (1 + x) ** 5)(3)"
   ]
  },
  {
   "cell_type": "code",
   "execution_count": 75,
   "metadata": {},
   "outputs": [
    {
     "output_type": "execute_result",
     "data": {
      "text/plain": [
       "33613556.48006783"
      ]
     },
     "metadata": {},
     "execution_count": 75
    }
   ],
   "source": [
    "(lambda x: (135 - x ** 3) ** 4 / (1 + x) ** 5)(13)"
   ]
  },
  {
   "cell_type": "code",
   "execution_count": 77,
   "metadata": {},
   "outputs": [],
   "source": [
    "def raise_to_power_2(x):\n",
    "    return x ** 2"
   ]
  },
  {
   "cell_type": "code",
   "execution_count": 78,
   "metadata": {},
   "outputs": [
    {
     "output_type": "execute_result",
     "data": {
      "text/plain": [
       "9"
      ]
     },
     "metadata": {},
     "execution_count": 78
    }
   ],
   "source": [
    "raise_to_power_2(3)"
   ]
  },
  {
   "cell_type": "code",
   "execution_count": 79,
   "metadata": {},
   "outputs": [
    {
     "output_type": "execute_result",
     "data": {
      "text/plain": [
       "9"
      ]
     },
     "metadata": {},
     "execution_count": 79
    }
   ],
   "source": [
    "(lambda x: x ** 2)(3)"
   ]
  },
  {
   "cell_type": "code",
   "execution_count": 80,
   "metadata": {},
   "outputs": [
    {
     "output_type": "execute_result",
     "data": {
      "text/plain": [
       "function"
      ]
     },
     "metadata": {},
     "execution_count": 80
    }
   ],
   "source": [
    "type(lambda x: x ** 2)"
   ]
  },
  {
   "cell_type": "code",
   "execution_count": 81,
   "metadata": {},
   "outputs": [
    {
     "output_type": "execute_result",
     "data": {
      "text/plain": [
       "20"
      ]
     },
     "metadata": {},
     "execution_count": 81
    }
   ],
   "source": [
    "(lambda x: x + x)(10)"
   ]
  },
  {
   "cell_type": "code",
   "execution_count": 84,
   "metadata": {},
   "outputs": [
    {
     "output_type": "execute_result",
     "data": {
      "text/plain": [
       "10"
      ]
     },
     "metadata": {},
     "execution_count": 84
    }
   ],
   "source": [
    "(lambda x, y : x - y)(20, 10)"
   ]
  },
  {
   "cell_type": "code",
   "execution_count": 89,
   "metadata": {},
   "outputs": [
    {
     "output_type": "execute_result",
     "data": {
      "text/plain": [
       "2"
      ]
     },
     "metadata": {},
     "execution_count": 89
    }
   ],
   "source": [
    "int((lambda x, y : x / y)(20.0, 10.0))"
   ]
  },
  {
   "cell_type": "code",
   "execution_count": null,
   "metadata": {},
   "outputs": [],
   "source": []
  }
 ],
 "metadata": {
  "kernelspec": {
   "name": "python3",
   "display_name": "Python 3.8.3 64-bit ('base': conda)"
  },
  "language_info": {
   "codemirror_mode": {
    "name": "ipython",
    "version": 3
   },
   "file_extension": ".py",
   "mimetype": "text/x-python",
   "name": "python",
   "nbconvert_exporter": "python",
   "pygments_lexer": "ipython3",
   "version": "3.8.3"
  },
  "interpreter": {
   "hash": "dca0ade3e726a953b501b15e8e990130d2b7799f14cfd9f4271676035ebe5511"
  }
 },
 "nbformat": 4,
 "nbformat_minor": 2
}