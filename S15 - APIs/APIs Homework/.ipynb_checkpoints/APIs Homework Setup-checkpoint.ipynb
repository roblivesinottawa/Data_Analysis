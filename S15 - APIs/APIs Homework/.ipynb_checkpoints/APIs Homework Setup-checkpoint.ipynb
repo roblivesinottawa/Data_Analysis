{
 "cells": [
  {
   "cell_type": "code",
   "execution_count": 15,
   "metadata": {},
   "outputs": [],
   "source": [
    "# Import the relevant modules\n",
    "import requests\n",
    "import json"
   ]
  },
  {
   "cell_type": "code",
   "execution_count": 16,
   "metadata": {},
   "outputs": [],
   "source": [
    "# The documentation for this particular API can be found here:\n",
    "# https://affiliate.itunes.apple.com/resources/documentation/itunes-store-web-service-search-api/"
   ]
  },
  {
   "cell_type": "code",
   "execution_count": 17,
   "metadata": {},
   "outputs": [],
   "source": [
    "# define base URL\n",
    "base_site = \"https://itunes.apple.com/search\""
   ]
  },
  {
   "cell_type": "code",
   "execution_count": 18,
   "metadata": {},
   "outputs": [
    {
     "data": {
      "text/plain": [
       "200"
      ]
     },
     "execution_count": 18,
     "metadata": {},
     "output_type": "execute_result"
    }
   ],
   "source": [
    "# Make a request\n",
    "r = requests.get(base_site, params = {\"term\": \"the beatles\", \"country\": \"us\", \"limit\": 200})\n",
    "r.status_code"
   ]
  },
  {
   "cell_type": "code",
   "execution_count": 19,
   "metadata": {},
   "outputs": [],
   "source": [
    "# Store the response\n",
    "info = r.json()"
   ]
  },
  {
   "cell_type": "markdown",
   "metadata": {},
   "source": [
    "### Inspect the structure of the response"
   ]
  },
  {
   "cell_type": "code",
   "execution_count": 20,
   "metadata": {
    "tags": [
     "outputPrepend"
    ]
   },
   "outputs": [
    {
     "name": "stdout",
     "output_type": "stream",
     "text": [
      "6129221138335460.plus.aac.p.m4a\",\n",
      "            \"artworkUrl30\": \"https://is1-ssl.mzstatic.com/image/thumb/Music124/v4/91/78/22/917822fb-f3cb-5ea4-3550-19bbb82cfa76/source/30x30bb.jpg\",\n",
      "            \"artworkUrl60\": \"https://is1-ssl.mzstatic.com/image/thumb/Music124/v4/91/78/22/917822fb-f3cb-5ea4-3550-19bbb82cfa76/source/60x60bb.jpg\",\n",
      "            \"artworkUrl100\": \"https://is1-ssl.mzstatic.com/image/thumb/Music124/v4/91/78/22/917822fb-f3cb-5ea4-3550-19bbb82cfa76/source/100x100bb.jpg\",\n",
      "            \"collectionPrice\": 12.99,\n",
      "            \"trackPrice\": 1.29,\n",
      "            \"releaseDate\": \"1963-11-22T12:00:00Z\",\n",
      "            \"collectionExplicitness\": \"notExplicit\",\n",
      "            \"trackExplicitness\": \"notExplicit\",\n",
      "            \"discCount\": 1,\n",
      "            \"discNumber\": 1,\n",
      "            \"trackCount\": 14,\n",
      "            \"trackNumber\": 4,\n",
      "            \"trackTimeMillis\": 148253,\n",
      "            \"country\": \"USA\",\n",
      "            \"currency\": \"USD\",\n",
      "            \"primaryGenreName\": \"Rock\",\n",
      "            \"isStreamable\": true\n",
      "        },\n",
      "        {\n",
      "            \"wrapperType\": \"track\",\n",
      "            \"kind\": \"song\",\n",
      "            \"artistId\": 136975,\n",
      "            \"collectionId\": 1441165005,\n",
      "            \"trackId\": 1441165006,\n",
      "            \"artistName\": \"The Beatles\",\n",
      "            \"collectionName\": \"Beatles For Sale\",\n",
      "            \"trackName\": \"No Reply\",\n",
      "            \"collectionCensoredName\": \"Beatles For Sale\",\n",
      "            \"trackCensoredName\": \"No Reply\",\n",
      "            \"artistViewUrl\": \"https://music.apple.com/us/artist/the-beatles/136975?uo=4\",\n",
      "            \"collectionViewUrl\": \"https://music.apple.com/us/album/no-reply/1441165005?i=1441165006&uo=4\",\n",
      "            \"trackViewUrl\": \"https://music.apple.com/us/album/no-reply/1441165005?i=1441165006&uo=4\",\n",
      "            \"previewUrl\": \"https://audio-ssl.itunes.apple.com/itunes-assets/AudioPreview125/v4/1b/34/76/1b3476ad-ef82-7ef8-cc17-9c46d3ad2157/mzaf_2595352916351294859.plus.aac.p.m4a\",\n",
      "            \"artworkUrl30\": \"https://is3-ssl.mzstatic.com/image/thumb/Music124/v4/e5/c7/fa/e5c7fabe-30b3-4aa4-68c4-76c9fab31622/source/30x30bb.jpg\",\n",
      "            \"artworkUrl60\": \"https://is3-ssl.mzstatic.com/image/thumb/Music124/v4/e5/c7/fa/e5c7fabe-30b3-4aa4-68c4-76c9fab31622/source/60x60bb.jpg\",\n",
      "            \"artworkUrl100\": \"https://is3-ssl.mzstatic.com/image/thumb/Music124/v4/e5/c7/fa/e5c7fabe-30b3-4aa4-68c4-76c9fab31622/source/100x100bb.jpg\",\n",
      "            \"collectionPrice\": 12.99,\n",
      "            \"trackPrice\": 1.29,\n",
      "            \"releaseDate\": \"1964-12-04T12:00:00Z\",\n",
      "            \"collectionExplicitness\": \"notExplicit\",\n",
      "            \"trackExplicitness\": \"notExplicit\",\n",
      "            \"discCount\": 1,\n",
      "            \"discNumber\": 1,\n",
      "            \"trackCount\": 14,\n",
      "            \"trackNumber\": 1,\n",
      "            \"trackTimeMillis\": 135067,\n",
      "            \"country\": \"USA\",\n",
      "            \"currency\": \"USD\",\n",
      "            \"primaryGenreName\": \"Rock\",\n",
      "            \"isStreamable\": true\n",
      "        },\n",
      "        {\n",
      "            \"wrapperType\": \"track\",\n",
      "            \"kind\": \"song\",\n",
      "            \"artistId\": 136975,\n",
      "            \"collectionId\": 1441164670,\n",
      "            \"trackId\": 1441165133,\n",
      "            \"artistName\": \"The Beatles\",\n",
      "            \"collectionName\": \"Revolver\",\n",
      "            \"trackName\": \"Good Day Sunshine\",\n",
      "            \"collectionCensoredName\": \"Revolver\",\n",
      "            \"trackCensoredName\": \"Good Day Sunshine\",\n",
      "            \"artistViewUrl\": \"https://music.apple.com/us/artist/the-beatles/136975?uo=4\",\n",
      "            \"collectionViewUrl\": \"https://music.apple.com/us/album/good-day-sunshine/1441164670?i=1441165133&uo=4\",\n",
      "            \"trackViewUrl\": \"https://music.apple.com/us/album/good-day-sunshine/1441164670?i=1441165133&uo=4\",\n",
      "            \"previewUrl\": \"https://audio-ssl.itunes.apple.com/itunes-assets/AudioPreview115/v4/a1/8e/ac/a18eac03-d617-c2a6-085a-13f83f03fcdd/mzaf_5869585145513258504.plus.aac.p.m4a\",\n",
      "            \"artworkUrl30\": \"https://is4-ssl.mzstatic.com/image/thumb/Music125/v4/94/ae/3e/94ae3ecc-3a86-0d22-023d-148e6bd1c106/source/30x30bb.jpg\",\n",
      "            \"artworkUrl60\": \"https://is4-ssl.mzstatic.com/image/thumb/Music125/v4/94/ae/3e/94ae3ecc-3a86-0d22-023d-148e6bd1c106/source/60x60bb.jpg\",\n",
      "            \"artworkUrl100\": \"https://is4-ssl.mzstatic.com/image/thumb/Music125/v4/94/ae/3e/94ae3ecc-3a86-0d22-023d-148e6bd1c106/source/100x100bb.jpg\",\n",
      "            \"collectionPrice\": 12.99,\n",
      "            \"trackPrice\": 1.29,\n",
      "            \"releaseDate\": \"1966-08-05T12:00:00Z\",\n",
      "            \"collectionExplicitness\": \"notExplicit\",\n",
      "            \"trackExplicitness\": \"notExplicit\",\n",
      "            \"discCount\": 1,\n",
      "            \"discNumber\": 1,\n",
      "            \"trackCount\": 14,\n",
      "            \"trackNumber\": 8,\n",
      "            \"trackTimeMillis\": 129293,\n",
      "            \"country\": \"USA\",\n",
      "            \"currency\": \"USD\",\n",
      "            \"primaryGenreName\": \"Rock\",\n",
      "            \"isStreamable\": true\n",
      "        },\n",
      "        {\n",
      "            \"wrapperType\": \"track\",\n",
      "            \"kind\": \"song\",\n",
      "            \"artistId\": 136975,\n",
      "            \"collectionId\": 1441165005,\n",
      "            \"trackId\": 1441165094,\n",
      "            \"artistName\": \"The Beatles\",\n",
      "            \"collectionName\": \"Beatles For Sale\",\n",
      "            \"trackName\": \"Rock and Roll Music\",\n",
      "            \"collectionCensoredName\": \"Beatles For Sale\",\n",
      "            \"trackCensoredName\": \"Rock and Roll Music\",\n",
      "            \"artistViewUrl\": \"https://music.apple.com/us/artist/the-beatles/136975?uo=4\",\n",
      "            \"collectionViewUrl\": \"https://music.apple.com/us/album/rock-and-roll-music/1441165005?i=1441165094&uo=4\",\n",
      "            \"trackViewUrl\": \"https://music.apple.com/us/album/rock-and-roll-music/1441165005?i=1441165094&uo=4\",\n",
      "            \"previewUrl\": \"https://audio-ssl.itunes.apple.com/itunes-assets/AudioPreview115/v4/03/17/e1/0317e119-bdda-39a3-d757-3e5d860cae95/mzaf_2410416766150478285.plus.aac.p.m4a\",\n",
      "            \"artworkUrl30\": \"https://is3-ssl.mzstatic.com/image/thumb/Music124/v4/e5/c7/fa/e5c7fabe-30b3-4aa4-68c4-76c9fab31622/source/30x30bb.jpg\",\n",
      "            \"artworkUrl60\": \"https://is3-ssl.mzstatic.com/image/thumb/Music124/v4/e5/c7/fa/e5c7fabe-30b3-4aa4-68c4-76c9fab31622/source/60x60bb.jpg\",\n",
      "            \"artworkUrl100\": \"https://is3-ssl.mzstatic.com/image/thumb/Music124/v4/e5/c7/fa/e5c7fabe-30b3-4aa4-68c4-76c9fab31622/source/100x100bb.jpg\",\n",
      "            \"collectionPrice\": 12.99,\n",
      "            \"trackPrice\": 1.29,\n",
      "            \"releaseDate\": \"1964-12-04T12:00:00Z\",\n",
      "            \"collectionExplicitness\": \"notExplicit\",\n",
      "            \"trackExplicitness\": \"notExplicit\",\n",
      "            \"discCount\": 1,\n",
      "            \"discNumber\": 1,\n",
      "            \"trackCount\": 14,\n",
      "            \"trackNumber\": 4,\n",
      "            \"trackTimeMillis\": 151280,\n",
      "            \"country\": \"USA\",\n",
      "            \"currency\": \"USD\",\n",
      "            \"primaryGenreName\": \"Rock\",\n",
      "            \"isStreamable\": true\n",
      "        },\n",
      "        {\n",
      "            \"wrapperType\": \"track\",\n",
      "            \"kind\": \"song\",\n",
      "            \"artistId\": 136975,\n",
      "            \"collectionId\": 1441164670,\n",
      "            \"trackId\": 1441164817,\n",
      "            \"artistName\": \"The Beatles\",\n",
      "            \"collectionName\": \"Revolver\",\n",
      "            \"trackName\": \"Here, There and Everywhere\",\n",
      "            \"collectionCensoredName\": \"Revolver\",\n",
      "            \"trackCensoredName\": \"Here, There and Everywhere\",\n",
      "            \"artistViewUrl\": \"https://music.apple.com/us/artist/the-beatles/136975?uo=4\",\n",
      "            \"collectionViewUrl\": \"https://music.apple.com/us/album/here-there-and-everywhere/1441164670?i=1441164817&uo=4\",\n",
      "            \"trackViewUrl\": \"https://music.apple.com/us/album/here-there-and-everywhere/1441164670?i=1441164817&uo=4\",\n",
      "            \"previewUrl\": \"https://audio-ssl.itunes.apple.com/itunes-assets/AudioPreview125/v4/61/6e/dc/616edce1-e9c8-1fb1-0524-d26454c84996/mzaf_14162653647069466733.plus.aac.p.m4a\",\n",
      "            \"artworkUrl30\": \"https://is4-ssl.mzstatic.com/image/thumb/Music125/v4/94/ae/3e/94ae3ecc-3a86-0d22-023d-148e6bd1c106/source/30x30bb.jpg\",\n",
      "            \"artworkUrl60\": \"https://is4-ssl.mzstatic.com/image/thumb/Music125/v4/94/ae/3e/94ae3ecc-3a86-0d22-023d-148e6bd1c106/source/60x60bb.jpg\",\n",
      "            \"artworkUrl100\": \"https://is4-ssl.mzstatic.com/image/thumb/Music125/v4/94/ae/3e/94ae3ecc-3a86-0d22-023d-148e6bd1c106/source/100x100bb.jpg\",\n",
      "            \"collectionPrice\": 12.99,\n",
      "            \"trackPrice\": 1.29,\n",
      "            \"releaseDate\": \"1966-08-05T12:00:00Z\",\n",
      "            \"collectionExplicitness\": \"notExplicit\",\n",
      "            \"trackExplicitness\": \"notExplicit\",\n",
      "            \"discCount\": 1,\n",
      "            \"discNumber\": 1,\n",
      "            \"trackCount\": 14,\n",
      "            \"trackNumber\": 5,\n",
      "            \"trackTimeMillis\": 144880,\n",
      "            \"country\": \"USA\",\n",
      "            \"currency\": \"USD\",\n",
      "            \"primaryGenreName\": \"Rock\",\n",
      "            \"isStreamable\": true\n",
      "        },\n",
      "        {\n",
      "            \"wrapperType\": \"track\",\n",
      "            \"kind\": \"song\",\n",
      "            \"artistId\": 136975,\n",
      "            \"collectionId\": 1441164362,\n",
      "            \"trackId\": 1441164834,\n",
      "            \"artistName\": \"The Beatles\",\n",
      "            \"collectionName\": \"With The Beatles\",\n",
      "            \"trackName\": \"I Wanna Be Your Man\",\n",
      "            \"collectionCensoredName\": \"With The Beatles\",\n",
      "            \"trackCensoredName\": \"I Wanna Be Your Man\",\n",
      "            \"artistViewUrl\": \"https://music.apple.com/us/artist/the-beatles/136975?uo=4\",\n",
      "            \"collectionViewUrl\": \"https://music.apple.com/us/album/i-wanna-be-your-man/1441164362?i=1441164834&uo=4\",\n",
      "            \"trackViewUrl\": \"https://music.apple.com/us/album/i-wanna-be-your-man/1441164362?i=1441164834&uo=4\",\n",
      "            \"previewUrl\": \"https://audio-ssl.itunes.apple.com/itunes-assets/AudioPreview115/v4/e8/12/68/e812684d-3786-d8fd-11a4-1573a69081a3/mzaf_9544659970155694438.plus.aac.p.m4a\",\n",
      "            \"artworkUrl30\": \"https://is1-ssl.mzstatic.com/image/thumb/Music124/v4/91/78/22/917822fb-f3cb-5ea4-3550-19bbb82cfa76/source/30x30bb.jpg\",\n",
      "            \"artworkUrl60\": \"https://is1-ssl.mzstatic.com/image/thumb/Music124/v4/91/78/22/917822fb-f3cb-5ea4-3550-19bbb82cfa76/source/60x60bb.jpg\",\n",
      "            \"artworkUrl100\": \"https://is1-ssl.mzstatic.com/image/thumb/Music124/v4/91/78/22/917822fb-f3cb-5ea4-3550-19bbb82cfa76/source/100x100bb.jpg\",\n",
      "            \"collectionPrice\": 12.99,\n",
      "            \"trackPrice\": 1.29,\n",
      "            \"releaseDate\": \"1963-11-22T12:00:00Z\",\n",
      "            \"collectionExplicitness\": \"notExplicit\",\n",
      "            \"trackExplicitness\": \"notExplicit\",\n",
      "            \"discCount\": 1,\n",
      "            \"discNumber\": 1,\n",
      "            \"trackCount\": 14,\n",
      "            \"trackNumber\": 11,\n",
      "            \"trackTimeMillis\": 119507,\n",
      "            \"country\": \"USA\",\n",
      "            \"currency\": \"USD\",\n",
      "            \"primaryGenreName\": \"Rock\",\n",
      "            \"isStreamable\": true\n",
      "        },\n",
      "        {\n",
      "            \"wrapperType\": \"track\",\n",
      "            \"kind\": \"song\",\n",
      "            \"artistId\": 136975,\n",
      "            \"collectionId\": 1441164816,\n",
      "            \"trackId\": 1441165136,\n",
      "            \"artistName\": \"The Beatles\",\n",
      "            \"collectionName\": \"Please Please Me\",\n",
      "            \"trackName\": \"Twist and Shout\",\n",
      "            \"collectionCensoredName\": \"Please Please Me\",\n",
      "            \"trackCensoredName\": \"Twist and Shout\",\n",
      "            \"artistViewUrl\": \"https://music.apple.com/us/artist/the-beatles/136975?uo=4\",\n",
      "            \"collectionViewUrl\": \"https://music.apple.com/us/album/twist-and-shout/1441164816?i=1441165136&uo=4\",\n",
      "            \"trackViewUrl\": \"https://music.apple.com/us/album/twist-and-shout/1441164816?i=1441165136&uo=4\",\n",
      "            \"previewUrl\": \"https://audio-ssl.itunes.apple.com/itunes-assets/AudioPreview125/v4/3f/85/82/3f8582c2-0d45-b964-019c-1d07dff1fbf5/mzaf_14764987307132054307.plus.aac.p.m4a\",\n",
      "            \"artworkUrl30\": \"https://is3-ssl.mzstatic.com/image/thumb/Music115/v4/da/1c/2a/da1c2a82-0fd6-5370-7be5-9fe1397ab618/source/30x30bb.jpg\",\n",
      "            \"artworkUrl60\": \"https://is3-ssl.mzstatic.com/image/thumb/Music115/v4/da/1c/2a/da1c2a82-0fd6-5370-7be5-9fe1397ab618/source/60x60bb.jpg\",\n",
      "            \"artworkUrl100\": \"https://is3-ssl.mzstatic.com/image/thumb/Music115/v4/da/1c/2a/da1c2a82-0fd6-5370-7be5-9fe1397ab618/source/100x100bb.jpg\",\n",
      "            \"collectionPrice\": 12.99,\n",
      "            \"trackPrice\": 1.29,\n",
      "            \"releaseDate\": \"1963-03-22T12:00:00Z\",\n",
      "            \"collectionExplicitness\": \"notExplicit\",\n",
      "            \"trackExplicitness\": \"notExplicit\",\n",
      "            \"discCount\": 1,\n",
      "            \"discNumber\": 1,\n",
      "            \"trackCount\": 14,\n",
      "            \"trackNumber\": 14,\n",
      "            \"trackTimeMillis\": 153225,\n",
      "            \"country\": \"USA\",\n",
      "            \"currency\": \"USD\",\n",
      "            \"primaryGenreName\": \"Rock\",\n",
      "            \"isStreamable\": true\n",
      "        },\n",
      "        {\n",
      "            \"wrapperType\": \"track\",\n",
      "            \"kind\": \"song\",\n",
      "            \"artistId\": 216123617,\n",
      "            \"collectionId\": 982690853,\n",
      "            \"trackId\": 982690978,\n",
      "            \"artistName\": \"Rockabye Baby!\",\n",
      "            \"collectionName\": \"Lullaby Renditions of the Beatles\",\n",
      "            \"trackName\": \"Here Comes the Sun\",\n",
      "            \"collectionCensoredName\": \"Lullaby Renditions of the Beatles\",\n",
      "            \"trackCensoredName\": \"Here Comes the Sun\",\n",
      "            \"artistViewUrl\": \"https://music.apple.com/us/artist/rockabye-baby/216123617?uo=4\",\n",
      "            \"collectionViewUrl\": \"https://music.apple.com/us/album/here-comes-the-sun/982690853?i=982690978&uo=4\",\n",
      "            \"trackViewUrl\": \"https://music.apple.com/us/album/here-comes-the-sun/982690853?i=982690978&uo=4\",\n",
      "            \"previewUrl\": \"https://audio-ssl.itunes.apple.com/itunes-assets/Music3/v4/c6/bc/8a/c6bc8a97-07ae-8ab9-1a0e-7d46836e5d0b/mzaf_4847164484212693994.plus.aac.p.m4a\",\n",
      "            \"artworkUrl30\": \"https://is4-ssl.mzstatic.com/image/thumb/Music1/v4/74/12/3c/74123c76-0177-dd37-2a84-964935b2ce73/source/30x30bb.jpg\",\n",
      "            \"artworkUrl60\": \"https://is4-ssl.mzstatic.com/image/thumb/Music1/v4/74/12/3c/74123c76-0177-dd37-2a84-964935b2ce73/source/60x60bb.jpg\",\n",
      "            \"artworkUrl100\": \"https://is4-ssl.mzstatic.com/image/thumb/Music1/v4/74/12/3c/74123c76-0177-dd37-2a84-964935b2ce73/source/100x100bb.jpg\",\n",
      "            \"collectionPrice\": 9.99,\n",
      "            \"trackPrice\": 1.29,\n",
      "            \"releaseDate\": \"2007-03-13T12:00:00Z\",\n",
      "            \"collectionExplicitness\": \"notExplicit\",\n",
      "            \"trackExplicitness\": \"notExplicit\",\n",
      "            \"discCount\": 1,\n",
      "            \"discNumber\": 1,\n",
      "            \"trackCount\": 12,\n",
      "            \"trackNumber\": 10,\n",
      "            \"trackTimeMillis\": 246373,\n",
      "            \"country\": \"USA\",\n",
      "            \"currency\": \"USD\",\n",
      "            \"primaryGenreName\": \"Lullabies\",\n",
      "            \"isStreamable\": true\n",
      "        },\n",
      "        {\n",
      "            \"wrapperType\": \"track\",\n",
      "            \"kind\": \"song\",\n",
      "            \"artistId\": 136975,\n",
      "            \"collectionId\": 1441164362,\n",
      "            \"trackId\": 1441165031,\n",
      "            \"artistName\": \"The Beatles\",\n",
      "            \"collectionName\": \"With The Beatles\",\n",
      "            \"trackName\": \"Not a Second Time\",\n",
      "            \"collectionCensoredName\": \"With The Beatles\",\n",
      "            \"trackCensoredName\": \"Not a Second Time\",\n",
      "            \"artistViewUrl\": \"https://music.apple.com/us/artist/the-beatles/136975?uo=4\",\n",
      "            \"collectionViewUrl\": \"https://music.apple.com/us/album/not-a-second-time/1441164362?i=1441165031&uo=4\",\n",
      "            \"trackViewUrl\": \"https://music.apple.com/us/album/not-a-second-time/1441164362?i=1441165031&uo=4\",\n",
      "            \"previewUrl\": \"https://audio-ssl.itunes.apple.com/itunes-assets/AudioPreview125/v4/4c/87/ba/4c87ba12-912f-d8a8-5999-e782f83b83ae/mzaf_4713163347402704018.plus.aac.p.m4a\",\n",
      "            \"artworkUrl30\": \"https://is1-ssl.mzstatic.com/image/thumb/Music124/v4/91/78/22/917822fb-f3cb-5ea4-3550-19bbb82cfa76/source/30x30bb.jpg\",\n",
      "            \"artworkUrl60\": \"https://is1-ssl.mzstatic.com/image/thumb/Music124/v4/91/78/22/917822fb-f3cb-5ea4-3550-19bbb82cfa76/source/60x60bb.jpg\",\n",
      "            \"artworkUrl100\": \"https://is1-ssl.mzstatic.com/image/thumb/Music124/v4/91/78/22/917822fb-f3cb-5ea4-3550-19bbb82cfa76/source/100x100bb.jpg\",\n",
      "            \"collectionPrice\": 12.99,\n",
      "            \"trackPrice\": 1.29,\n",
      "            \"releaseDate\": \"1963-11-22T12:00:00Z\",\n",
      "            \"collectionExplicitness\": \"notExplicit\",\n",
      "            \"trackExplicitness\": \"notExplicit\",\n",
      "            \"discCount\": 1,\n",
      "            \"discNumber\": 1,\n",
      "            \"trackCount\": 14,\n",
      "            \"trackNumber\": 13,\n",
      "            \"trackTimeMillis\": 126827,\n",
      "            \"country\": \"USA\",\n",
      "            \"currency\": \"USD\",\n",
      "            \"primaryGenreName\": \"Rock\",\n",
      "            \"isStreamable\": true\n",
      "        },\n",
      "        {\n",
      "            \"wrapperType\": \"track\",\n",
      "            \"kind\": \"song\",\n",
      "            \"artistId\": 136975,\n",
      "            \"collectionId\": 1441164359,\n",
      "            \"trackId\": 1441164634,\n",
      "            \"artistName\": \"The Beatles\",\n",
      "            \"collectionName\": \"Rubber Soul\",\n",
      "            \"trackName\": \"Girl\",\n",
      "            \"collectionCensoredName\": \"Rubber Soul\",\n",
      "            \"trackCensoredName\": \"Girl\",\n",
      "            \"artistViewUrl\": \"https://music.apple.com/us/artist/the-beatles/136975?uo=4\",\n",
      "            \"collectionViewUrl\": \"https://music.apple.com/us/album/girl/1441164359?i=1441164634&uo=4\",\n",
      "            \"trackViewUrl\": \"https://music.apple.com/us/album/girl/1441164359?i=1441164634&uo=4\",\n",
      "            \"previewUrl\": \"https://audio-ssl.itunes.apple.com/itunes-assets/AudioPreview115/v4/9a/0e/0a/9a0e0a66-d501-a39d-0d5d-2c354eca814a/mzaf_12320674419510278090.plus.aac.p.m4a\",\n",
      "            \"artworkUrl30\": \"https://is3-ssl.mzstatic.com/image/thumb/Music114/v4/ad/b6/b6/adb6b6d3-b3ee-ec61-10ea-91b173773b42/source/30x30bb.jpg\",\n",
      "            \"artworkUrl60\": \"https://is3-ssl.mzstatic.com/image/thumb/Music114/v4/ad/b6/b6/adb6b6d3-b3ee-ec61-10ea-91b173773b42/source/60x60bb.jpg\",\n",
      "            \"artworkUrl100\": \"https://is3-ssl.mzstatic.com/image/thumb/Music114/v4/ad/b6/b6/adb6b6d3-b3ee-ec61-10ea-91b173773b42/source/100x100bb.jpg\",\n",
      "            \"collectionPrice\": 12.99,\n",
      "            \"trackPrice\": 1.29,\n",
      "            \"releaseDate\": \"1965-12-03T12:00:00Z\",\n",
      "            \"collectionExplicitness\": \"notExplicit\",\n",
      "            \"trackExplicitness\": \"notExplicit\",\n",
      "            \"discCount\": 1,\n",
      "            \"discNumber\": 1,\n",
      "            \"trackCount\": 14,\n",
      "            \"trackNumber\": 9,\n",
      "            \"trackTimeMillis\": 151720,\n",
      "            \"country\": \"USA\",\n",
      "            \"currency\": \"USD\",\n",
      "            \"primaryGenreName\": \"Rock\",\n",
      "            \"isStreamable\": true\n",
      "        },\n",
      "        {\n",
      "            \"wrapperType\": \"track\",\n",
      "            \"kind\": \"song\",\n",
      "            \"artistId\": 136975,\n",
      "            \"collectionId\": 1441164362,\n",
      "            \"trackId\": 1441164847,\n",
      "            \"artistName\": \"The Beatles\",\n",
      "            \"collectionName\": \"With The Beatles\",\n",
      "            \"trackName\": \"Devil In Her Heart\",\n",
      "            \"collectionCensoredName\": \"With The Beatles\",\n",
      "            \"trackCensoredName\": \"Devil In Her Heart\",\n",
      "            \"artistViewUrl\": \"https://music.apple.com/us/artist/the-beatles/136975?uo=4\",\n",
      "            \"collectionViewUrl\": \"https://music.apple.com/us/album/devil-in-her-heart/1441164362?i=1441164847&uo=4\",\n",
      "            \"trackViewUrl\": \"https://music.apple.com/us/album/devil-in-her-heart/1441164362?i=1441164847&uo=4\",\n",
      "            \"previewUrl\": \"https://audio-ssl.itunes.apple.com/itunes-assets/AudioPreview125/v4/b5/b7/2e/b5b72e13-db7c-da62-b98a-7fc5cc6cd3cb/mzaf_7858608045514386270.plus.aac.p.m4a\",\n",
      "            \"artworkUrl30\": \"https://is1-ssl.mzstatic.com/image/thumb/Music124/v4/91/78/22/917822fb-f3cb-5ea4-3550-19bbb82cfa76/source/30x30bb.jpg\",\n",
      "            \"artworkUrl60\": \"https://is1-ssl.mzstatic.com/image/thumb/Music124/v4/91/78/22/917822fb-f3cb-5ea4-3550-19bbb82cfa76/source/60x60bb.jpg\",\n",
      "            \"artworkUrl100\": \"https://is1-ssl.mzstatic.com/image/thumb/Music124/v4/91/78/22/917822fb-f3cb-5ea4-3550-19bbb82cfa76/source/100x100bb.jpg\",\n",
      "            \"collectionPrice\": 12.99,\n",
      "            \"trackPrice\": 1.29,\n",
      "            \"releaseDate\": \"1963-11-22T12:00:00Z\",\n",
      "            \"collectionExplicitness\": \"notExplicit\",\n",
      "            \"trackExplicitness\": \"notExplicit\",\n",
      "            \"discCount\": 1,\n",
      "            \"discNumber\": 1,\n",
      "            \"trackCount\": 14,\n",
      "            \"trackNumber\": 12,\n",
      "            \"trackTimeMillis\": 146213,\n",
      "            \"country\": \"USA\",\n",
      "            \"currency\": \"USD\",\n",
      "            \"primaryGenreName\": \"Rock\",\n",
      "            \"isStreamable\": true\n",
      "        }\n",
      "    ]\n",
      "}\n"
     ]
    }
   ],
   "source": [
    "print(json.dumps(info, indent=4))"
   ]
  },
  {
   "cell_type": "code",
   "execution_count": 21,
   "metadata": {},
   "outputs": [
    {
     "name": "stdout",
     "output_type": "stream",
     "text": [
      "{\n",
      "    \"wrapperType\": \"audiobook\",\n",
      "    \"artistId\": 160778930,\n",
      "    \"collectionId\": 1439484338,\n",
      "    \"artistName\": \"Bob Spitz\",\n",
      "    \"collectionName\": \"The Beatles (Abridged)\",\n",
      "    \"collectionCensoredName\": \"The Beatles (Abridged)\",\n",
      "    \"artistViewUrl\": \"https://books.apple.com/us/author/bob-spitz/id160778930?uo=4\",\n",
      "    \"collectionViewUrl\": \"https://books.apple.com/us/audiobook/the-beatles-abridged/id1439484338?uo=4\",\n",
      "    \"artworkUrl60\": \"https://is3-ssl.mzstatic.com/image/thumb/Music128/v4/69/b8/65/69b86591-ce4b-9bd0-ab71-3808d0ea06dc/9780743552455.jpg/60x60bb.jpg\",\n",
      "    \"artworkUrl100\": \"https://is3-ssl.mzstatic.com/image/thumb/Music128/v4/69/b8/65/69b86591-ce4b-9bd0-ab71-3808d0ea06dc/9780743552455.jpg/100x100bb.jpg\",\n",
      "    \"collectionPrice\": 16.99,\n",
      "    \"collectionExplicitness\": \"notExplicit\",\n",
      "    \"trackCount\": 1,\n",
      "    \"country\": \"USA\",\n",
      "    \"currency\": \"USD\",\n",
      "    \"releaseDate\": \"2005-11-01T08:00:00Z\",\n",
      "    \"primaryGenreName\": \"Biographies & Memoirs\",\n",
      "    \"previewUrl\": \"https://audio-ssl.itunes.apple.com/itunes-assets/AudioPreview123/v4/8a/3b/60/8a3b60b6-8b98-ec66-4193-2410ade915b6/mzaf_3719604921631393408.std.aac.p.m4a\",\n",
      "    \"description\": \"<b>2007 Audie Award Winner for Non-Fiction, Abridged</b><br /><br />Even before the Beatles hit the big time, a myth was created. This version of the Beatles legend smoothed the rough edges and filled in the fault lines, and for more than forty years this manicured version of the Beatles story has sustained as truth -- until now.<br /> The product of almost a decade of research, hundreds of unprecedented interviews, and the discovery of scores of never-before-revealed documents, Bob Spitz's <i>The Beatles</i> is the biography fans have been waiting for.<br /> Never before has a biography of musicians been so immersive and textured. We are there in the McCartney living room when Paul and John learn to write songs together; backstage the night Ringo takes over on drums; in seedy German strip clubs where George lies about his age so the band can perform; and at the <i>Ed Sullivan Show</i> as America discovers the joy and the madness. From Shea to San Francisco, through the London night, on to India, through marmalade skies, across the universe-all the way to a rooftop concert and one last moment of laughter and music.<br /> It is all here, the highs and the lows, the love and the rivalry, the drugs, the tears, the thrill, the magic never again to be repeated. Bob Spitz's masterpiece is, at long last, the biography the Beatles deserve.\"\n",
      "}\n"
     ]
    }
   ],
   "source": [
    "print(json.dumps(info['results'][0], indent=4))"
   ]
  },
  {
   "cell_type": "code",
   "execution_count": 9,
   "metadata": {},
   "outputs": [
    {
     "data": {
      "text/plain": [
       "9/mzaf_7692883405818817233.plus.aac.p.m4a\", \"artworkUrl30\":\"https://is4-ssl.mzstatic.com/image/thumb/Music125/v4/94/ae/3e/94ae3ecc-3a86-0d22-023d-148e6bd1c106/source/30x30bb.jpg\", \"artworkUrl60\":\"https://is4-ssl.mzstatic.com/image/thumb/Music125/v4/94/ae/3e/94ae3ecc-3a86-0d22-023d-148e6bd1c106/source/60x60bb.jpg\", \"artworkUrl100\":\"https://is4-ssl.mzstatic.com/image/thumb/Music125/v4/94/ae/3e/94ae3ecc-3a86-0d22-023d-148e6bd1c106/source/100x100bb.jpg\", \"collectionPrice\":12.99, \"trackPrice\":1.29, \"releaseDate\":\"1966-08-05T12:00:00Z\", \"collectionExplicitness\":\"notExplicit\", \"trackExplicitness\":\"notExplicit\", \"discCount\":1, \"discNumber\":1, \"trackCount\":14, \"trackNumber\":13, \"trackTimeMillis\":149240, \"country\":\"USA\", \"currency\":\"USD\", \"primaryGenreName\":\"Rock\", \"isStreamable\":true}, \\n{\"wrapperType\":\"track\", \"kind\":\"song\", \"artistId\":136975, \"collectionId\":1441164362, \"trackId\":1441164830, \"artistName\":\"The Beatles\", \"collectionName\":\"With The Beatles\", \"trackName\":\"Hold Me Tight\", \"collectionCensoredName\":\"With The Beatles\", \"trackCensoredName\":\"Hold Me Tight\", \"artistViewUrl\":\"https://music.apple.com/us/artist/the-beatles/136975?uo=4\", \"collectionViewUrl\":\"https://music.apple.com/us/album/hold-me-tight/1441164362?i=1441164830&uo=4\", \"trackViewUrl\":\"https://music.apple.com/us/album/hold-me-tight/1441164362?i=1441164830&uo=4\", \\n\"previewUrl\":\"https://audio-ssl.itunes.apple.com/itunes-assets/AudioPreview115/v4/70/a8/4c/70a84c1a-121c-bf73-7926-72c35cfba5fe/mzaf_13111132580179886759.plus.aac.p.m4a\", \"artworkUrl30\":\"https://is1-ssl.mzstatic.com/image/thumb/Music124/v4/91/78/22/917822fb-f3cb-5ea4-3550-19bbb82cfa76/source/30x30bb.jpg\", \"artworkUrl60\":\"https://is1-ssl.mzstatic.com/image/thumb/Music124/v4/91/78/22/917822fb-f3cb-5ea4-3550-19bbb82cfa76/source/60x60bb.jpg\", \"artworkUrl100\":\"https://is1-ssl.mzstatic.com/image/thumb/Music124/v4/91/78/22/917822fb-f3cb-5ea4-3550-19bbb82cfa76/source/100x100bb.jpg\", \"collectionPrice\":12.99, \"trackPrice\":1.29, \"releaseDate\":\"1963-11-22T12:00:00Z\", \"collectionExplicitness\":\"notExplicit\", \"trackExplicitness\":\"notExplicit\", \"discCount\":1, \"discNumber\":1, \"trackCount\":14, \"trackNumber\":9, \"trackTimeMillis\":151907, \"country\":\"USA\", \"currency\":\"USD\", \"primaryGenreName\":\"Rock\", \"isStreamable\":true}, \\n{\"wrapperType\":\"track\", \"kind\":\"song\", \"artistId\":136975, \"collectionId\":1441164359, \"trackId\":1441164629, \"artistName\":\"The Beatles\", \"collectionName\":\"Rubber Soul\", \"trackName\":\"Michelle\", \"collectionCensoredName\":\"Rubber Soul\", \"trackCensoredName\":\"Michelle\", \"artistViewUrl\":\"https://music.apple.com/us/artist/the-beatles/136975?uo=4\", \"collectionViewUrl\":\"https://music.apple.com/us/album/michelle/1441164359?i=1441164629&uo=4\", \"trackViewUrl\":\"https://music.apple.com/us/album/michelle/1441164359?i=1441164629&uo=4\", \\n\"previewUrl\":\"https://audio-ssl.itunes.apple.com/itunes-assets/AudioPreview115/v4/7d/af/64/7daf6421-fab9-048e-0653-18f938f57578/mzaf_7108988507541365473.plus.aac.p.m4a\", \"artworkUrl30\":\"https://is3-ssl.mzstatic.com/image/thumb/Music114/v4/ad/b6/b6/adb6b6d3-b3ee-ec61-10ea-91b173773b42/source/30x30bb.jpg\", \"artworkUrl60\":\"https://is3-ssl.mzstatic.com/image/thumb/Music114/v4/ad/b6/b6/adb6b6d3-b3ee-ec61-10ea-91b173773b42/source/60x60bb.jpg\", \"artworkUrl100\":\"https://is3-ssl.mzstatic.com/image/thumb/Music114/v4/ad/b6/b6/adb6b6d3-b3ee-ec61-10ea-91b173773b42/source/100x100bb.jpg\", \"collectionPrice\":12.99, \"trackPrice\":1.29, \"releaseDate\":\"1965-12-03T12:00:00Z\", \"collectionExplicitness\":\"notExplicit\", \"trackExplicitness\":\"notExplicit\", \"discCount\":1, \"discNumber\":1, \"trackCount\":14, \"trackNumber\":7, \"trackTimeMillis\":162373, \"country\":\"USA\", \"currency\":\"USD\", \"primaryGenreName\":\"Rock\", \"isStreamable\":true}, \\n{\"wrapperType\":\"track\", \"kind\":\"song\", \"artistId\":136975, \"collectionId\":1441164362, \"trackId\":1441164627, \"artistName\":\"The Beatles\", \"collectionName\":\"With The Beatles\", \"trackName\":\"Don\\'t Bother Me\", \"collectionCensoredName\":\"With The Beatles\", \"trackCensoredName\":\"Don\\'t Bother Me\", \"artistViewUrl\":\"https://music.apple.com/us/artist/the-beatles/136975?uo=4\", \"collectionViewUrl\":\"https://music.apple.com/us/album/dont-bother-me/1441164362?i=1441164627&uo=4\", \"trackViewUrl\":\"https://music.apple.com/us/album/dont-bother-me/1441164362?i=1441164627&uo=4\", \\n\"previewUrl\":\"https://audio-ssl.itunes.apple.com/itunes-assets/AudioPreview125/v4/ec/9e/9d/ec9e9d13-d6a4-e518-2762-dfaf783485e0/mzaf_9116129221138335460.plus.aac.p.m4a\", \"artworkUrl30\":\"https://is1-ssl.mzstatic.com/image/thumb/Music124/v4/91/78/22/917822fb-f3cb-5ea4-3550-19bbb82cfa76/source/30x30bb.jpg\", \"artworkUrl60\":\"https://is1-ssl.mzstatic.com/image/thumb/Music124/v4/91/78/22/917822fb-f3cb-5ea4-3550-19bbb82cfa76/source/60x60bb.jpg\", \"artworkUrl100\":\"https://is1-ssl.mzstatic.com/image/thumb/Music124/v4/91/78/22/917822fb-f3cb-5ea4-3550-19bbb82cfa76/source/100x100bb.jpg\", \"collectionPrice\":12.99, \"trackPrice\":1.29, \"releaseDate\":\"1963-11-22T12:00:00Z\", \"collectionExplicitness\":\"notExplicit\", \"trackExplicitness\":\"notExplicit\", \"discCount\":1, \"discNumber\":1, \"trackCount\":14, \"trackNumber\":4, \"trackTimeMillis\":148253, \"country\":\"USA\", \"currency\":\"USD\", \"primaryGenreName\":\"Rock\", \"isStreamable\":true}, \\n{\"wrapperType\":\"track\", \"kind\":\"song\", \"artistId\":136975, \"collectionId\":1441165005, \"trackId\":1441165006, \"artistName\":\"The Beatles\", \"collectionName\":\"Beatles For Sale\", \"trackName\":\"No Reply\", \"collectionCensoredName\":\"Beatles For Sale\", \"trackCensoredName\":\"No Reply\", \"artistViewUrl\":\"https://music.apple.com/us/artist/the-beatles/136975?uo=4\", \"collectionViewUrl\":\"https://music.apple.com/us/album/no-reply/1441165005?i=1441165006&uo=4\", \"trackViewUrl\":\"https://music.apple.com/us/album/no-reply/1441165005?i=1441165006&uo=4\", \\n\"previewUrl\":\"https://audio-ssl.itunes.apple.com/itunes-assets/AudioPreview125/v4/1b/34/76/1b3476ad-ef82-7ef8-cc17-9c46d3ad2157/mzaf_2595352916351294859.plus.aac.p.m4a\", \"artworkUrl30\":\"https://is3-ssl.mzstatic.com/image/thumb/Music124/v4/e5/c7/fa/e5c7fabe-30b3-4aa4-68c4-76c9fab31622/source/30x30bb.jpg\", \"artworkUrl60\":\"https://is3-ssl.mzstatic.com/image/thumb/Music124/v4/e5/c7/fa/e5c7fabe-30b3-4aa4-68c4-76c9fab31622/source/60x60bb.jpg\", \"artworkUrl100\":\"https://is3-ssl.mzstatic.com/image/thumb/Music124/v4/e5/c7/fa/e5c7fabe-30b3-4aa4-68c4-76c9fab31622/source/100x100bb.jpg\", \"collectionPrice\":12.99, \"trackPrice\":1.29, \"releaseDate\":\"1964-12-04T12:00:00Z\", \"collectionExplicitness\":\"notExplicit\", \"trackExplicitness\":\"notExplicit\", \"discCount\":1, \"discNumber\":1, \"trackCount\":14, \"trackNumber\":1, \"trackTimeMillis\":135067, \"country\":\"USA\", \"currency\":\"USD\", \"primaryGenreName\":\"Rock\", \"isStreamable\":true}, \\n{\"wrapperType\":\"track\", \"kind\":\"song\", \"artistId\":136975, \"collectionId\":1441164670, \"trackId\":1441165133, \"artistName\":\"The Beatles\", \"collectionName\":\"Revolver\", \"trackName\":\"Good Day Sunshine\", \"collectionCensoredName\":\"Revolver\", \"trackCensoredName\":\"Good Day Sunshine\", \"artistViewUrl\":\"https://music.apple.com/us/artist/the-beatles/136975?uo=4\", \"collectionViewUrl\":\"https://music.apple.com/us/album/good-day-sunshine/1441164670?i=1441165133&uo=4\", \"trackViewUrl\":\"https://music.apple.com/us/album/good-day-sunshine/1441164670?i=1441165133&uo=4\", \\n\"previewUrl\":\"https://audio-ssl.itunes.apple.com/itunes-assets/AudioPreview115/v4/a1/8e/ac/a18eac03-d617-c2a6-085a-13f83f03fcdd/mzaf_5869585145513258504.plus.aac.p.m4a\", \"artworkUrl30\":\"https://is4-ssl.mzstatic.com/image/thumb/Music125/v4/94/ae/3e/94ae3ecc-3a86-0d22-023d-148e6bd1c106/source/30x30bb.jpg\", \"artworkUrl60\":\"https://is4-ssl.mzstatic.com/image/thumb/Music125/v4/94/ae/3e/94ae3ecc-3a86-0d22-023d-148e6bd1c106/source/60x60bb.jpg\", \"artworkUrl100\":\"https://is4-ssl.mzstatic.com/image/thumb/Music125/v4/94/ae/3e/94ae3ecc-3a86-0d22-023d-148e6bd1c106/source/100x100bb.jpg\", \"collectionPrice\":12.99, \"trackPrice\":1.29, \"releaseDate\":\"1966-08-05T12:00:00Z\", \"collectionExplicitness\":\"notExplicit\", \"trackExplicitness\":\"notExplicit\", \"discCount\":1, \"discNumber\":1, \"trackCount\":14, \"trackNumber\":8, \"trackTimeMillis\":129293, \"country\":\"USA\", \"currency\":\"USD\", \"primaryGenreName\":\"Rock\", \"isStreamable\":true}, \\n{\"wrapperType\":\"track\", \"kind\":\"song\", \"artistId\":136975, \"collectionId\":1441165005, \"trackId\":1441165094, \"artistName\":\"The Beatles\", \"collectionName\":\"Beatles For Sale\", \"trackName\":\"Rock and Roll Music\", \"collectionCensoredName\":\"Beatles For Sale\", \"trackCensoredName\":\"Rock and Roll Music\", \"artistViewUrl\":\"https://music.apple.com/us/artist/the-beatles/136975?uo=4\", \"collectionViewUrl\":\"https://music.apple.com/us/album/rock-and-roll-music/1441165005?i=1441165094&uo=4\", \"trackViewUrl\":\"https://music.apple.com/us/album/rock-and-roll-music/1441165005?i=1441165094&uo=4\", \\n\"previewUrl\":\"https://audio-ssl.itunes.apple.com/itunes-assets/AudioPreview115/v4/03/17/e1/0317e119-bdda-39a3-d757-3e5d860cae95/mzaf_2410416766150478285.plus.aac.p.m4a\", \"artworkUrl30\":\"https://is3-ssl.mzstatic.com/image/thumb/Music124/v4/e5/c7/fa/e5c7fabe-30b3-4aa4-68c4-76c9fab31622/source/30x30bb.jpg\", \"artworkUrl60\":\"https://is3-ssl.mzstatic.com/image/thumb/Music124/v4/e5/c7/fa/e5c7fabe-30b3-4aa4-68c4-76c9fab31622/source/60x60bb.jpg\", \"artworkUrl100\":\"https://is3-ssl.mzstatic.com/image/thumb/Music124/v4/e5/c7/fa/e5c7fabe-30b3-4aa4-68c4-76c9fab31622/source/100x100bb.jpg\", \"collectionPrice\":12.99, \"trackPrice\":1.29, \"releaseDate\":\"1964-12-04T12:00:00Z\", \"collectionExplicitness\":\"notExplicit\", \"trackExplicitness\":\"notExplicit\", \"discCount\":1, \"discNumber\":1, \"trackCount\":14, \"trackNumber\":4, \"trackTimeMillis\":151280, \"country\":\"USA\", \"currency\":\"USD\", \"primaryGenreName\":\"Rock\", \"isStreamable\":true}, \\n{\"wrapperType\":\"track\", \"kind\":\"song\", \"artistId\":136975, \"collectionId\":1441164670, \"trackId\":1441164817, \"artistName\":\"The Beatles\", \"collectionName\":\"Revolver\", \"trackName\":\"Here, There and Everywhere\", \"collectionCensoredName\":\"Revolver\", \"trackCensoredName\":\"Here, There and Everywhere\", \"artistViewUrl\":\"https://music.apple.com/us/artist/the-beatles/136975?uo=4\", \"collectionViewUrl\":\"https://music.apple.com/us/album/here-there-and-everywhere/1441164670?i=1441164817&uo=4\", \"trackViewUrl\":\"https://music.apple.com/us/album/here-there-and-everywhere/1441164670?i=1441164817&uo=4\", \\n\"previewUrl\":\"https://audio-ssl.itunes.apple.com/itunes-assets/AudioPreview125/v4/61/6e/dc/616edce1-e9c8-1fb1-0524-d26454c84996/mzaf_14162653647069466733.plus.aac.p.m4a\", \"artworkUrl30\":\"https://is4-ssl.mzstatic.com/image/thumb/Music125/v4/94/ae/3e/94ae3ecc-3a86-0d22-023d-148e6bd1c106/source/30x30bb.jpg\", \"artworkUrl60\":\"https://is4-ssl.mzstatic.com/image/thumb/Music125/v4/94/ae/3e/94ae3ecc-3a86-0d22-023d-148e6bd1c106/source/60x60bb.jpg\", \"artworkUrl100\":\"https://is4-ssl.mzstatic.com/image/thumb/Music125/v4/94/ae/3e/94ae3ecc-3a86-0d22-023d-148e6bd1c106/source/100x100bb.jpg\", \"collectionPrice\":12.99, \"trackPrice\":1.29, \"releaseDate\":\"1966-08-05T12:00:00Z\", \"collectionExplicitness\":\"notExplicit\", \"trackExplicitness\":\"notExplicit\", \"discCount\":1, \"discNumber\":1, \"trackCount\":14, \"trackNumber\":5, \"trackTimeMillis\":144880, \"country\":\"USA\", \"currency\":\"USD\", \"primaryGenreName\":\"Rock\", \"isStreamable\":true}, \\n{\"wrapperType\":\"track\", \"kind\":\"song\", \"artistId\":136975, \"collectionId\":1441164362, \"trackId\":1441164834, \"artistName\":\"The Beatles\", \"collectionName\":\"With The Beatles\", \"trackName\":\"I Wanna Be Your Man\", \"collectionCensoredName\":\"With The Beatles\", \"trackCensoredName\":\"I Wanna Be Your Man\", \"artistViewUrl\":\"https://music.apple.com/us/artist/the-beatles/136975?uo=4\", \"collectionViewUrl\":\"https://music.apple.com/us/album/i-wanna-be-your-man/1441164362?i=1441164834&uo=4\", \"trackViewUrl\":\"https://music.apple.com/us/album/i-wanna-be-your-man/1441164362?i=1441164834&uo=4\", \\n\"previewUrl\":\"https://audio-ssl.itunes.apple.com/itunes-assets/AudioPreview115/v4/e8/12/68/e812684d-3786-d8fd-11a4-1573a69081a3/mzaf_9544659970155694438.plus.aac.p.m4a\", \"artworkUrl30\":\"https://is1-ssl.mzstatic.com/image/thumb/Music124/v4/91/78/22/917822fb-f3cb-5ea4-3550-19bbb82cfa76/source/30x30bb.jpg\", \"artworkUrl60\":\"https://is1-ssl.mzstatic.com/image/thumb/Music124/v4/91/78/22/917822fb-f3cb-5ea4-3550-19bbb82cfa76/source/60x60bb.jpg\", \"artworkUrl100\":\"https://is1-ssl.mzstatic.com/image/thumb/Music124/v4/91/78/22/917822fb-f3cb-5ea4-3550-19bbb82cfa76/source/100x100bb.jpg\", \"collectionPrice\":12.99, \"trackPrice\":1.29, \"releaseDate\":\"1963-11-22T12:00:00Z\", \"collectionExplicitness\":\"notExplicit\", \"trackExplicitness\":\"notExplicit\", \"discCount\":1, \"discNumber\":1, \"trackCount\":14, \"trackNumber\":11, \"trackTimeMillis\":119507, \"country\":\"USA\", \"currency\":\"USD\", \"primaryGenreName\":\"Rock\", \"isStreamable\":true}, \\n{\"wrapperType\":\"track\", \"kind\":\"song\", \"artistId\":136975, \"collectionId\":1441164816, \"trackId\":1441165136, \"artistName\":\"The Beatles\", \"collectionName\":\"Please Please Me\", \"trackName\":\"Twist and Shout\", \"collectionCensoredName\":\"Please Please Me\", \"trackCensoredName\":\"Twist and Shout\", \"artistViewUrl\":\"https://music.apple.com/us/artist/the-beatles/136975?uo=4\", \"collectionViewUrl\":\"https://music.apple.com/us/album/twist-and-shout/1441164816?i=1441165136&uo=4\", \"trackViewUrl\":\"https://music.apple.com/us/album/twist-and-shout/1441164816?i=1441165136&uo=4\", \\n\"previewUrl\":\"https://audio-ssl.itunes.apple.com/itunes-assets/AudioPreview125/v4/3f/85/82/3f8582c2-0d45-b964-019c-1d07dff1fbf5/mzaf_14764987307132054307.plus.aac.p.m4a\", \"artworkUrl30\":\"https://is3-ssl.mzstatic.com/image/thumb/Music115/v4/da/1c/2a/da1c2a82-0fd6-5370-7be5-9fe1397ab618/source/30x30bb.jpg\", \"artworkUrl60\":\"https://is3-ssl.mzstatic.com/image/thumb/Music115/v4/da/1c/2a/da1c2a82-0fd6-5370-7be5-9fe1397ab618/source/60x60bb.jpg\", \"artworkUrl100\":\"https://is3-ssl.mzstatic.com/image/thumb/Music115/v4/da/1c/2a/da1c2a82-0fd6-5370-7be5-9fe1397ab618/source/100x100bb.jpg\", \"collectionPrice\":12.99, \"trackPrice\":1.29, \"releaseDate\":\"1963-03-22T12:00:00Z\", \"collectionExplicitness\":\"notExplicit\", \"trackExplicitness\":\"notExplicit\", \"discCount\":1, \"discNumber\":1, \"trackCount\":14, \"trackNumber\":14, \"trackTimeMillis\":153225, \"country\":\"USA\", \"currency\":\"USD\", \"primaryGenreName\":\"Rock\", \"isStreamable\":true}, \\n{\"wrapperType\":\"track\", \"kind\":\"song\", \"artistId\":216123617, \"collectionId\":982690853, \"trackId\":982690978, \"artistName\":\"Rockabye Baby!\", \"collectionName\":\"Lullaby Renditions of the Beatles\", \"trackName\":\"Here Comes the Sun\", \"collectionCensoredName\":\"Lullaby Renditions of the Beatles\", \"trackCensoredName\":\"Here Comes the Sun\", \"artistViewUrl\":\"https://music.apple.com/us/artist/rockabye-baby/216123617?uo=4\", \"collectionViewUrl\":\"https://music.apple.com/us/album/here-comes-the-sun/982690853?i=982690978&uo=4\", \"trackViewUrl\":\"https://music.apple.com/us/album/here-comes-the-sun/982690853?i=982690978&uo=4\", \"previewUrl\":\"https://audio-ssl.itunes.apple.com/itunes-assets/Music3/v4/c6/bc/8a/c6bc8a97-07ae-8ab9-1a0e-7d46836e5d0b/mzaf_4847164484212693994.plus.aac.p.m4a\", \"artworkUrl30\":\"https://is4-ssl.mzstatic.com/image/thumb/Music1/v4/74/12/3c/74123c76-0177-dd37-2a84-964935b2ce73/source/30x30bb.jpg\", \"artworkUrl60\":\"https://is4-ssl.mzstatic.com/image/thumb/Music1/v4/74/12/3c/74123c76-0177-dd37-2a84-964935b2ce73/source/60x60bb.jpg\", \"artworkUrl100\":\"https://is4-ssl.mzstatic.com/image/thumb/Music1/v4/74/12/3c/74123c76-0177-dd37-2a84-964935b2ce73/source/100x100bb.jpg\", \"collectionPrice\":9.99, \"trackPrice\":1.29, \"releaseDate\":\"2007-03-13T12:00:00Z\", \"collectionExplicitness\":\"notExplicit\", \"trackExplicitness\":\"notExplicit\", \"discCount\":1, \"discNumber\":1, \"trackCount\":12, \"trackNumber\":10, \"trackTimeMillis\":246373, \"country\":\"USA\", \"currency\":\"USD\", \"primaryGenreName\":\"Lullabies\", \"isStreamable\":true}, \\n{\"wrapperType\":\"track\", \"kind\":\"song\", \"artistId\":136975, \"collectionId\":1441164362, \"trackId\":1441165031, \"artistName\":\"The Beatles\", \"collectionName\":\"With The Beatles\", \"trackName\":\"Not a Second Time\", \"collectionCensoredName\":\"With The Beatles\", \"trackCensoredName\":\"Not a Second Time\", \"artistViewUrl\":\"https://music.apple.com/us/artist/the-beatles/136975?uo=4\", \"collectionViewUrl\":\"https://music.apple.com/us/album/not-a-second-time/1441164362?i=1441165031&uo=4\", \"trackViewUrl\":\"https://music.apple.com/us/album/not-a-second-time/1441164362?i=1441165031&uo=4\", \\n\"previewUrl\":\"https://audio-ssl.itunes.apple.com/itunes-assets/AudioPreview125/v4/4c/87/ba/4c87ba12-912f-d8a8-5999-e782f83b83ae/mzaf_4713163347402704018.plus.aac.p.m4a\", \"artworkUrl30\":\"https://is1-ssl.mzstatic.com/image/thumb/Music124/v4/91/78/22/917822fb-f3cb-5ea4-3550-19bbb82cfa76/source/30x30bb.jpg\", \"artworkUrl60\":\"https://is1-ssl.mzstatic.com/image/thumb/Music124/v4/91/78/22/917822fb-f3cb-5ea4-3550-19bbb82cfa76/source/60x60bb.jpg\", \"artworkUrl100\":\"https://is1-ssl.mzstatic.com/image/thumb/Music124/v4/91/78/22/917822fb-f3cb-5ea4-3550-19bbb82cfa76/source/100x100bb.jpg\", \"collectionPrice\":12.99, \"trackPrice\":1.29, \"releaseDate\":\"1963-11-22T12:00:00Z\", \"collectionExplicitness\":\"notExplicit\", \"trackExplicitness\":\"notExplicit\", \"discCount\":1, \"discNumber\":1, \"trackCount\":14, \"trackNumber\":13, \"trackTimeMillis\":126827, \"country\":\"USA\", \"currency\":\"USD\", \"primaryGenreName\":\"Rock\", \"isStreamable\":true}, \\n{\"wrapperType\":\"track\", \"kind\":\"song\", \"artistId\":136975, \"collectionId\":1441164359, \"trackId\":1441164634, \"artistName\":\"The Beatles\", \"collectionName\":\"Rubber Soul\", \"trackName\":\"Girl\", \"collectionCensoredName\":\"Rubber Soul\", \"trackCensoredName\":\"Girl\", \"artistViewUrl\":\"https://music.apple.com/us/artist/the-beatles/136975?uo=4\", \"collectionViewUrl\":\"https://music.apple.com/us/album/girl/1441164359?i=1441164634&uo=4\", \"trackViewUrl\":\"https://music.apple.com/us/album/girl/1441164359?i=1441164634&uo=4\", \\n\"previewUrl\":\"https://audio-ssl.itunes.apple.com/itunes-assets/AudioPreview115/v4/9a/0e/0a/9a0e0a66-d501-a39d-0d5d-2c354eca814a/mzaf_12320674419510278090.plus.aac.p.m4a\", \"artworkUrl30\":\"https://is3-ssl.mzstatic.com/image/thumb/Music114/v4/ad/b6/b6/adb6b6d3-b3ee-ec61-10ea-91b173773b42/source/30x30bb.jpg\", \"artworkUrl60\":\"https://is3-ssl.mzstatic.com/image/thumb/Music114/v4/ad/b6/b6/adb6b6d3-b3ee-ec61-10ea-91b173773b42/source/60x60bb.jpg\", \"artworkUrl100\":\"https://is3-ssl.mzstatic.com/image/thumb/Music114/v4/ad/b6/b6/adb6b6d3-b3ee-ec61-10ea-91b173773b42/source/100x100bb.jpg\", \"collectionPrice\":12.99, \"trackPrice\":1.29, \"releaseDate\":\"1965-12-03T12:00:00Z\", \"collectionExplicitness\":\"notExplicit\", \"trackExplicitness\":\"notExplicit\", \"discCount\":1, \"discNumber\":1, \"trackCount\":14, \"trackNumber\":9, \"trackTimeMillis\":151720, \"country\":\"USA\", \"currency\":\"USD\", \"primaryGenreName\":\"Rock\", \"isStreamable\":true}, \\n{\"wrapperType\":\"track\", \"kind\":\"song\", \"artistId\":136975, \"collectionId\":1441164362, \"trackId\":1441164847, \"artistName\":\"The Beatles\", \"collectionName\":\"With The Beatles\", \"trackName\":\"Devil In Her Heart\", \"collectionCensoredName\":\"With The Beatles\", \"trackCensoredName\":\"Devil In Her Heart\", \"artistViewUrl\":\"https://music.apple.com/us/artist/the-beatles/136975?uo=4\", \"collectionViewUrl\":\"https://music.apple.com/us/album/devil-in-her-heart/1441164362?i=1441164847&uo=4\", \"trackViewUrl\":\"https://music.apple.com/us/album/devil-in-her-heart/1441164362?i=1441164847&uo=4\", \\n\"previewUrl\":\"https://audio-ssl.itunes.apple.com/itunes-assets/AudioPreview125/v4/b5/b7/2e/b5b72e13-db7c-da62-b98a-7fc5cc6cd3cb/mzaf_7858608045514386270.plus.aac.p.m4a\", \"artworkUrl30\":\"https://is1-ssl.mzstatic.com/image/thumb/Music124/v4/91/78/22/917822fb-f3cb-5ea4-3550-19bbb82cfa76/source/30x30bb.jpg\", \"artworkUrl60\":\"https://is1-ssl.mzstatic.com/image/thumb/Music124/v4/91/78/22/917822fb-f3cb-5ea4-3550-19bbb82cfa76/source/60x60bb.jpg\", \"artworkUrl100\":\"https://is1-ssl.mzstatic.com/image/thumb/Music124/v4/91/78/22/917822fb-f3cb-5ea4-3550-19bbb82cfa76/source/100x100bb.jpg\", \"collectionPrice\":12.99, \"trackPrice\":1.29, \"releaseDate\":\"1963-11-22T12:00:00Z\", \"collectionExplicitness\":\"notExplicit\", \"trackExplicitness\":\"notExplicit\", \"discCount\":1, \"discNumber\":1, \"trackCount\":14, \"trackNumber\":12, \"trackTimeMillis\":146213, \"country\":\"USA\", \"currency\":\"USD\", \"primaryGenreName\":\"Rock\", \"isStreamable\":true}]\\n}\\n\\n\\n'"
      ]
     },
     "execution_count": 9,
     "metadata": {},
     "output_type": "execute_result"
    }
   ],
   "source": []
  },
  {
   "cell_type": "code",
   "execution_count": null,
   "metadata": {},
   "outputs": [],
   "source": []
  },
  {
   "cell_type": "markdown",
   "metadata": {},
   "source": [
    "### Locate the name and release date of a song"
   ]
  },
  {
   "cell_type": "code",
   "execution_count": 22,
   "metadata": {},
   "outputs": [
    {
     "data": {
      "text/plain": [
       "'2005-11-01T08:00:00Z'"
      ]
     },
     "execution_count": 22,
     "metadata": {},
     "output_type": "execute_result"
    }
   ],
   "source": [
    "info['results'][0]['releaseDate']"
   ]
  },
  {
   "cell_type": "code",
   "execution_count": 25,
   "metadata": {},
   "outputs": [
    {
     "ename": "KeyError",
     "evalue": "'trackName'",
     "output_type": "error",
     "traceback": [
      "\u001b[0;31m---------------------------------------------------------------------------\u001b[0m",
      "\u001b[0;31mKeyError\u001b[0m                                  Traceback (most recent call last)",
      "\u001b[0;32m<ipython-input-25-e2fb41a2b50c>\u001b[0m in \u001b[0;36m<module>\u001b[0;34m\u001b[0m\n\u001b[0;32m----> 1\u001b[0;31m \u001b[0minfo\u001b[0m\u001b[0;34m[\u001b[0m\u001b[0;34m'results'\u001b[0m\u001b[0;34m]\u001b[0m\u001b[0;34m[\u001b[0m\u001b[0;36m0\u001b[0m\u001b[0;34m]\u001b[0m\u001b[0;34m[\u001b[0m\u001b[0;34m'trackName'\u001b[0m\u001b[0;34m]\u001b[0m\u001b[0;34m\u001b[0m\u001b[0;34m\u001b[0m\u001b[0m\n\u001b[0m",
      "\u001b[0;31mKeyError\u001b[0m: 'trackName'"
     ]
    }
   ],
   "source": [
    "info['results'][0]['trackName']"
   ]
  },
  {
   "cell_type": "markdown",
   "metadata": {},
   "source": [
    "### Print the name of all songs"
   ]
  },
  {
   "cell_type": "code",
   "execution_count": 24,
   "metadata": {},
   "outputs": [
    {
     "ename": "KeyError",
     "evalue": "'trackName'",
     "output_type": "error",
     "traceback": [
      "\u001b[0;31m---------------------------------------------------------------------------\u001b[0m",
      "\u001b[0;31mKeyError\u001b[0m                                  Traceback (most recent call last)",
      "\u001b[0;32m<ipython-input-24-28b52abe545a>\u001b[0m in \u001b[0;36m<module>\u001b[0;34m\u001b[0m\n\u001b[1;32m      1\u001b[0m \u001b[0;32mfor\u001b[0m \u001b[0mresult\u001b[0m \u001b[0;32min\u001b[0m \u001b[0minfo\u001b[0m\u001b[0;34m[\u001b[0m\u001b[0;34m'results'\u001b[0m\u001b[0;34m]\u001b[0m\u001b[0;34m:\u001b[0m\u001b[0;34m\u001b[0m\u001b[0;34m\u001b[0m\u001b[0m\n\u001b[0;32m----> 2\u001b[0;31m     \u001b[0mprint\u001b[0m\u001b[0;34m(\u001b[0m\u001b[0mresult\u001b[0m\u001b[0;34m[\u001b[0m\u001b[0;34m'trackName'\u001b[0m\u001b[0;34m]\u001b[0m\u001b[0;34m)\u001b[0m\u001b[0;34m\u001b[0m\u001b[0;34m\u001b[0m\u001b[0m\n\u001b[0m",
      "\u001b[0;31mKeyError\u001b[0m: 'trackName'"
     ]
    }
   ],
   "source": [
    "for result in info['results']:\n",
    "    print(result['trackName'])"
   ]
  },
  {
   "cell_type": "code",
   "execution_count": 23,
   "metadata": {},
   "outputs": [
    {
     "ename": "KeyError",
     "evalue": "'trackName'",
     "output_type": "error",
     "traceback": [
      "\u001b[0;31m---------------------------------------------------------------------------\u001b[0m",
      "\u001b[0;31mKeyError\u001b[0m                                  Traceback (most recent call last)",
      "\u001b[0;32m<ipython-input-23-26b659275907>\u001b[0m in \u001b[0;36m<module>\u001b[0;34m\u001b[0m\n\u001b[0;32m----> 1\u001b[0;31m \u001b[0;34m[\u001b[0m\u001b[0mprint\u001b[0m\u001b[0;34m(\u001b[0m\u001b[0mresult\u001b[0m\u001b[0;34m[\u001b[0m\u001b[0;34m'trackName'\u001b[0m\u001b[0;34m]\u001b[0m\u001b[0;34m)\u001b[0m \u001b[0;32mfor\u001b[0m \u001b[0mresult\u001b[0m \u001b[0;32min\u001b[0m \u001b[0minfo\u001b[0m\u001b[0;34m[\u001b[0m\u001b[0;34m'results'\u001b[0m\u001b[0;34m]\u001b[0m\u001b[0;34m]\u001b[0m\u001b[0;34m\u001b[0m\u001b[0;34m\u001b[0m\u001b[0m\n\u001b[0m",
      "\u001b[0;32m<ipython-input-23-26b659275907>\u001b[0m in \u001b[0;36m<listcomp>\u001b[0;34m(.0)\u001b[0m\n\u001b[0;32m----> 1\u001b[0;31m \u001b[0;34m[\u001b[0m\u001b[0mprint\u001b[0m\u001b[0;34m(\u001b[0m\u001b[0mresult\u001b[0m\u001b[0;34m[\u001b[0m\u001b[0;34m'trackName'\u001b[0m\u001b[0;34m]\u001b[0m\u001b[0;34m)\u001b[0m \u001b[0;32mfor\u001b[0m \u001b[0mresult\u001b[0m \u001b[0;32min\u001b[0m \u001b[0minfo\u001b[0m\u001b[0;34m[\u001b[0m\u001b[0;34m'results'\u001b[0m\u001b[0;34m]\u001b[0m\u001b[0;34m]\u001b[0m\u001b[0;34m\u001b[0m\u001b[0;34m\u001b[0m\u001b[0m\n\u001b[0m",
      "\u001b[0;31mKeyError\u001b[0m: 'trackName'"
     ]
    }
   ],
   "source": [
    "[print(result['trackName']) for result in info['results']]"
   ]
  },
  {
   "cell_type": "markdown",
   "metadata": {},
   "source": [
    "### Print out the release date of all songs"
   ]
  },
  {
   "cell_type": "code",
   "execution_count": null,
   "metadata": {},
   "outputs": [],
   "source": []
  },
  {
   "cell_type": "code",
   "execution_count": 26,
   "metadata": {},
   "outputs": [],
   "source": [
    "# exchange rates api"
   ]
  },
  {
   "cell_type": "markdown",
   "metadata": {},
   "source": []
  },
  {
   "cell_type": "code",
   "execution_count": 56,
   "metadata": {},
   "outputs": [],
   "source": [
    "import requests"
   ]
  },
  {
   "cell_type": "code",
   "execution_count": 78,
   "metadata": {},
   "outputs": [],
   "source": [
    "base_url = 'http://api.exchangeratesapi.io/v1/latest?access_key=debfa4deeaf6ef27f39faf551f19a1f4'"
   ]
  },
  {
   "cell_type": "code",
   "execution_count": 79,
   "metadata": {},
   "outputs": [],
   "source": [
    "res = requests.get(base_url)"
   ]
  },
  {
   "cell_type": "code",
   "execution_count": 80,
   "metadata": {},
   "outputs": [
    {
     "data": {
      "text/plain": [
       "True"
      ]
     },
     "execution_count": 80,
     "metadata": {},
     "output_type": "execute_result"
    }
   ],
   "source": [
    "# investigating the response\n",
    "res.ok"
   ]
  },
  {
   "cell_type": "code",
   "execution_count": 81,
   "metadata": {},
   "outputs": [
    {
     "data": {
      "text/plain": [
       "200"
      ]
     },
     "execution_count": 81,
     "metadata": {},
     "output_type": "execute_result"
    }
   ],
   "source": [
    "res.status_code"
   ]
  },
  {
   "cell_type": "code",
   "execution_count": 82,
   "metadata": {},
   "outputs": [
    {
     "data": {
      "text/plain": [
       "'{\"success\":true,\"timestamp\":1626282124,\"base\":\"EUR\",\"date\":\"2021-07-14\",\"rates\":{\"AED\":4.346235,\"AFN\":94.131069,\"ALL\":122.885962,\"AMD\":586.454558,\"ANG\":2.123045,\"AOA\":760.860978,\"ARS\":113.775969,\"AUD\":1.582183,\"AWG\":2.129938,\"AZN\":2.018213,\"BAM\":1.96075,\"BBD\":2.388092,\"BDT\":100.303712,\"BGN\":1.957025,\"BHD\":0.446128,\"BIF\":2350.031653,\"BMD\":1.183299,\"BND\":1.60343,\"BOB\":8.166891,\"BRL\":6.017663,\"BSD\":1.182768,\"BTC\":3.6031027e-5,\"BTN\":88.151674,\"BWP\":13.1125,\"BYN\":3.027984,\"BYR\":23192.658814,\"BZD\":2.384082,\"CAD\":1.480526,\"CDF\":2366.598157,\"CHF\":1.082043,\"CLF\":0.032093,\"CLP\":885.639562,\"CNY\":7.654997,\"COP\":4493.045161,\"CRC\":733.420165,\"CUC\":1.183299,\"CUP\":31.357421,\"CVE\":110.786395,\"CZK\":25.600796,\"DJF\":210.295642,\"DKK\":7.437436,\"DOP\":67.542464,\"DZD\":159.041112,\"EGP\":18.575375,\"ERN\":17.754512,\"ETB\":52.047398,\"EUR\":1,\"FJD\":2.452386,\"FKP\":0.855242,\"GBP\":0.854165,\"GEL\":3.721461,\"GGP\":0.855242,\"GHS\":7.016777,\"GIP\":0.855242,\"GMD\":60.573463,\"GNF\":11655.494238,\"GTQ\":9.163291,\"GYD\":247.450859,\"HKD\":9.190269,\"HNL\":28.375756,\"HRK\":7.491577,\"HTG\":111.770379,\"HUF\":358.799144,\"IDR\":17162.745017,\"ILS\":3.862572,\"IMP\":0.855242,\"INR\":88.20369,\"IQD\":1728.208071,\"IRR\":49822.801444,\"ISK\":146.101438,\"JEP\":0.855242,\"JMD\":181.575577,\"JOD\":0.838941,\"JPY\":130.140372,\"KES\":127.737079,\"KGS\":100.250388,\"KHR\":4831.409842,\"KMF\":494.441269,\"KPW\":1064.969034,\"KRW\":1356.036735,\"KWD\":0.355889,\"KYD\":0.985673,\"KZT\":504.933009,\"LAK\":11247.255931,\"LBP\":1812.813982,\"LKR\":235.368734,\"LRD\":202.99455,\"LSL\":17.417753,\"LTL\":3.493974,\"LVL\":0.715766,\"LYD\":5.34263,\"MAD\":10.595849,\"MDL\":21.30707,\"MGA\":4455.120203,\"MKD\":61.696803,\"MMK\":1946.819058,\"MNT\":3370.170891,\"MOP\":9.463424,\"MRO\":422.437511,\"MUR\":50.940915,\"MVR\":18.234397,\"MWK\":946.639182,\"MXN\":23.525899,\"MYR\":4.9598,\"MZN\":75.233716,\"NAD\":17.417675,\"NGN\":486.930441,\"NIO\":41.664404,\"NOK\":10.349485,\"NPR\":141.044074,\"NZD\":1.682805,\"OMR\":0.455616,\"PAB\":1.182768,\"PEN\":4.691817,\"PGK\":4.143025,\"PHP\":59.315822,\"PKR\":188.64982,\"PLN\":4.567238,\"PYG\":8104.935434,\"QAR\":4.308355,\"RON\":4.929268,\"RSD\":117.826126,\"RUB\":87.750248,\"RWF\":1186.257166,\"SAR\":4.438027,\"SBD\":9.508266,\"SCR\":19.421509,\"SDG\":528.934481,\"SEK\":10.201788,\"SGD\":1.60156,\"SHP\":0.855242,\"SLL\":12134.72997,\"SOS\":692.230314,\"SRD\":25.155782,\"STD\":24375.74951,\"SVC\":10.348966,\"SYP\":1487.839526,\"SZL\":17.417933,\"THB\":38.611146,\"TJS\":13.489245,\"TMT\":4.153379,\"TND\":3.304364,\"TOP\":2.673305,\"TRY\":10.172352,\"TTD\":8.032454,\"TWD\":33.119946,\"TZS\":2736.827184,\"UAH\":32.279453,\"UGX\":4186.905023,\"USD\":1.183299,\"UYU\":51.96438,\"UZS\":12590.300641,\"VEF\":253025070954.23926,\"VND\":27230.666375,\"VUV\":130.30334,\"WST\":3.019372,\"XAF\":657.609734,\"XAG\":0.045244,\"XAU\":0.000649,\"XCD\":3.197924,\"XDR\":0.830086,\"XOF\":653.79507,\"XPF\":120.075283,\"YER\":296.238787,\"ZAR\":17.160322,\"ZMK\":10651.103025,\"ZMW\":26.815882,\"ZWL\":381.022535}}'"
      ]
     },
     "execution_count": 82,
     "metadata": {},
     "output_type": "execute_result"
    }
   ],
   "source": [
    "res.text"
   ]
  },
  {
   "cell_type": "code",
   "execution_count": 83,
   "metadata": {},
   "outputs": [
    {
     "data": {
      "text/plain": [
       "b'{\"success\":true,\"timestamp\":1626282124,\"base\":\"EUR\",\"date\":\"2021-07-14\",\"rates\":{\"AED\":4.346235,\"AFN\":94.131069,\"ALL\":122.885962,\"AMD\":586.454558,\"ANG\":2.123045,\"AOA\":760.860978,\"ARS\":113.775969,\"AUD\":1.582183,\"AWG\":2.129938,\"AZN\":2.018213,\"BAM\":1.96075,\"BBD\":2.388092,\"BDT\":100.303712,\"BGN\":1.957025,\"BHD\":0.446128,\"BIF\":2350.031653,\"BMD\":1.183299,\"BND\":1.60343,\"BOB\":8.166891,\"BRL\":6.017663,\"BSD\":1.182768,\"BTC\":3.6031027e-5,\"BTN\":88.151674,\"BWP\":13.1125,\"BYN\":3.027984,\"BYR\":23192.658814,\"BZD\":2.384082,\"CAD\":1.480526,\"CDF\":2366.598157,\"CHF\":1.082043,\"CLF\":0.032093,\"CLP\":885.639562,\"CNY\":7.654997,\"COP\":4493.045161,\"CRC\":733.420165,\"CUC\":1.183299,\"CUP\":31.357421,\"CVE\":110.786395,\"CZK\":25.600796,\"DJF\":210.295642,\"DKK\":7.437436,\"DOP\":67.542464,\"DZD\":159.041112,\"EGP\":18.575375,\"ERN\":17.754512,\"ETB\":52.047398,\"EUR\":1,\"FJD\":2.452386,\"FKP\":0.855242,\"GBP\":0.854165,\"GEL\":3.721461,\"GGP\":0.855242,\"GHS\":7.016777,\"GIP\":0.855242,\"GMD\":60.573463,\"GNF\":11655.494238,\"GTQ\":9.163291,\"GYD\":247.450859,\"HKD\":9.190269,\"HNL\":28.375756,\"HRK\":7.491577,\"HTG\":111.770379,\"HUF\":358.799144,\"IDR\":17162.745017,\"ILS\":3.862572,\"IMP\":0.855242,\"INR\":88.20369,\"IQD\":1728.208071,\"IRR\":49822.801444,\"ISK\":146.101438,\"JEP\":0.855242,\"JMD\":181.575577,\"JOD\":0.838941,\"JPY\":130.140372,\"KES\":127.737079,\"KGS\":100.250388,\"KHR\":4831.409842,\"KMF\":494.441269,\"KPW\":1064.969034,\"KRW\":1356.036735,\"KWD\":0.355889,\"KYD\":0.985673,\"KZT\":504.933009,\"LAK\":11247.255931,\"LBP\":1812.813982,\"LKR\":235.368734,\"LRD\":202.99455,\"LSL\":17.417753,\"LTL\":3.493974,\"LVL\":0.715766,\"LYD\":5.34263,\"MAD\":10.595849,\"MDL\":21.30707,\"MGA\":4455.120203,\"MKD\":61.696803,\"MMK\":1946.819058,\"MNT\":3370.170891,\"MOP\":9.463424,\"MRO\":422.437511,\"MUR\":50.940915,\"MVR\":18.234397,\"MWK\":946.639182,\"MXN\":23.525899,\"MYR\":4.9598,\"MZN\":75.233716,\"NAD\":17.417675,\"NGN\":486.930441,\"NIO\":41.664404,\"NOK\":10.349485,\"NPR\":141.044074,\"NZD\":1.682805,\"OMR\":0.455616,\"PAB\":1.182768,\"PEN\":4.691817,\"PGK\":4.143025,\"PHP\":59.315822,\"PKR\":188.64982,\"PLN\":4.567238,\"PYG\":8104.935434,\"QAR\":4.308355,\"RON\":4.929268,\"RSD\":117.826126,\"RUB\":87.750248,\"RWF\":1186.257166,\"SAR\":4.438027,\"SBD\":9.508266,\"SCR\":19.421509,\"SDG\":528.934481,\"SEK\":10.201788,\"SGD\":1.60156,\"SHP\":0.855242,\"SLL\":12134.72997,\"SOS\":692.230314,\"SRD\":25.155782,\"STD\":24375.74951,\"SVC\":10.348966,\"SYP\":1487.839526,\"SZL\":17.417933,\"THB\":38.611146,\"TJS\":13.489245,\"TMT\":4.153379,\"TND\":3.304364,\"TOP\":2.673305,\"TRY\":10.172352,\"TTD\":8.032454,\"TWD\":33.119946,\"TZS\":2736.827184,\"UAH\":32.279453,\"UGX\":4186.905023,\"USD\":1.183299,\"UYU\":51.96438,\"UZS\":12590.300641,\"VEF\":253025070954.23926,\"VND\":27230.666375,\"VUV\":130.30334,\"WST\":3.019372,\"XAF\":657.609734,\"XAG\":0.045244,\"XAU\":0.000649,\"XCD\":3.197924,\"XDR\":0.830086,\"XOF\":653.79507,\"XPF\":120.075283,\"YER\":296.238787,\"ZAR\":17.160322,\"ZMK\":10651.103025,\"ZMW\":26.815882,\"ZWL\":381.022535}}'"
      ]
     },
     "execution_count": 83,
     "metadata": {},
     "output_type": "execute_result"
    }
   ],
   "source": [
    "res.content"
   ]
  },
  {
   "cell_type": "code",
   "execution_count": 84,
   "metadata": {},
   "outputs": [
    {
     "data": {
      "text/plain": [
       "{'success': True,\n",
       " 'timestamp': 1626282124,\n",
       " 'base': 'EUR',\n",
       " 'date': '2021-07-14',\n",
       " 'rates': {'AED': 4.346235,\n",
       "  'AFN': 94.131069,\n",
       "  'ALL': 122.885962,\n",
       "  'AMD': 586.454558,\n",
       "  'ANG': 2.123045,\n",
       "  'AOA': 760.860978,\n",
       "  'ARS': 113.775969,\n",
       "  'AUD': 1.582183,\n",
       "  'AWG': 2.129938,\n",
       "  'AZN': 2.018213,\n",
       "  'BAM': 1.96075,\n",
       "  'BBD': 2.388092,\n",
       "  'BDT': 100.303712,\n",
       "  'BGN': 1.957025,\n",
       "  'BHD': 0.446128,\n",
       "  'BIF': 2350.031653,\n",
       "  'BMD': 1.183299,\n",
       "  'BND': 1.60343,\n",
       "  'BOB': 8.166891,\n",
       "  'BRL': 6.017663,\n",
       "  'BSD': 1.182768,\n",
       "  'BTC': 3.6031027e-05,\n",
       "  'BTN': 88.151674,\n",
       "  'BWP': 13.1125,\n",
       "  'BYN': 3.027984,\n",
       "  'BYR': 23192.658814,\n",
       "  'BZD': 2.384082,\n",
       "  'CAD': 1.480526,\n",
       "  'CDF': 2366.598157,\n",
       "  'CHF': 1.082043,\n",
       "  'CLF': 0.032093,\n",
       "  'CLP': 885.639562,\n",
       "  'CNY': 7.654997,\n",
       "  'COP': 4493.045161,\n",
       "  'CRC': 733.420165,\n",
       "  'CUC': 1.183299,\n",
       "  'CUP': 31.357421,\n",
       "  'CVE': 110.786395,\n",
       "  'CZK': 25.600796,\n",
       "  'DJF': 210.295642,\n",
       "  'DKK': 7.437436,\n",
       "  'DOP': 67.542464,\n",
       "  'DZD': 159.041112,\n",
       "  'EGP': 18.575375,\n",
       "  'ERN': 17.754512,\n",
       "  'ETB': 52.047398,\n",
       "  'EUR': 1,\n",
       "  'FJD': 2.452386,\n",
       "  'FKP': 0.855242,\n",
       "  'GBP': 0.854165,\n",
       "  'GEL': 3.721461,\n",
       "  'GGP': 0.855242,\n",
       "  'GHS': 7.016777,\n",
       "  'GIP': 0.855242,\n",
       "  'GMD': 60.573463,\n",
       "  'GNF': 11655.494238,\n",
       "  'GTQ': 9.163291,\n",
       "  'GYD': 247.450859,\n",
       "  'HKD': 9.190269,\n",
       "  'HNL': 28.375756,\n",
       "  'HRK': 7.491577,\n",
       "  'HTG': 111.770379,\n",
       "  'HUF': 358.799144,\n",
       "  'IDR': 17162.745017,\n",
       "  'ILS': 3.862572,\n",
       "  'IMP': 0.855242,\n",
       "  'INR': 88.20369,\n",
       "  'IQD': 1728.208071,\n",
       "  'IRR': 49822.801444,\n",
       "  'ISK': 146.101438,\n",
       "  'JEP': 0.855242,\n",
       "  'JMD': 181.575577,\n",
       "  'JOD': 0.838941,\n",
       "  'JPY': 130.140372,\n",
       "  'KES': 127.737079,\n",
       "  'KGS': 100.250388,\n",
       "  'KHR': 4831.409842,\n",
       "  'KMF': 494.441269,\n",
       "  'KPW': 1064.969034,\n",
       "  'KRW': 1356.036735,\n",
       "  'KWD': 0.355889,\n",
       "  'KYD': 0.985673,\n",
       "  'KZT': 504.933009,\n",
       "  'LAK': 11247.255931,\n",
       "  'LBP': 1812.813982,\n",
       "  'LKR': 235.368734,\n",
       "  'LRD': 202.99455,\n",
       "  'LSL': 17.417753,\n",
       "  'LTL': 3.493974,\n",
       "  'LVL': 0.715766,\n",
       "  'LYD': 5.34263,\n",
       "  'MAD': 10.595849,\n",
       "  'MDL': 21.30707,\n",
       "  'MGA': 4455.120203,\n",
       "  'MKD': 61.696803,\n",
       "  'MMK': 1946.819058,\n",
       "  'MNT': 3370.170891,\n",
       "  'MOP': 9.463424,\n",
       "  'MRO': 422.437511,\n",
       "  'MUR': 50.940915,\n",
       "  'MVR': 18.234397,\n",
       "  'MWK': 946.639182,\n",
       "  'MXN': 23.525899,\n",
       "  'MYR': 4.9598,\n",
       "  'MZN': 75.233716,\n",
       "  'NAD': 17.417675,\n",
       "  'NGN': 486.930441,\n",
       "  'NIO': 41.664404,\n",
       "  'NOK': 10.349485,\n",
       "  'NPR': 141.044074,\n",
       "  'NZD': 1.682805,\n",
       "  'OMR': 0.455616,\n",
       "  'PAB': 1.182768,\n",
       "  'PEN': 4.691817,\n",
       "  'PGK': 4.143025,\n",
       "  'PHP': 59.315822,\n",
       "  'PKR': 188.64982,\n",
       "  'PLN': 4.567238,\n",
       "  'PYG': 8104.935434,\n",
       "  'QAR': 4.308355,\n",
       "  'RON': 4.929268,\n",
       "  'RSD': 117.826126,\n",
       "  'RUB': 87.750248,\n",
       "  'RWF': 1186.257166,\n",
       "  'SAR': 4.438027,\n",
       "  'SBD': 9.508266,\n",
       "  'SCR': 19.421509,\n",
       "  'SDG': 528.934481,\n",
       "  'SEK': 10.201788,\n",
       "  'SGD': 1.60156,\n",
       "  'SHP': 0.855242,\n",
       "  'SLL': 12134.72997,\n",
       "  'SOS': 692.230314,\n",
       "  'SRD': 25.155782,\n",
       "  'STD': 24375.74951,\n",
       "  'SVC': 10.348966,\n",
       "  'SYP': 1487.839526,\n",
       "  'SZL': 17.417933,\n",
       "  'THB': 38.611146,\n",
       "  'TJS': 13.489245,\n",
       "  'TMT': 4.153379,\n",
       "  'TND': 3.304364,\n",
       "  'TOP': 2.673305,\n",
       "  'TRY': 10.172352,\n",
       "  'TTD': 8.032454,\n",
       "  'TWD': 33.119946,\n",
       "  'TZS': 2736.827184,\n",
       "  'UAH': 32.279453,\n",
       "  'UGX': 4186.905023,\n",
       "  'USD': 1.183299,\n",
       "  'UYU': 51.96438,\n",
       "  'UZS': 12590.300641,\n",
       "  'VEF': 253025070954.23926,\n",
       "  'VND': 27230.666375,\n",
       "  'VUV': 130.30334,\n",
       "  'WST': 3.019372,\n",
       "  'XAF': 657.609734,\n",
       "  'XAG': 0.045244,\n",
       "  'XAU': 0.000649,\n",
       "  'XCD': 3.197924,\n",
       "  'XDR': 0.830086,\n",
       "  'XOF': 653.79507,\n",
       "  'XPF': 120.075283,\n",
       "  'YER': 296.238787,\n",
       "  'ZAR': 17.160322,\n",
       "  'ZMK': 10651.103025,\n",
       "  'ZMW': 26.815882,\n",
       "  'ZWL': 381.022535}}"
      ]
     },
     "execution_count": 84,
     "metadata": {},
     "output_type": "execute_result"
    }
   ],
   "source": [
    "# handling the json\n",
    "res.json()"
   ]
  },
  {
   "cell_type": "code",
   "execution_count": 85,
   "metadata": {},
   "outputs": [
    {
     "data": {
      "text/plain": [
       "dict"
      ]
     },
     "execution_count": 85,
     "metadata": {},
     "output_type": "execute_result"
    }
   ],
   "source": [
    "type(res.json())"
   ]
  },
  {
   "cell_type": "code",
   "execution_count": 86,
   "metadata": {},
   "outputs": [],
   "source": [
    "# improve the readability\n",
    "\n",
    "import json"
   ]
  },
  {
   "cell_type": "code",
   "execution_count": 87,
   "metadata": {},
   "outputs": [
    {
     "data": {
      "text/plain": [
       "'{\\n    \"success\": true,\\n    \"timestamp\": 1626282124,\\n    \"base\": \"EUR\",\\n    \"date\": \"2021-07-14\",\\n    \"rates\": {\\n        \"AED\": 4.346235,\\n        \"AFN\": 94.131069,\\n        \"ALL\": 122.885962,\\n        \"AMD\": 586.454558,\\n        \"ANG\": 2.123045,\\n        \"AOA\": 760.860978,\\n        \"ARS\": 113.775969,\\n        \"AUD\": 1.582183,\\n        \"AWG\": 2.129938,\\n        \"AZN\": 2.018213,\\n        \"BAM\": 1.96075,\\n        \"BBD\": 2.388092,\\n        \"BDT\": 100.303712,\\n        \"BGN\": 1.957025,\\n        \"BHD\": 0.446128,\\n        \"BIF\": 2350.031653,\\n        \"BMD\": 1.183299,\\n        \"BND\": 1.60343,\\n        \"BOB\": 8.166891,\\n        \"BRL\": 6.017663,\\n        \"BSD\": 1.182768,\\n        \"BTC\": 3.6031027e-05,\\n        \"BTN\": 88.151674,\\n        \"BWP\": 13.1125,\\n        \"BYN\": 3.027984,\\n        \"BYR\": 23192.658814,\\n        \"BZD\": 2.384082,\\n        \"CAD\": 1.480526,\\n        \"CDF\": 2366.598157,\\n        \"CHF\": 1.082043,\\n        \"CLF\": 0.032093,\\n        \"CLP\": 885.639562,\\n        \"CNY\": 7.654997,\\n        \"COP\": 4493.045161,\\n        \"CRC\": 733.420165,\\n        \"CUC\": 1.183299,\\n        \"CUP\": 31.357421,\\n        \"CVE\": 110.786395,\\n        \"CZK\": 25.600796,\\n        \"DJF\": 210.295642,\\n        \"DKK\": 7.437436,\\n        \"DOP\": 67.542464,\\n        \"DZD\": 159.041112,\\n        \"EGP\": 18.575375,\\n        \"ERN\": 17.754512,\\n        \"ETB\": 52.047398,\\n        \"EUR\": 1,\\n        \"FJD\": 2.452386,\\n        \"FKP\": 0.855242,\\n        \"GBP\": 0.854165,\\n        \"GEL\": 3.721461,\\n        \"GGP\": 0.855242,\\n        \"GHS\": 7.016777,\\n        \"GIP\": 0.855242,\\n        \"GMD\": 60.573463,\\n        \"GNF\": 11655.494238,\\n        \"GTQ\": 9.163291,\\n        \"GYD\": 247.450859,\\n        \"HKD\": 9.190269,\\n        \"HNL\": 28.375756,\\n        \"HRK\": 7.491577,\\n        \"HTG\": 111.770379,\\n        \"HUF\": 358.799144,\\n        \"IDR\": 17162.745017,\\n        \"ILS\": 3.862572,\\n        \"IMP\": 0.855242,\\n        \"INR\": 88.20369,\\n        \"IQD\": 1728.208071,\\n        \"IRR\": 49822.801444,\\n        \"ISK\": 146.101438,\\n        \"JEP\": 0.855242,\\n        \"JMD\": 181.575577,\\n        \"JOD\": 0.838941,\\n        \"JPY\": 130.140372,\\n        \"KES\": 127.737079,\\n        \"KGS\": 100.250388,\\n        \"KHR\": 4831.409842,\\n        \"KMF\": 494.441269,\\n        \"KPW\": 1064.969034,\\n        \"KRW\": 1356.036735,\\n        \"KWD\": 0.355889,\\n        \"KYD\": 0.985673,\\n        \"KZT\": 504.933009,\\n        \"LAK\": 11247.255931,\\n        \"LBP\": 1812.813982,\\n        \"LKR\": 235.368734,\\n        \"LRD\": 202.99455,\\n        \"LSL\": 17.417753,\\n        \"LTL\": 3.493974,\\n        \"LVL\": 0.715766,\\n        \"LYD\": 5.34263,\\n        \"MAD\": 10.595849,\\n        \"MDL\": 21.30707,\\n        \"MGA\": 4455.120203,\\n        \"MKD\": 61.696803,\\n        \"MMK\": 1946.819058,\\n        \"MNT\": 3370.170891,\\n        \"MOP\": 9.463424,\\n        \"MRO\": 422.437511,\\n        \"MUR\": 50.940915,\\n        \"MVR\": 18.234397,\\n        \"MWK\": 946.639182,\\n        \"MXN\": 23.525899,\\n        \"MYR\": 4.9598,\\n        \"MZN\": 75.233716,\\n        \"NAD\": 17.417675,\\n        \"NGN\": 486.930441,\\n        \"NIO\": 41.664404,\\n        \"NOK\": 10.349485,\\n        \"NPR\": 141.044074,\\n        \"NZD\": 1.682805,\\n        \"OMR\": 0.455616,\\n        \"PAB\": 1.182768,\\n        \"PEN\": 4.691817,\\n        \"PGK\": 4.143025,\\n        \"PHP\": 59.315822,\\n        \"PKR\": 188.64982,\\n        \"PLN\": 4.567238,\\n        \"PYG\": 8104.935434,\\n        \"QAR\": 4.308355,\\n        \"RON\": 4.929268,\\n        \"RSD\": 117.826126,\\n        \"RUB\": 87.750248,\\n        \"RWF\": 1186.257166,\\n        \"SAR\": 4.438027,\\n        \"SBD\": 9.508266,\\n        \"SCR\": 19.421509,\\n        \"SDG\": 528.934481,\\n        \"SEK\": 10.201788,\\n        \"SGD\": 1.60156,\\n        \"SHP\": 0.855242,\\n        \"SLL\": 12134.72997,\\n        \"SOS\": 692.230314,\\n        \"SRD\": 25.155782,\\n        \"STD\": 24375.74951,\\n        \"SVC\": 10.348966,\\n        \"SYP\": 1487.839526,\\n        \"SZL\": 17.417933,\\n        \"THB\": 38.611146,\\n        \"TJS\": 13.489245,\\n        \"TMT\": 4.153379,\\n        \"TND\": 3.304364,\\n        \"TOP\": 2.673305,\\n        \"TRY\": 10.172352,\\n        \"TTD\": 8.032454,\\n        \"TWD\": 33.119946,\\n        \"TZS\": 2736.827184,\\n        \"UAH\": 32.279453,\\n        \"UGX\": 4186.905023,\\n        \"USD\": 1.183299,\\n        \"UYU\": 51.96438,\\n        \"UZS\": 12590.300641,\\n        \"VEF\": 253025070954.23926,\\n        \"VND\": 27230.666375,\\n        \"VUV\": 130.30334,\\n        \"WST\": 3.019372,\\n        \"XAF\": 657.609734,\\n        \"XAG\": 0.045244,\\n        \"XAU\": 0.000649,\\n        \"XCD\": 3.197924,\\n        \"XDR\": 0.830086,\\n        \"XOF\": 653.79507,\\n        \"XPF\": 120.075283,\\n        \"YER\": 296.238787,\\n        \"ZAR\": 17.160322,\\n        \"ZMK\": 10651.103025,\\n        \"ZMW\": 26.815882,\\n        \"ZWL\": 381.022535\\n    }\\n}'"
      ]
     },
     "execution_count": 87,
     "metadata": {},
     "output_type": "execute_result"
    }
   ],
   "source": [
    "json.dumps(res.json(), indent=4)"
   ]
  },
  {
   "cell_type": "code",
   "execution_count": 88,
   "metadata": {},
   "outputs": [
    {
     "name": "stdout",
     "output_type": "stream",
     "text": [
      "{\n",
      "    \"success\": true,\n",
      "    \"timestamp\": 1626282124,\n",
      "    \"base\": \"EUR\",\n",
      "    \"date\": \"2021-07-14\",\n",
      "    \"rates\": {\n",
      "        \"AED\": 4.346235,\n",
      "        \"AFN\": 94.131069,\n",
      "        \"ALL\": 122.885962,\n",
      "        \"AMD\": 586.454558,\n",
      "        \"ANG\": 2.123045,\n",
      "        \"AOA\": 760.860978,\n",
      "        \"ARS\": 113.775969,\n",
      "        \"AUD\": 1.582183,\n",
      "        \"AWG\": 2.129938,\n",
      "        \"AZN\": 2.018213,\n",
      "        \"BAM\": 1.96075,\n",
      "        \"BBD\": 2.388092,\n",
      "        \"BDT\": 100.303712,\n",
      "        \"BGN\": 1.957025,\n",
      "        \"BHD\": 0.446128,\n",
      "        \"BIF\": 2350.031653,\n",
      "        \"BMD\": 1.183299,\n",
      "        \"BND\": 1.60343,\n",
      "        \"BOB\": 8.166891,\n",
      "        \"BRL\": 6.017663,\n",
      "        \"BSD\": 1.182768,\n",
      "        \"BTC\": 3.6031027e-05,\n",
      "        \"BTN\": 88.151674,\n",
      "        \"BWP\": 13.1125,\n",
      "        \"BYN\": 3.027984,\n",
      "        \"BYR\": 23192.658814,\n",
      "        \"BZD\": 2.384082,\n",
      "        \"CAD\": 1.480526,\n",
      "        \"CDF\": 2366.598157,\n",
      "        \"CHF\": 1.082043,\n",
      "        \"CLF\": 0.032093,\n",
      "        \"CLP\": 885.639562,\n",
      "        \"CNY\": 7.654997,\n",
      "        \"COP\": 4493.045161,\n",
      "        \"CRC\": 733.420165,\n",
      "        \"CUC\": 1.183299,\n",
      "        \"CUP\": 31.357421,\n",
      "        \"CVE\": 110.786395,\n",
      "        \"CZK\": 25.600796,\n",
      "        \"DJF\": 210.295642,\n",
      "        \"DKK\": 7.437436,\n",
      "        \"DOP\": 67.542464,\n",
      "        \"DZD\": 159.041112,\n",
      "        \"EGP\": 18.575375,\n",
      "        \"ERN\": 17.754512,\n",
      "        \"ETB\": 52.047398,\n",
      "        \"EUR\": 1,\n",
      "        \"FJD\": 2.452386,\n",
      "        \"FKP\": 0.855242,\n",
      "        \"GBP\": 0.854165,\n",
      "        \"GEL\": 3.721461,\n",
      "        \"GGP\": 0.855242,\n",
      "        \"GHS\": 7.016777,\n",
      "        \"GIP\": 0.855242,\n",
      "        \"GMD\": 60.573463,\n",
      "        \"GNF\": 11655.494238,\n",
      "        \"GTQ\": 9.163291,\n",
      "        \"GYD\": 247.450859,\n",
      "        \"HKD\": 9.190269,\n",
      "        \"HNL\": 28.375756,\n",
      "        \"HRK\": 7.491577,\n",
      "        \"HTG\": 111.770379,\n",
      "        \"HUF\": 358.799144,\n",
      "        \"IDR\": 17162.745017,\n",
      "        \"ILS\": 3.862572,\n",
      "        \"IMP\": 0.855242,\n",
      "        \"INR\": 88.20369,\n",
      "        \"IQD\": 1728.208071,\n",
      "        \"IRR\": 49822.801444,\n",
      "        \"ISK\": 146.101438,\n",
      "        \"JEP\": 0.855242,\n",
      "        \"JMD\": 181.575577,\n",
      "        \"JOD\": 0.838941,\n",
      "        \"JPY\": 130.140372,\n",
      "        \"KES\": 127.737079,\n",
      "        \"KGS\": 100.250388,\n",
      "        \"KHR\": 4831.409842,\n",
      "        \"KMF\": 494.441269,\n",
      "        \"KPW\": 1064.969034,\n",
      "        \"KRW\": 1356.036735,\n",
      "        \"KWD\": 0.355889,\n",
      "        \"KYD\": 0.985673,\n",
      "        \"KZT\": 504.933009,\n",
      "        \"LAK\": 11247.255931,\n",
      "        \"LBP\": 1812.813982,\n",
      "        \"LKR\": 235.368734,\n",
      "        \"LRD\": 202.99455,\n",
      "        \"LSL\": 17.417753,\n",
      "        \"LTL\": 3.493974,\n",
      "        \"LVL\": 0.715766,\n",
      "        \"LYD\": 5.34263,\n",
      "        \"MAD\": 10.595849,\n",
      "        \"MDL\": 21.30707,\n",
      "        \"MGA\": 4455.120203,\n",
      "        \"MKD\": 61.696803,\n",
      "        \"MMK\": 1946.819058,\n",
      "        \"MNT\": 3370.170891,\n",
      "        \"MOP\": 9.463424,\n",
      "        \"MRO\": 422.437511,\n",
      "        \"MUR\": 50.940915,\n",
      "        \"MVR\": 18.234397,\n",
      "        \"MWK\": 946.639182,\n",
      "        \"MXN\": 23.525899,\n",
      "        \"MYR\": 4.9598,\n",
      "        \"MZN\": 75.233716,\n",
      "        \"NAD\": 17.417675,\n",
      "        \"NGN\": 486.930441,\n",
      "        \"NIO\": 41.664404,\n",
      "        \"NOK\": 10.349485,\n",
      "        \"NPR\": 141.044074,\n",
      "        \"NZD\": 1.682805,\n",
      "        \"OMR\": 0.455616,\n",
      "        \"PAB\": 1.182768,\n",
      "        \"PEN\": 4.691817,\n",
      "        \"PGK\": 4.143025,\n",
      "        \"PHP\": 59.315822,\n",
      "        \"PKR\": 188.64982,\n",
      "        \"PLN\": 4.567238,\n",
      "        \"PYG\": 8104.935434,\n",
      "        \"QAR\": 4.308355,\n",
      "        \"RON\": 4.929268,\n",
      "        \"RSD\": 117.826126,\n",
      "        \"RUB\": 87.750248,\n",
      "        \"RWF\": 1186.257166,\n",
      "        \"SAR\": 4.438027,\n",
      "        \"SBD\": 9.508266,\n",
      "        \"SCR\": 19.421509,\n",
      "        \"SDG\": 528.934481,\n",
      "        \"SEK\": 10.201788,\n",
      "        \"SGD\": 1.60156,\n",
      "        \"SHP\": 0.855242,\n",
      "        \"SLL\": 12134.72997,\n",
      "        \"SOS\": 692.230314,\n",
      "        \"SRD\": 25.155782,\n",
      "        \"STD\": 24375.74951,\n",
      "        \"SVC\": 10.348966,\n",
      "        \"SYP\": 1487.839526,\n",
      "        \"SZL\": 17.417933,\n",
      "        \"THB\": 38.611146,\n",
      "        \"TJS\": 13.489245,\n",
      "        \"TMT\": 4.153379,\n",
      "        \"TND\": 3.304364,\n",
      "        \"TOP\": 2.673305,\n",
      "        \"TRY\": 10.172352,\n",
      "        \"TTD\": 8.032454,\n",
      "        \"TWD\": 33.119946,\n",
      "        \"TZS\": 2736.827184,\n",
      "        \"UAH\": 32.279453,\n",
      "        \"UGX\": 4186.905023,\n",
      "        \"USD\": 1.183299,\n",
      "        \"UYU\": 51.96438,\n",
      "        \"UZS\": 12590.300641,\n",
      "        \"VEF\": 253025070954.23926,\n",
      "        \"VND\": 27230.666375,\n",
      "        \"VUV\": 130.30334,\n",
      "        \"WST\": 3.019372,\n",
      "        \"XAF\": 657.609734,\n",
      "        \"XAG\": 0.045244,\n",
      "        \"XAU\": 0.000649,\n",
      "        \"XCD\": 3.197924,\n",
      "        \"XDR\": 0.830086,\n",
      "        \"XOF\": 653.79507,\n",
      "        \"XPF\": 120.075283,\n",
      "        \"YER\": 296.238787,\n",
      "        \"ZAR\": 17.160322,\n",
      "        \"ZMK\": 10651.103025,\n",
      "        \"ZMW\": 26.815882,\n",
      "        \"ZWL\": 381.022535\n",
      "    }\n",
      "}\n"
     ]
    }
   ],
   "source": [
    "print(json.dumps(res.json(), indent=4))"
   ]
  },
  {
   "cell_type": "code",
   "execution_count": 89,
   "metadata": {},
   "outputs": [
    {
     "data": {
      "text/plain": [
       "dict_keys(['success', 'timestamp', 'base', 'date', 'rates'])"
      ]
     },
     "execution_count": 89,
     "metadata": {},
     "output_type": "execute_result"
    }
   ],
   "source": [
    "res.json().keys()"
   ]
  },
  {
   "cell_type": "code",
   "execution_count": 127,
   "metadata": {},
   "outputs": [
    {
     "data": {
      "text/plain": [
       "'http://api.exchangeratesapi.io/v1/latest?access_key=debfa4deeaf6ef27f39faf551f19a1f4&symbols=GBP,USD'"
      ]
     },
     "execution_count": 127,
     "metadata": {},
     "output_type": "execute_result"
    }
   ],
   "source": [
    "# incorporating parameters in the GET request\n",
    "\n",
    "base_url = 'http://api.exchangeratesapi.io/v1/latest?'\n",
    "API_KEY = 'access_key=debfa4deeaf6ef27f39faf551f19a1f4'\n",
    "access_key = API_KEY\n",
    "# 'http://api.exchangeratesapi.io/v1/latest?access_key=debfa4deeaf6ef27f39faf551f19a1f4&symbols=GBP,USD'\n",
    "param_url = base_url + access_key + '&symbols=GBP,USD'\n",
    "param_url\n",
    "\n",
    "\n"
   ]
  },
  {
   "cell_type": "code",
   "execution_count": 128,
   "metadata": {},
   "outputs": [
    {
     "data": {
      "text/plain": [
       "<Response [200]>"
      ]
     },
     "execution_count": 128,
     "metadata": {},
     "output_type": "execute_result"
    }
   ],
   "source": [
    "res = requests.get(param_url)\n",
    "res"
   ]
  },
  {
   "cell_type": "code",
   "execution_count": 129,
   "metadata": {},
   "outputs": [],
   "source": [
    "data = res.json()"
   ]
  },
  {
   "cell_type": "code",
   "execution_count": 130,
   "metadata": {},
   "outputs": [
    {
     "data": {
      "text/plain": [
       "{'success': True,\n",
       " 'timestamp': 1626282124,\n",
       " 'base': 'EUR',\n",
       " 'date': '2021-07-14',\n",
       " 'rates': {'GBP': 0.854165, 'USD': 1.183299}}"
      ]
     },
     "execution_count": 130,
     "metadata": {},
     "output_type": "execute_result"
    }
   ],
   "source": [
    "data"
   ]
  },
  {
   "cell_type": "code",
   "execution_count": 131,
   "metadata": {},
   "outputs": [
    {
     "data": {
      "text/plain": [
       "{'GBP': 0.854165, 'USD': 1.183299}"
      ]
     },
     "execution_count": 131,
     "metadata": {},
     "output_type": "execute_result"
    }
   ],
   "source": [
    "data['rates']"
   ]
  },
  {
   "cell_type": "code",
   "execution_count": 135,
   "metadata": {},
   "outputs": [
    {
     "data": {
      "text/plain": [
       "'http://api.exchangeratesapi.io/v1/latest?access_key=debfa4deeaf6ef27f39faf551f19a1f4&symbols=GBP,USD'"
      ]
     },
     "execution_count": 135,
     "metadata": {},
     "output_type": "execute_result"
    }
   ],
   "source": [
    "param_url = f\"{base_url}{access_key}&symbols=GBP,USD\"\n",
    "param_url"
   ]
  },
  {
   "cell_type": "code",
   "execution_count": 136,
   "metadata": {},
   "outputs": [
    {
     "data": {
      "text/plain": [
       "{'success': True,\n",
       " 'timestamp': 1626282124,\n",
       " 'base': 'EUR',\n",
       " 'date': '2021-07-14',\n",
       " 'rates': {'GBP': 0.854165, 'USD': 1.183299}}"
      ]
     },
     "execution_count": 136,
     "metadata": {},
     "output_type": "execute_result"
    }
   ],
   "source": [
    "data = requests.get(param_url).json()\n",
    "data"
   ]
  },
  {
   "cell_type": "code",
   "execution_count": 139,
   "metadata": {},
   "outputs": [
    {
     "data": {
      "text/plain": [
       "0.854165"
      ]
     },
     "execution_count": 139,
     "metadata": {},
     "output_type": "execute_result"
    }
   ],
   "source": [
    "usd_to_gbp = data['rates']['GBP']\n",
    "usd_to_gbp"
   ]
  },
  {
   "cell_type": "code",
   "execution_count": 140,
   "metadata": {},
   "outputs": [],
   "source": [
    "# obtaining historical exchang rates"
   ]
  },
  {
   "cell_type": "code",
   "execution_count": 167,
   "metadata": {},
   "outputs": [],
   "source": [
    "base_url = 'http://api.exchangeratesapi.io/v1/'\n",
    "API_KEY = 'access_key=debfa4deeaf6ef27f39faf551f19a1f4'\n",
    "access_key = API_KEY"
   ]
  },
  {
   "cell_type": "code",
   "execution_count": 168,
   "metadata": {},
   "outputs": [
    {
     "data": {
      "text/plain": [
       "'http://api.exchangeratesapi.io/v1//2016-01-26?access_key=debfa4deeaf6ef27f39faf551f19a1f4'"
      ]
     },
     "execution_count": 168,
     "metadata": {},
     "output_type": "execute_result"
    }
   ],
   "source": [
    "historical_url = f\"{base_url}/2016-01-26?{access_key}\"\n",
    "historical_url"
   ]
  },
  {
   "cell_type": "code",
   "execution_count": 169,
   "metadata": {},
   "outputs": [
    {
     "data": {
      "text/plain": [
       "200"
      ]
     },
     "execution_count": 169,
     "metadata": {},
     "output_type": "execute_result"
    }
   ],
   "source": [
    "res = requests.get(historical_url)\n",
    "res.status_code"
   ]
  },
  {
   "cell_type": "code",
   "execution_count": 170,
   "metadata": {},
   "outputs": [
    {
     "name": "stdout",
     "output_type": "stream",
     "text": [
      "{\n",
      "    \"success\": true,\n",
      "    \"timestamp\": 1453852799,\n",
      "    \"historical\": true,\n",
      "    \"base\": \"EUR\",\n",
      "    \"date\": \"2016-01-26\",\n",
      "    \"rates\": {\n",
      "        \"AED\": 3.991061,\n",
      "        \"AFN\": 74.58154,\n",
      "        \"ALL\": 137.965795,\n",
      "        \"AMD\": 530.247142,\n",
      "        \"ANG\": 1.943586,\n",
      "        \"AOA\": 168.999693,\n",
      "        \"ARS\": 14.990112,\n",
      "        \"AUD\": 1.55192,\n",
      "        \"AWG\": 1.948565,\n",
      "        \"AZN\": 1.738253,\n",
      "        \"BAM\": 1.958195,\n",
      "        \"BBD\": 2.173122,\n",
      "        \"BDT\": 85.139638,\n",
      "        \"BGN\": 1.959586,\n",
      "        \"BHD\": 0.409556,\n",
      "        \"BIF\": 1701.160447,\n",
      "        \"BMD\": 1.086561,\n",
      "        \"BND\": 1.550257,\n",
      "        \"BOB\": 7.503896,\n",
      "        \"BRL\": 4.430875,\n",
      "        \"BSD\": 1.086561,\n",
      "        \"BTC\": 0.002759,\n",
      "        \"BTN\": 73.608145,\n",
      "        \"BWP\": 12.59286,\n",
      "        \"BYR\": 22823.99887,\n",
      "        \"BZD\": 2.166505,\n",
      "        \"CAD\": 1.536042,\n",
      "        \"CDF\": 1008.769361,\n",
      "        \"CHF\": 1.104771,\n",
      "        \"CLF\": 0.026732,\n",
      "        \"CLP\": 780.130471,\n",
      "        \"CNY\": 7.136479,\n",
      "        \"COP\": 3643.349976,\n",
      "        \"CRC\": 581.502935,\n",
      "        \"CUC\": 1.086561,\n",
      "        \"CUP\": 1.08504,\n",
      "        \"CVE\": 110.692846,\n",
      "        \"CZK\": 27.049648,\n",
      "        \"DJF\": 193.049679,\n",
      "        \"DKK\": 7.470534,\n",
      "        \"DOP\": 49.597361,\n",
      "        \"DZD\": 116.607946,\n",
      "        \"EGP\": 8.510282,\n",
      "        \"ERN\": 16.300043,\n",
      "        \"ETB\": 23.082356,\n",
      "        \"EUR\": 1,\n",
      "        \"FJD\": 2.351843,\n",
      "        \"FKP\": 0.757253,\n",
      "        \"GBP\": 0.757253,\n",
      "        \"GEL\": 2.699126,\n",
      "        \"GGP\": 0.757253,\n",
      "        \"GHS\": 4.331521,\n",
      "        \"GIP\": 0.757253,\n",
      "        \"GMD\": 42.997577,\n",
      "        \"GNF\": 8411.849927,\n",
      "        \"GTQ\": 8.309943,\n",
      "        \"GYD\": 223.994889,\n",
      "        \"HKD\": 8.469703,\n",
      "        \"HNL\": 24.454289,\n",
      "        \"HRK\": 7.67416,\n",
      "        \"HTG\": 63.815513,\n",
      "        \"HUF\": 312.357732,\n",
      "        \"IDR\": 15029.907588,\n",
      "        \"ILS\": 4.311148,\n",
      "        \"IMP\": 0.757253,\n",
      "        \"INR\": 73.56411,\n",
      "        \"IQD\": 1182.775824,\n",
      "        \"IRR\": 32594.109754,\n",
      "        \"ISK\": 141.807466,\n",
      "        \"JEP\": 0.757253,\n",
      "        \"JMD\": 130.925561,\n",
      "        \"JOD\": 0.770478,\n",
      "        \"JPY\": 128.708432,\n",
      "        \"KES\": 110.981463,\n",
      "        \"KGS\": 82.466493,\n",
      "        \"KHR\": 4414.51754,\n",
      "        \"KMF\": 492.857326,\n",
      "        \"KPW\": 978.002575,\n",
      "        \"KRW\": 1301.9281,\n",
      "        \"KWD\": 0.330032,\n",
      "        \"KYD\": 0.896274,\n",
      "        \"KZT\": 411.653349,\n",
      "        \"LAK\": 8845.300949,\n",
      "        \"LBP\": 1643.659616,\n",
      "        \"LKR\": 156.368877,\n",
      "        \"LRD\": 92.172961,\n",
      "        \"LSL\": 17.833525,\n",
      "        \"LTL\": 3.36406,\n",
      "        \"LVL\": 0.690078,\n",
      "        \"LYD\": 1.515605,\n",
      "        \"MAD\": 10.771797,\n",
      "        \"MDL\": 22.343864,\n",
      "        \"MGA\": 3478.168258,\n",
      "        \"MKD\": 61.675488,\n",
      "        \"MMK\": 1407.859638,\n",
      "        \"MNT\": 2176.200332,\n",
      "        \"MOP\": 8.720062,\n",
      "        \"MRO\": 366.985934,\n",
      "        \"MUR\": 39.243944,\n",
      "        \"MVR\": 16.666576,\n",
      "        \"MWK\": 770.837583,\n",
      "        \"MXN\": 20.044516,\n",
      "        \"MYR\": 4.636976,\n",
      "        \"MZN\": 49.53631,\n",
      "        \"NAD\": 17.833691,\n",
      "        \"NGN\": 216.20171,\n",
      "        \"NIO\": 30.061684,\n",
      "        \"NOK\": 9.466752,\n",
      "        \"NPR\": 117.805364,\n",
      "        \"NZD\": 1.673047,\n",
      "        \"OMR\": 0.418382,\n",
      "        \"PAB\": 1.086561,\n",
      "        \"PEN\": 3.761785,\n",
      "        \"PGK\": 3.27321,\n",
      "        \"PHP\": 52.177077,\n",
      "        \"PKR\": 114.032,\n",
      "        \"PLN\": 4.454915,\n",
      "        \"PYG\": 6453.313196,\n",
      "        \"QAR\": 3.958007,\n",
      "        \"RON\": 4.534513,\n",
      "        \"RSD\": 123.273591,\n",
      "        \"RUB\": 85.537408,\n",
      "        \"RWF\": 811.845415,\n",
      "        \"SAR\": 4.076612,\n",
      "        \"SBD\": 8.871363,\n",
      "        \"SCR\": 14.265227,\n",
      "        \"SDG\": 6.630971,\n",
      "        \"SEK\": 9.289385,\n",
      "        \"SGD\": 1.550432,\n",
      "        \"SHP\": 0.757253,\n",
      "        \"SLL\": 4478.803914,\n",
      "        \"SOS\": 671.150318,\n",
      "        \"SRD\": 4.338094,\n",
      "        \"STD\": 24561.436868,\n",
      "        \"SVC\": 9.495542,\n",
      "        \"SYP\": 238.934734,\n",
      "        \"SZL\": 17.83619,\n",
      "        \"THB\": 38.950752,\n",
      "        \"TJS\": 8.364998,\n",
      "        \"TMT\": 3.804557,\n",
      "        \"TND\": 2.219164,\n",
      "        \"TOP\": 2.493078,\n",
      "        \"TRY\": 3.269079,\n",
      "        \"TTD\": 6.999677,\n",
      "        \"TWD\": 36.408514,\n",
      "        \"TZS\": 2378.121408,\n",
      "        \"UAH\": 27.008644,\n",
      "        \"UGX\": 3775.58715,\n",
      "        \"USD\": 1.086561,\n",
      "        \"UYU\": 33.701902,\n",
      "        \"UZS\": 3064.356985,\n",
      "        \"VEF\": 6.867559,\n",
      "        \"VND\": 24267.775683,\n",
      "        \"VUV\": 124.236012,\n",
      "        \"WST\": 2.849591,\n",
      "        \"XAF\": 658.116362,\n",
      "        \"XAG\": 0.074814,\n",
      "        \"XAU\": 0.000969,\n",
      "        \"XCD\": 2.934823,\n",
      "        \"XDR\": 0.787598,\n",
      "        \"XOF\": 660.390925,\n",
      "        \"XPF\": 119.468985,\n",
      "        \"YER\": 233.667416,\n",
      "        \"ZAR\": 17.829127,\n",
      "        \"ZMK\": 5707.786029,\n",
      "        \"ZMW\": 12.228889,\n",
      "        \"ZWL\": 350.293368\n",
      "    }\n",
      "}\n"
     ]
    }
   ],
   "source": [
    "data = res.json()\n",
    "print(json.dumps(data, indent=4))"
   ]
  },
  {
   "cell_type": "code",
   "execution_count": 171,
   "metadata": {},
   "outputs": [],
   "source": [
    "# extracting data for a time period"
   ]
  },
  {
   "cell_type": "code",
   "execution_count": 204,
   "metadata": {},
   "outputs": [
    {
     "data": {
      "text/plain": [
       "'http://api.exchangeratesapi.io/v1/start_at=2017-04-26&end_at=2018-04-26?access_key=debfa4deeaf6ef27f39faf551f19a1f4&symbols=GBP'"
      ]
     },
     "execution_count": 204,
     "metadata": {},
     "output_type": "execute_result"
    }
   ],
   "source": [
    "base_url = 'http://api.exchangeratesapi.io/v1/'\n",
    "access_key  = 'access_key=debfa4deeaf6ef27f39faf551f19a1f4'\n",
    "start_date = 'start_at=2017-04-26'\n",
    "end_date = 'end_at=2018-04-26'\n",
    "\n",
    "time_period = f\"{base_url}{start_date}&{end_date}?{access_key}&symbols=GBP\"\n",
    "time_period"
   ]
  },
  {
   "cell_type": "code",
   "execution_count": 205,
   "metadata": {},
   "outputs": [],
   "source": [
    "data = requests.get(time_period).json()"
   ]
  },
  {
   "cell_type": "code",
   "execution_count": 206,
   "metadata": {},
   "outputs": [
    {
     "name": "stdout",
     "output_type": "stream",
     "text": [
      "{\n",
      "    \"error\": {\n",
      "        \"code\": \"invalid_date\",\n",
      "        \"message\": \"You have entered an invalid date. [Required format: date=YYYY-MM-DD]\"\n",
      "    }\n",
      "}\n"
     ]
    }
   ],
   "source": [
    "print(json.dumps(data, indent=4))"
   ]
  },
  {
   "cell_type": "code",
   "execution_count": 208,
   "metadata": {},
   "outputs": [
    {
     "data": {
      "text/plain": [
       "200"
      ]
     },
     "execution_count": 208,
     "metadata": {},
     "output_type": "execute_result"
    }
   ],
   "source": [
    "res.status_code"
   ]
  },
  {
   "cell_type": "code",
   "execution_count": 207,
   "metadata": {},
   "outputs": [
    {
     "data": {
      "text/plain": [
       "{'success': True,\n",
       " 'timestamp': 1453852799,\n",
       " 'historical': True,\n",
       " 'base': 'EUR',\n",
       " 'date': '2016-01-26',\n",
       " 'rates': {'AED': 3.991061,\n",
       "  'AFN': 74.58154,\n",
       "  'ALL': 137.965795,\n",
       "  'AMD': 530.247142,\n",
       "  'ANG': 1.943586,\n",
       "  'AOA': 168.999693,\n",
       "  'ARS': 14.990112,\n",
       "  'AUD': 1.55192,\n",
       "  'AWG': 1.948565,\n",
       "  'AZN': 1.738253,\n",
       "  'BAM': 1.958195,\n",
       "  'BBD': 2.173122,\n",
       "  'BDT': 85.139638,\n",
       "  'BGN': 1.959586,\n",
       "  'BHD': 0.409556,\n",
       "  'BIF': 1701.160447,\n",
       "  'BMD': 1.086561,\n",
       "  'BND': 1.550257,\n",
       "  'BOB': 7.503896,\n",
       "  'BRL': 4.430875,\n",
       "  'BSD': 1.086561,\n",
       "  'BTC': 0.002759,\n",
       "  'BTN': 73.608145,\n",
       "  'BWP': 12.59286,\n",
       "  'BYR': 22823.99887,\n",
       "  'BZD': 2.166505,\n",
       "  'CAD': 1.536042,\n",
       "  'CDF': 1008.769361,\n",
       "  'CHF': 1.104771,\n",
       "  'CLF': 0.026732,\n",
       "  'CLP': 780.130471,\n",
       "  'CNY': 7.136479,\n",
       "  'COP': 3643.349976,\n",
       "  'CRC': 581.502935,\n",
       "  'CUC': 1.086561,\n",
       "  'CUP': 1.08504,\n",
       "  'CVE': 110.692846,\n",
       "  'CZK': 27.049648,\n",
       "  'DJF': 193.049679,\n",
       "  'DKK': 7.470534,\n",
       "  'DOP': 49.597361,\n",
       "  'DZD': 116.607946,\n",
       "  'EGP': 8.510282,\n",
       "  'ERN': 16.300043,\n",
       "  'ETB': 23.082356,\n",
       "  'EUR': 1,\n",
       "  'FJD': 2.351843,\n",
       "  'FKP': 0.757253,\n",
       "  'GBP': 0.757253,\n",
       "  'GEL': 2.699126,\n",
       "  'GGP': 0.757253,\n",
       "  'GHS': 4.331521,\n",
       "  'GIP': 0.757253,\n",
       "  'GMD': 42.997577,\n",
       "  'GNF': 8411.849927,\n",
       "  'GTQ': 8.309943,\n",
       "  'GYD': 223.994889,\n",
       "  'HKD': 8.469703,\n",
       "  'HNL': 24.454289,\n",
       "  'HRK': 7.67416,\n",
       "  'HTG': 63.815513,\n",
       "  'HUF': 312.357732,\n",
       "  'IDR': 15029.907588,\n",
       "  'ILS': 4.311148,\n",
       "  'IMP': 0.757253,\n",
       "  'INR': 73.56411,\n",
       "  'IQD': 1182.775824,\n",
       "  'IRR': 32594.109754,\n",
       "  'ISK': 141.807466,\n",
       "  'JEP': 0.757253,\n",
       "  'JMD': 130.925561,\n",
       "  'JOD': 0.770478,\n",
       "  'JPY': 128.708432,\n",
       "  'KES': 110.981463,\n",
       "  'KGS': 82.466493,\n",
       "  'KHR': 4414.51754,\n",
       "  'KMF': 492.857326,\n",
       "  'KPW': 978.002575,\n",
       "  'KRW': 1301.9281,\n",
       "  'KWD': 0.330032,\n",
       "  'KYD': 0.896274,\n",
       "  'KZT': 411.653349,\n",
       "  'LAK': 8845.300949,\n",
       "  'LBP': 1643.659616,\n",
       "  'LKR': 156.368877,\n",
       "  'LRD': 92.172961,\n",
       "  'LSL': 17.833525,\n",
       "  'LTL': 3.36406,\n",
       "  'LVL': 0.690078,\n",
       "  'LYD': 1.515605,\n",
       "  'MAD': 10.771797,\n",
       "  'MDL': 22.343864,\n",
       "  'MGA': 3478.168258,\n",
       "  'MKD': 61.675488,\n",
       "  'MMK': 1407.859638,\n",
       "  'MNT': 2176.200332,\n",
       "  'MOP': 8.720062,\n",
       "  'MRO': 366.985934,\n",
       "  'MUR': 39.243944,\n",
       "  'MVR': 16.666576,\n",
       "  'MWK': 770.837583,\n",
       "  'MXN': 20.044516,\n",
       "  'MYR': 4.636976,\n",
       "  'MZN': 49.53631,\n",
       "  'NAD': 17.833691,\n",
       "  'NGN': 216.20171,\n",
       "  'NIO': 30.061684,\n",
       "  'NOK': 9.466752,\n",
       "  'NPR': 117.805364,\n",
       "  'NZD': 1.673047,\n",
       "  'OMR': 0.418382,\n",
       "  'PAB': 1.086561,\n",
       "  'PEN': 3.761785,\n",
       "  'PGK': 3.27321,\n",
       "  'PHP': 52.177077,\n",
       "  'PKR': 114.032,\n",
       "  'PLN': 4.454915,\n",
       "  'PYG': 6453.313196,\n",
       "  'QAR': 3.958007,\n",
       "  'RON': 4.534513,\n",
       "  'RSD': 123.273591,\n",
       "  'RUB': 85.537408,\n",
       "  'RWF': 811.845415,\n",
       "  'SAR': 4.076612,\n",
       "  'SBD': 8.871363,\n",
       "  'SCR': 14.265227,\n",
       "  'SDG': 6.630971,\n",
       "  'SEK': 9.289385,\n",
       "  'SGD': 1.550432,\n",
       "  'SHP': 0.757253,\n",
       "  'SLL': 4478.803914,\n",
       "  'SOS': 671.150318,\n",
       "  'SRD': 4.338094,\n",
       "  'STD': 24561.436868,\n",
       "  'SVC': 9.495542,\n",
       "  'SYP': 238.934734,\n",
       "  'SZL': 17.83619,\n",
       "  'THB': 38.950752,\n",
       "  'TJS': 8.364998,\n",
       "  'TMT': 3.804557,\n",
       "  'TND': 2.219164,\n",
       "  'TOP': 2.493078,\n",
       "  'TRY': 3.269079,\n",
       "  'TTD': 6.999677,\n",
       "  'TWD': 36.408514,\n",
       "  'TZS': 2378.121408,\n",
       "  'UAH': 27.008644,\n",
       "  'UGX': 3775.58715,\n",
       "  'USD': 1.086561,\n",
       "  'UYU': 33.701902,\n",
       "  'UZS': 3064.356985,\n",
       "  'VEF': 6.867559,\n",
       "  'VND': 24267.775683,\n",
       "  'VUV': 124.236012,\n",
       "  'WST': 2.849591,\n",
       "  'XAF': 658.116362,\n",
       "  'XAG': 0.074814,\n",
       "  'XAU': 0.000969,\n",
       "  'XCD': 2.934823,\n",
       "  'XDR': 0.787598,\n",
       "  'XOF': 660.390925,\n",
       "  'XPF': 119.468985,\n",
       "  'YER': 233.667416,\n",
       "  'ZAR': 17.829127,\n",
       "  'ZMK': 5707.786029,\n",
       "  'ZMW': 12.228889,\n",
       "  'ZWL': 350.293368}}"
      ]
     },
     "execution_count": 207,
     "metadata": {},
     "output_type": "execute_result"
    }
   ],
   "source": [
    "res.json()"
   ]
  },
  {
   "cell_type": "code",
   "execution_count": 1,
   "metadata": {},
   "outputs": [],
   "source": [
    "# creating a simple currency converter app\n",
    "import requests"
   ]
  },
  {
   "cell_type": "code",
   "execution_count": 3,
   "metadata": {},
   "outputs": [
    {
     "name": "stdout",
     "output_type": "stream",
     "text": [
      "Please enter the date in the format 'YYYY-MM-DD' or 'latest' >>> 2019-03-20\n",
      "Convert to (currency): CAD\n",
      "How much USD do you want to convert: 1000\n"
     ]
    },
    {
     "ename": "NameError",
     "evalue": "name 'requests' is not defined",
     "output_type": "error",
     "traceback": [
      "\u001b[0;31m---------------------------------------------------------------------------\u001b[0m",
      "\u001b[0;31mNameError\u001b[0m                                 Traceback (most recent call last)",
      "\u001b[0;32m<ipython-input-3-0358f5c1f28f>\u001b[0m in \u001b[0;36m<module>\u001b[0;34m\u001b[0m\n\u001b[1;32m     11\u001b[0m \u001b[0;31m# build the URL based on the user parameters:\u001b[0m\u001b[0;34m\u001b[0m\u001b[0;34m\u001b[0m\u001b[0;34m\u001b[0m\u001b[0m\n\u001b[1;32m     12\u001b[0m \u001b[0murl\u001b[0m \u001b[0;34m=\u001b[0m \u001b[0;34mf\"{base_url}{date}?{access_key}&base=USD&symbols={currency}\"\u001b[0m\u001b[0;34m\u001b[0m\u001b[0;34m\u001b[0m\u001b[0m\n\u001b[0;32m---> 13\u001b[0;31m \u001b[0mres\u001b[0m \u001b[0;34m=\u001b[0m \u001b[0mrequests\u001b[0m\u001b[0;34m.\u001b[0m\u001b[0mget\u001b[0m\u001b[0;34m(\u001b[0m\u001b[0murl\u001b[0m\u001b[0;34m)\u001b[0m\u001b[0;34m\u001b[0m\u001b[0;34m\u001b[0m\u001b[0m\n\u001b[0m\u001b[1;32m     14\u001b[0m \u001b[0;34m\u001b[0m\u001b[0m\n\u001b[1;32m     15\u001b[0m \u001b[0;31m# show error message if something went wrong.\u001b[0m\u001b[0;34m\u001b[0m\u001b[0;34m\u001b[0m\u001b[0;34m\u001b[0m\u001b[0m\n",
      "\u001b[0;31mNameError\u001b[0m: name 'requests' is not defined"
     ]
    }
   ],
   "source": [
    "base_url = 'http://api.exchangeratesapi.io/v1/'\n",
    "\n",
    "# 1. Gather input (date, base, currency, quantity)\n",
    "\n",
    "date = input(\"Please enter the date in the format 'YYYY-MM-DD' or 'latest' >>> \")\n",
    "# base = input(\"Convert from (currency): \")\n",
    "currency = input(\"Convert to (currency): \")\n",
    "quantity = float(input(f\"How much USD do you want to convert: \"))\n",
    "access_key  = 'access_key=5f4dd9916217b32c4ee78fa59cc45578'\n",
    "\n",
    "# build the URL based on the user parameters:\n",
    "url = f\"{base_url}{date}?{access_key}&base=USD&symbols={currency}\"\n",
    "res = requests.get(url)\n",
    "\n",
    "# show error message if something went wrong.\n",
    "if(res.ok is False):\n",
    "    print(f'Error: {res.status_code}')\n",
    "    print(res.json()['error'])\n",
    "\n",
    "else:\n",
    "    data = res.json()\n",
    "    rate = data['rates'][currency]\n",
    "\n",
    "    result = quantity * rate\n",
    "\n",
    "    print(f\"{quantity} USD is equal to {result}{currency}, based upon exchage rates on {data['date']}\")"
   ]
  },
  {
   "cell_type": "code",
   "execution_count": 227,
   "metadata": {},
   "outputs": [
    {
     "data": {
      "text/plain": [
       "'http://api.exchangeratesapi.io/v1/2019-03-04?access_key=5f4dd9916217b32c4ee78fa59cc45578&base=USD&symbols=CAD'"
      ]
     },
     "execution_count": 227,
     "metadata": {},
     "output_type": "execute_result"
    }
   ],
   "source": [
    "url = f\"{base_url}{date}?{access_key}&base={base}&symbols={currency}\"\n",
    "url"
   ]
  },
  {
   "cell_type": "code",
   "execution_count": null,
   "metadata": {},
   "outputs": [],
   "source": []
  }
 ],
 "metadata": {
  "interpreter": {
   "hash": "dca0ade3e726a953b501b15e8e990130d2b7799f14cfd9f4271676035ebe5511"
  },
  "kernelspec": {
   "display_name": "Python 3",
   "language": "python",
   "name": "python3"
  },
  "language_info": {
   "codemirror_mode": {
    "name": "ipython",
    "version": 3
   },
   "file_extension": ".py",
   "mimetype": "text/x-python",
   "name": "python",
   "nbconvert_exporter": "python",
   "pygments_lexer": "ipython3",
   "version": "3.8.3"
  }
 },
 "nbformat": 4,
 "nbformat_minor": 2
}
