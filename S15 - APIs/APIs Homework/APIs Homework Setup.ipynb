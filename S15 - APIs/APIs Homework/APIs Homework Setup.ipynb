{
 "cells": [
  {
   "cell_type": "code",
   "execution_count": 3,
   "metadata": {},
   "outputs": [],
   "source": [
    "# Import the relevant modules\n",
    "import requests\n",
    "import json"
   ]
  },
  {
   "cell_type": "code",
   "execution_count": 4,
   "metadata": {},
   "outputs": [],
   "source": [
    "# The documentation for this particular API can be found here:\n",
    "# https://affiliate.itunes.apple.com/resources/documentation/itunes-store-web-service-search-api/"
   ]
  },
  {
   "cell_type": "code",
   "execution_count": 5,
   "metadata": {},
   "outputs": [],
   "source": [
    "# define base URL\n",
    "base_site = \"https://itunes.apple.com/search\""
   ]
  },
  {
   "cell_type": "code",
   "execution_count": 6,
   "metadata": {},
   "outputs": [
    {
     "output_type": "execute_result",
     "data": {
      "text/plain": [
       "'https://itunes.apple.com/search?term=the+beatles&country=us'"
      ]
     },
     "metadata": {},
     "execution_count": 6
    }
   ],
   "source": [
    "# Make a request\n",
    "url = f\"{base_site}?term=the+beatles&country=us\"\n",
    "url\n"
   ]
  },
  {
   "cell_type": "code",
   "execution_count": 7,
   "metadata": {},
   "outputs": [
    {
     "output_type": "execute_result",
     "data": {
      "text/plain": [
       "<Response [200]>"
      ]
     },
     "metadata": {},
     "execution_count": 7
    }
   ],
   "source": [
    "requests.get(url)"
   ]
  },
  {
   "cell_type": "code",
   "execution_count": 8,
   "metadata": {},
   "outputs": [
    {
     "output_type": "execute_result",
     "data": {
      "text/plain": [
       "200"
      ]
     },
     "metadata": {},
     "execution_count": 8
    }
   ],
   "source": [
    "res= requests.get(base_site, params = {\"term\": \"the beatles\", \"country\": \"us\", \"limit\": 200})\n",
    "res.status_code"
   ]
  },
  {
   "cell_type": "code",
   "execution_count": 9,
   "metadata": {
    "tags": [
     "outputPrepend"
    ]
   },
   "outputs": [
    {
     "output_type": "stream",
     "name": "stdout",
     "text": [
      "6129221138335460.plus.aac.p.m4a\",\n            \"artworkUrl30\": \"https://is1-ssl.mzstatic.com/image/thumb/Music124/v4/91/78/22/917822fb-f3cb-5ea4-3550-19bbb82cfa76/source/30x30bb.jpg\",\n            \"artworkUrl60\": \"https://is1-ssl.mzstatic.com/image/thumb/Music124/v4/91/78/22/917822fb-f3cb-5ea4-3550-19bbb82cfa76/source/60x60bb.jpg\",\n            \"artworkUrl100\": \"https://is1-ssl.mzstatic.com/image/thumb/Music124/v4/91/78/22/917822fb-f3cb-5ea4-3550-19bbb82cfa76/source/100x100bb.jpg\",\n            \"collectionPrice\": 12.99,\n            \"trackPrice\": 1.29,\n            \"releaseDate\": \"1963-11-22T12:00:00Z\",\n            \"collectionExplicitness\": \"notExplicit\",\n            \"trackExplicitness\": \"notExplicit\",\n            \"discCount\": 1,\n            \"discNumber\": 1,\n            \"trackCount\": 14,\n            \"trackNumber\": 4,\n            \"trackTimeMillis\": 148253,\n            \"country\": \"USA\",\n            \"currency\": \"USD\",\n            \"primaryGenreName\": \"Rock\",\n            \"isStreamable\": true\n        },\n        {\n            \"wrapperType\": \"track\",\n            \"kind\": \"song\",\n            \"artistId\": 136975,\n            \"collectionId\": 1441165005,\n            \"trackId\": 1441165006,\n            \"artistName\": \"The Beatles\",\n            \"collectionName\": \"Beatles For Sale\",\n            \"trackName\": \"No Reply\",\n            \"collectionCensoredName\": \"Beatles For Sale\",\n            \"trackCensoredName\": \"No Reply\",\n            \"artistViewUrl\": \"https://music.apple.com/us/artist/the-beatles/136975?uo=4\",\n            \"collectionViewUrl\": \"https://music.apple.com/us/album/no-reply/1441165005?i=1441165006&uo=4\",\n            \"trackViewUrl\": \"https://music.apple.com/us/album/no-reply/1441165005?i=1441165006&uo=4\",\n            \"previewUrl\": \"https://audio-ssl.itunes.apple.com/itunes-assets/AudioPreview125/v4/1b/34/76/1b3476ad-ef82-7ef8-cc17-9c46d3ad2157/mzaf_2595352916351294859.plus.aac.p.m4a\",\n            \"artworkUrl30\": \"https://is3-ssl.mzstatic.com/image/thumb/Music124/v4/e5/c7/fa/e5c7fabe-30b3-4aa4-68c4-76c9fab31622/source/30x30bb.jpg\",\n            \"artworkUrl60\": \"https://is3-ssl.mzstatic.com/image/thumb/Music124/v4/e5/c7/fa/e5c7fabe-30b3-4aa4-68c4-76c9fab31622/source/60x60bb.jpg\",\n            \"artworkUrl100\": \"https://is3-ssl.mzstatic.com/image/thumb/Music124/v4/e5/c7/fa/e5c7fabe-30b3-4aa4-68c4-76c9fab31622/source/100x100bb.jpg\",\n            \"collectionPrice\": 12.99,\n            \"trackPrice\": 1.29,\n            \"releaseDate\": \"1964-12-04T12:00:00Z\",\n            \"collectionExplicitness\": \"notExplicit\",\n            \"trackExplicitness\": \"notExplicit\",\n            \"discCount\": 1,\n            \"discNumber\": 1,\n            \"trackCount\": 14,\n            \"trackNumber\": 1,\n            \"trackTimeMillis\": 135067,\n            \"country\": \"USA\",\n            \"currency\": \"USD\",\n            \"primaryGenreName\": \"Rock\",\n            \"isStreamable\": true\n        },\n        {\n            \"wrapperType\": \"track\",\n            \"kind\": \"song\",\n            \"artistId\": 136975,\n            \"collectionId\": 1441164670,\n            \"trackId\": 1441165133,\n            \"artistName\": \"The Beatles\",\n            \"collectionName\": \"Revolver\",\n            \"trackName\": \"Good Day Sunshine\",\n            \"collectionCensoredName\": \"Revolver\",\n            \"trackCensoredName\": \"Good Day Sunshine\",\n            \"artistViewUrl\": \"https://music.apple.com/us/artist/the-beatles/136975?uo=4\",\n            \"collectionViewUrl\": \"https://music.apple.com/us/album/good-day-sunshine/1441164670?i=1441165133&uo=4\",\n            \"trackViewUrl\": \"https://music.apple.com/us/album/good-day-sunshine/1441164670?i=1441165133&uo=4\",\n            \"previewUrl\": \"https://audio-ssl.itunes.apple.com/itunes-assets/AudioPreview115/v4/a1/8e/ac/a18eac03-d617-c2a6-085a-13f83f03fcdd/mzaf_5869585145513258504.plus.aac.p.m4a\",\n            \"artworkUrl30\": \"https://is4-ssl.mzstatic.com/image/thumb/Music125/v4/94/ae/3e/94ae3ecc-3a86-0d22-023d-148e6bd1c106/source/30x30bb.jpg\",\n            \"artworkUrl60\": \"https://is4-ssl.mzstatic.com/image/thumb/Music125/v4/94/ae/3e/94ae3ecc-3a86-0d22-023d-148e6bd1c106/source/60x60bb.jpg\",\n            \"artworkUrl100\": \"https://is4-ssl.mzstatic.com/image/thumb/Music125/v4/94/ae/3e/94ae3ecc-3a86-0d22-023d-148e6bd1c106/source/100x100bb.jpg\",\n            \"collectionPrice\": 12.99,\n            \"trackPrice\": 1.29,\n            \"releaseDate\": \"1966-08-05T12:00:00Z\",\n            \"collectionExplicitness\": \"notExplicit\",\n            \"trackExplicitness\": \"notExplicit\",\n            \"discCount\": 1,\n            \"discNumber\": 1,\n            \"trackCount\": 14,\n            \"trackNumber\": 8,\n            \"trackTimeMillis\": 129293,\n            \"country\": \"USA\",\n            \"currency\": \"USD\",\n            \"primaryGenreName\": \"Rock\",\n            \"isStreamable\": true\n        },\n        {\n            \"wrapperType\": \"track\",\n            \"kind\": \"song\",\n            \"artistId\": 136975,\n            \"collectionId\": 1441165005,\n            \"trackId\": 1441165094,\n            \"artistName\": \"The Beatles\",\n            \"collectionName\": \"Beatles For Sale\",\n            \"trackName\": \"Rock and Roll Music\",\n            \"collectionCensoredName\": \"Beatles For Sale\",\n            \"trackCensoredName\": \"Rock and Roll Music\",\n            \"artistViewUrl\": \"https://music.apple.com/us/artist/the-beatles/136975?uo=4\",\n            \"collectionViewUrl\": \"https://music.apple.com/us/album/rock-and-roll-music/1441165005?i=1441165094&uo=4\",\n            \"trackViewUrl\": \"https://music.apple.com/us/album/rock-and-roll-music/1441165005?i=1441165094&uo=4\",\n            \"previewUrl\": \"https://audio-ssl.itunes.apple.com/itunes-assets/AudioPreview115/v4/03/17/e1/0317e119-bdda-39a3-d757-3e5d860cae95/mzaf_2410416766150478285.plus.aac.p.m4a\",\n            \"artworkUrl30\": \"https://is3-ssl.mzstatic.com/image/thumb/Music124/v4/e5/c7/fa/e5c7fabe-30b3-4aa4-68c4-76c9fab31622/source/30x30bb.jpg\",\n            \"artworkUrl60\": \"https://is3-ssl.mzstatic.com/image/thumb/Music124/v4/e5/c7/fa/e5c7fabe-30b3-4aa4-68c4-76c9fab31622/source/60x60bb.jpg\",\n            \"artworkUrl100\": \"https://is3-ssl.mzstatic.com/image/thumb/Music124/v4/e5/c7/fa/e5c7fabe-30b3-4aa4-68c4-76c9fab31622/source/100x100bb.jpg\",\n            \"collectionPrice\": 12.99,\n            \"trackPrice\": 1.29,\n            \"releaseDate\": \"1964-12-04T12:00:00Z\",\n            \"collectionExplicitness\": \"notExplicit\",\n            \"trackExplicitness\": \"notExplicit\",\n            \"discCount\": 1,\n            \"discNumber\": 1,\n            \"trackCount\": 14,\n            \"trackNumber\": 4,\n            \"trackTimeMillis\": 151280,\n            \"country\": \"USA\",\n            \"currency\": \"USD\",\n            \"primaryGenreName\": \"Rock\",\n            \"isStreamable\": true\n        },\n        {\n            \"wrapperType\": \"track\",\n            \"kind\": \"song\",\n            \"artistId\": 136975,\n            \"collectionId\": 1441164670,\n            \"trackId\": 1441164817,\n            \"artistName\": \"The Beatles\",\n            \"collectionName\": \"Revolver\",\n            \"trackName\": \"Here, There and Everywhere\",\n            \"collectionCensoredName\": \"Revolver\",\n            \"trackCensoredName\": \"Here, There and Everywhere\",\n            \"artistViewUrl\": \"https://music.apple.com/us/artist/the-beatles/136975?uo=4\",\n            \"collectionViewUrl\": \"https://music.apple.com/us/album/here-there-and-everywhere/1441164670?i=1441164817&uo=4\",\n            \"trackViewUrl\": \"https://music.apple.com/us/album/here-there-and-everywhere/1441164670?i=1441164817&uo=4\",\n            \"previewUrl\": \"https://audio-ssl.itunes.apple.com/itunes-assets/AudioPreview125/v4/61/6e/dc/616edce1-e9c8-1fb1-0524-d26454c84996/mzaf_14162653647069466733.plus.aac.p.m4a\",\n            \"artworkUrl30\": \"https://is4-ssl.mzstatic.com/image/thumb/Music125/v4/94/ae/3e/94ae3ecc-3a86-0d22-023d-148e6bd1c106/source/30x30bb.jpg\",\n            \"artworkUrl60\": \"https://is4-ssl.mzstatic.com/image/thumb/Music125/v4/94/ae/3e/94ae3ecc-3a86-0d22-023d-148e6bd1c106/source/60x60bb.jpg\",\n            \"artworkUrl100\": \"https://is4-ssl.mzstatic.com/image/thumb/Music125/v4/94/ae/3e/94ae3ecc-3a86-0d22-023d-148e6bd1c106/source/100x100bb.jpg\",\n            \"collectionPrice\": 12.99,\n            \"trackPrice\": 1.29,\n            \"releaseDate\": \"1966-08-05T12:00:00Z\",\n            \"collectionExplicitness\": \"notExplicit\",\n            \"trackExplicitness\": \"notExplicit\",\n            \"discCount\": 1,\n            \"discNumber\": 1,\n            \"trackCount\": 14,\n            \"trackNumber\": 5,\n            \"trackTimeMillis\": 144880,\n            \"country\": \"USA\",\n            \"currency\": \"USD\",\n            \"primaryGenreName\": \"Rock\",\n            \"isStreamable\": true\n        },\n        {\n            \"wrapperType\": \"track\",\n            \"kind\": \"song\",\n            \"artistId\": 136975,\n            \"collectionId\": 1441164362,\n            \"trackId\": 1441164834,\n            \"artistName\": \"The Beatles\",\n            \"collectionName\": \"With The Beatles\",\n            \"trackName\": \"I Wanna Be Your Man\",\n            \"collectionCensoredName\": \"With The Beatles\",\n            \"trackCensoredName\": \"I Wanna Be Your Man\",\n            \"artistViewUrl\": \"https://music.apple.com/us/artist/the-beatles/136975?uo=4\",\n            \"collectionViewUrl\": \"https://music.apple.com/us/album/i-wanna-be-your-man/1441164362?i=1441164834&uo=4\",\n            \"trackViewUrl\": \"https://music.apple.com/us/album/i-wanna-be-your-man/1441164362?i=1441164834&uo=4\",\n            \"previewUrl\": \"https://audio-ssl.itunes.apple.com/itunes-assets/AudioPreview115/v4/e8/12/68/e812684d-3786-d8fd-11a4-1573a69081a3/mzaf_9544659970155694438.plus.aac.p.m4a\",\n            \"artworkUrl30\": \"https://is1-ssl.mzstatic.com/image/thumb/Music124/v4/91/78/22/917822fb-f3cb-5ea4-3550-19bbb82cfa76/source/30x30bb.jpg\",\n            \"artworkUrl60\": \"https://is1-ssl.mzstatic.com/image/thumb/Music124/v4/91/78/22/917822fb-f3cb-5ea4-3550-19bbb82cfa76/source/60x60bb.jpg\",\n            \"artworkUrl100\": \"https://is1-ssl.mzstatic.com/image/thumb/Music124/v4/91/78/22/917822fb-f3cb-5ea4-3550-19bbb82cfa76/source/100x100bb.jpg\",\n            \"collectionPrice\": 12.99,\n            \"trackPrice\": 1.29,\n            \"releaseDate\": \"1963-11-22T12:00:00Z\",\n            \"collectionExplicitness\": \"notExplicit\",\n            \"trackExplicitness\": \"notExplicit\",\n            \"discCount\": 1,\n            \"discNumber\": 1,\n            \"trackCount\": 14,\n            \"trackNumber\": 11,\n            \"trackTimeMillis\": 119507,\n            \"country\": \"USA\",\n            \"currency\": \"USD\",\n            \"primaryGenreName\": \"Rock\",\n            \"isStreamable\": true\n        },\n        {\n            \"wrapperType\": \"track\",\n            \"kind\": \"song\",\n            \"artistId\": 136975,\n            \"collectionId\": 1441164816,\n            \"trackId\": 1441165136,\n            \"artistName\": \"The Beatles\",\n            \"collectionName\": \"Please Please Me\",\n            \"trackName\": \"Twist and Shout\",\n            \"collectionCensoredName\": \"Please Please Me\",\n            \"trackCensoredName\": \"Twist and Shout\",\n            \"artistViewUrl\": \"https://music.apple.com/us/artist/the-beatles/136975?uo=4\",\n            \"collectionViewUrl\": \"https://music.apple.com/us/album/twist-and-shout/1441164816?i=1441165136&uo=4\",\n            \"trackViewUrl\": \"https://music.apple.com/us/album/twist-and-shout/1441164816?i=1441165136&uo=4\",\n            \"previewUrl\": \"https://audio-ssl.itunes.apple.com/itunes-assets/AudioPreview125/v4/3f/85/82/3f8582c2-0d45-b964-019c-1d07dff1fbf5/mzaf_14764987307132054307.plus.aac.p.m4a\",\n            \"artworkUrl30\": \"https://is3-ssl.mzstatic.com/image/thumb/Music115/v4/da/1c/2a/da1c2a82-0fd6-5370-7be5-9fe1397ab618/source/30x30bb.jpg\",\n            \"artworkUrl60\": \"https://is3-ssl.mzstatic.com/image/thumb/Music115/v4/da/1c/2a/da1c2a82-0fd6-5370-7be5-9fe1397ab618/source/60x60bb.jpg\",\n            \"artworkUrl100\": \"https://is3-ssl.mzstatic.com/image/thumb/Music115/v4/da/1c/2a/da1c2a82-0fd6-5370-7be5-9fe1397ab618/source/100x100bb.jpg\",\n            \"collectionPrice\": 12.99,\n            \"trackPrice\": 1.29,\n            \"releaseDate\": \"1963-03-22T12:00:00Z\",\n            \"collectionExplicitness\": \"notExplicit\",\n            \"trackExplicitness\": \"notExplicit\",\n            \"discCount\": 1,\n            \"discNumber\": 1,\n            \"trackCount\": 14,\n            \"trackNumber\": 14,\n            \"trackTimeMillis\": 153225,\n            \"country\": \"USA\",\n            \"currency\": \"USD\",\n            \"primaryGenreName\": \"Rock\",\n            \"isStreamable\": true\n        },\n        {\n            \"wrapperType\": \"track\",\n            \"kind\": \"song\",\n            \"artistId\": 216123617,\n            \"collectionId\": 982690853,\n            \"trackId\": 982690978,\n            \"artistName\": \"Rockabye Baby!\",\n            \"collectionName\": \"Lullaby Renditions of the Beatles\",\n            \"trackName\": \"Here Comes the Sun\",\n            \"collectionCensoredName\": \"Lullaby Renditions of the Beatles\",\n            \"trackCensoredName\": \"Here Comes the Sun\",\n            \"artistViewUrl\": \"https://music.apple.com/us/artist/rockabye-baby/216123617?uo=4\",\n            \"collectionViewUrl\": \"https://music.apple.com/us/album/here-comes-the-sun/982690853?i=982690978&uo=4\",\n            \"trackViewUrl\": \"https://music.apple.com/us/album/here-comes-the-sun/982690853?i=982690978&uo=4\",\n            \"previewUrl\": \"https://audio-ssl.itunes.apple.com/itunes-assets/Music3/v4/c6/bc/8a/c6bc8a97-07ae-8ab9-1a0e-7d46836e5d0b/mzaf_4847164484212693994.plus.aac.p.m4a\",\n            \"artworkUrl30\": \"https://is4-ssl.mzstatic.com/image/thumb/Music1/v4/74/12/3c/74123c76-0177-dd37-2a84-964935b2ce73/source/30x30bb.jpg\",\n            \"artworkUrl60\": \"https://is4-ssl.mzstatic.com/image/thumb/Music1/v4/74/12/3c/74123c76-0177-dd37-2a84-964935b2ce73/source/60x60bb.jpg\",\n            \"artworkUrl100\": \"https://is4-ssl.mzstatic.com/image/thumb/Music1/v4/74/12/3c/74123c76-0177-dd37-2a84-964935b2ce73/source/100x100bb.jpg\",\n            \"collectionPrice\": 9.99,\n            \"trackPrice\": 1.29,\n            \"releaseDate\": \"2007-03-13T12:00:00Z\",\n            \"collectionExplicitness\": \"notExplicit\",\n            \"trackExplicitness\": \"notExplicit\",\n            \"discCount\": 1,\n            \"discNumber\": 1,\n            \"trackCount\": 12,\n            \"trackNumber\": 10,\n            \"trackTimeMillis\": 246373,\n            \"country\": \"USA\",\n            \"currency\": \"USD\",\n            \"primaryGenreName\": \"Lullabies\",\n            \"isStreamable\": true\n        },\n        {\n            \"wrapperType\": \"track\",\n            \"kind\": \"song\",\n            \"artistId\": 136975,\n            \"collectionId\": 1441164362,\n            \"trackId\": 1441165031,\n            \"artistName\": \"The Beatles\",\n            \"collectionName\": \"With The Beatles\",\n            \"trackName\": \"Not a Second Time\",\n            \"collectionCensoredName\": \"With The Beatles\",\n            \"trackCensoredName\": \"Not a Second Time\",\n            \"artistViewUrl\": \"https://music.apple.com/us/artist/the-beatles/136975?uo=4\",\n            \"collectionViewUrl\": \"https://music.apple.com/us/album/not-a-second-time/1441164362?i=1441165031&uo=4\",\n            \"trackViewUrl\": \"https://music.apple.com/us/album/not-a-second-time/1441164362?i=1441165031&uo=4\",\n            \"previewUrl\": \"https://audio-ssl.itunes.apple.com/itunes-assets/AudioPreview125/v4/4c/87/ba/4c87ba12-912f-d8a8-5999-e782f83b83ae/mzaf_4713163347402704018.plus.aac.p.m4a\",\n            \"artworkUrl30\": \"https://is1-ssl.mzstatic.com/image/thumb/Music124/v4/91/78/22/917822fb-f3cb-5ea4-3550-19bbb82cfa76/source/30x30bb.jpg\",\n            \"artworkUrl60\": \"https://is1-ssl.mzstatic.com/image/thumb/Music124/v4/91/78/22/917822fb-f3cb-5ea4-3550-19bbb82cfa76/source/60x60bb.jpg\",\n            \"artworkUrl100\": \"https://is1-ssl.mzstatic.com/image/thumb/Music124/v4/91/78/22/917822fb-f3cb-5ea4-3550-19bbb82cfa76/source/100x100bb.jpg\",\n            \"collectionPrice\": 12.99,\n            \"trackPrice\": 1.29,\n            \"releaseDate\": \"1963-11-22T12:00:00Z\",\n            \"collectionExplicitness\": \"notExplicit\",\n            \"trackExplicitness\": \"notExplicit\",\n            \"discCount\": 1,\n            \"discNumber\": 1,\n            \"trackCount\": 14,\n            \"trackNumber\": 13,\n            \"trackTimeMillis\": 126827,\n            \"country\": \"USA\",\n            \"currency\": \"USD\",\n            \"primaryGenreName\": \"Rock\",\n            \"isStreamable\": true\n        },\n        {\n            \"wrapperType\": \"track\",\n            \"kind\": \"song\",\n            \"artistId\": 136975,\n            \"collectionId\": 1441164359,\n            \"trackId\": 1441164634,\n            \"artistName\": \"The Beatles\",\n            \"collectionName\": \"Rubber Soul\",\n            \"trackName\": \"Girl\",\n            \"collectionCensoredName\": \"Rubber Soul\",\n            \"trackCensoredName\": \"Girl\",\n            \"artistViewUrl\": \"https://music.apple.com/us/artist/the-beatles/136975?uo=4\",\n            \"collectionViewUrl\": \"https://music.apple.com/us/album/girl/1441164359?i=1441164634&uo=4\",\n            \"trackViewUrl\": \"https://music.apple.com/us/album/girl/1441164359?i=1441164634&uo=4\",\n            \"previewUrl\": \"https://audio-ssl.itunes.apple.com/itunes-assets/AudioPreview115/v4/9a/0e/0a/9a0e0a66-d501-a39d-0d5d-2c354eca814a/mzaf_12320674419510278090.plus.aac.p.m4a\",\n            \"artworkUrl30\": \"https://is3-ssl.mzstatic.com/image/thumb/Music114/v4/ad/b6/b6/adb6b6d3-b3ee-ec61-10ea-91b173773b42/source/30x30bb.jpg\",\n            \"artworkUrl60\": \"https://is3-ssl.mzstatic.com/image/thumb/Music114/v4/ad/b6/b6/adb6b6d3-b3ee-ec61-10ea-91b173773b42/source/60x60bb.jpg\",\n            \"artworkUrl100\": \"https://is3-ssl.mzstatic.com/image/thumb/Music114/v4/ad/b6/b6/adb6b6d3-b3ee-ec61-10ea-91b173773b42/source/100x100bb.jpg\",\n            \"collectionPrice\": 12.99,\n            \"trackPrice\": 1.29,\n            \"releaseDate\": \"1965-12-03T12:00:00Z\",\n            \"collectionExplicitness\": \"notExplicit\",\n            \"trackExplicitness\": \"notExplicit\",\n            \"discCount\": 1,\n            \"discNumber\": 1,\n            \"trackCount\": 14,\n            \"trackNumber\": 9,\n            \"trackTimeMillis\": 151720,\n            \"country\": \"USA\",\n            \"currency\": \"USD\",\n            \"primaryGenreName\": \"Rock\",\n            \"isStreamable\": true\n        },\n        {\n            \"wrapperType\": \"track\",\n            \"kind\": \"song\",\n            \"artistId\": 136975,\n            \"collectionId\": 1441164362,\n            \"trackId\": 1441164847,\n            \"artistName\": \"The Beatles\",\n            \"collectionName\": \"With The Beatles\",\n            \"trackName\": \"Devil In Her Heart\",\n            \"collectionCensoredName\": \"With The Beatles\",\n            \"trackCensoredName\": \"Devil In Her Heart\",\n            \"artistViewUrl\": \"https://music.apple.com/us/artist/the-beatles/136975?uo=4\",\n            \"collectionViewUrl\": \"https://music.apple.com/us/album/devil-in-her-heart/1441164362?i=1441164847&uo=4\",\n            \"trackViewUrl\": \"https://music.apple.com/us/album/devil-in-her-heart/1441164362?i=1441164847&uo=4\",\n            \"previewUrl\": \"https://audio-ssl.itunes.apple.com/itunes-assets/AudioPreview125/v4/b5/b7/2e/b5b72e13-db7c-da62-b98a-7fc5cc6cd3cb/mzaf_7858608045514386270.plus.aac.p.m4a\",\n            \"artworkUrl30\": \"https://is1-ssl.mzstatic.com/image/thumb/Music124/v4/91/78/22/917822fb-f3cb-5ea4-3550-19bbb82cfa76/source/30x30bb.jpg\",\n            \"artworkUrl60\": \"https://is1-ssl.mzstatic.com/image/thumb/Music124/v4/91/78/22/917822fb-f3cb-5ea4-3550-19bbb82cfa76/source/60x60bb.jpg\",\n            \"artworkUrl100\": \"https://is1-ssl.mzstatic.com/image/thumb/Music124/v4/91/78/22/917822fb-f3cb-5ea4-3550-19bbb82cfa76/source/100x100bb.jpg\",\n            \"collectionPrice\": 12.99,\n            \"trackPrice\": 1.29,\n            \"releaseDate\": \"1963-11-22T12:00:00Z\",\n            \"collectionExplicitness\": \"notExplicit\",\n            \"trackExplicitness\": \"notExplicit\",\n            \"discCount\": 1,\n            \"discNumber\": 1,\n            \"trackCount\": 14,\n            \"trackNumber\": 12,\n            \"trackTimeMillis\": 146213,\n            \"country\": \"USA\",\n            \"currency\": \"USD\",\n            \"primaryGenreName\": \"Rock\",\n            \"isStreamable\": true\n        }\n    ]\n}\n"
     ]
    }
   ],
   "source": [
    "# Store the response\n",
    "info = res.json()\n",
    "print(json.dumps(info, indent=4))"
   ]
  },
  {
   "cell_type": "code",
   "execution_count": 10,
   "metadata": {},
   "outputs": [
    {
     "output_type": "execute_result",
     "data": {
      "text/plain": [
       "dict_keys(['resultCount', 'results'])"
      ]
     },
     "metadata": {},
     "execution_count": 10
    }
   ],
   "source": [
    "info.keys()"
   ]
  },
  {
   "cell_type": "code",
   "execution_count": 11,
   "metadata": {},
   "outputs": [
    {
     "output_type": "stream",
     "name": "stdout",
     "text": [
      "{\n    \"wrapperType\": \"audiobook\",\n    \"artistId\": 160778930,\n    \"collectionId\": 1439484338,\n    \"artistName\": \"Bob Spitz\",\n    \"collectionName\": \"The Beatles (Abridged)\",\n    \"collectionCensoredName\": \"The Beatles (Abridged)\",\n    \"artistViewUrl\": \"https://books.apple.com/us/author/bob-spitz/id160778930?uo=4\",\n    \"collectionViewUrl\": \"https://books.apple.com/us/audiobook/the-beatles-abridged/id1439484338?uo=4\",\n    \"artworkUrl60\": \"https://is3-ssl.mzstatic.com/image/thumb/Music128/v4/69/b8/65/69b86591-ce4b-9bd0-ab71-3808d0ea06dc/9780743552455.jpg/60x60bb.jpg\",\n    \"artworkUrl100\": \"https://is3-ssl.mzstatic.com/image/thumb/Music128/v4/69/b8/65/69b86591-ce4b-9bd0-ab71-3808d0ea06dc/9780743552455.jpg/100x100bb.jpg\",\n    \"collectionPrice\": 16.99,\n    \"collectionExplicitness\": \"notExplicit\",\n    \"trackCount\": 1,\n    \"country\": \"USA\",\n    \"currency\": \"USD\",\n    \"releaseDate\": \"2005-11-01T08:00:00Z\",\n    \"primaryGenreName\": \"Biographies & Memoirs\",\n    \"previewUrl\": \"https://audio-ssl.itunes.apple.com/itunes-assets/AudioPreview123/v4/8a/3b/60/8a3b60b6-8b98-ec66-4193-2410ade915b6/mzaf_3719604921631393408.std.aac.p.m4a\",\n    \"description\": \"<b>2007 Audie Award Winner for Non-Fiction, Abridged</b><br /><br />Even before the Beatles hit the big time, a myth was created. This version of the Beatles legend smoothed the rough edges and filled in the fault lines, and for more than forty years this manicured version of the Beatles story has sustained as truth -- until now.<br /> The product of almost a decade of research, hundreds of unprecedented interviews, and the discovery of scores of never-before-revealed documents, Bob Spitz's <i>The Beatles</i> is the biography fans have been waiting for.<br /> Never before has a biography of musicians been so immersive and textured. We are there in the McCartney living room when Paul and John learn to write songs together; backstage the night Ringo takes over on drums; in seedy German strip clubs where George lies about his age so the band can perform; and at the <i>Ed Sullivan Show</i> as America discovers the joy and the madness. From Shea to San Francisco, through the London night, on to India, through marmalade skies, across the universe-all the way to a rooftop concert and one last moment of laughter and music.<br /> It is all here, the highs and the lows, the love and the rivalry, the drugs, the tears, the thrill, the magic never again to be repeated. Bob Spitz's masterpiece is, at long last, the biography the Beatles deserve.\"\n}\n"
     ]
    }
   ],
   "source": [
    "print(json.dumps(info['results'][0], indent=4))"
   ]
  },
  {
   "cell_type": "markdown",
   "metadata": {},
   "source": [
    "### Inspect the structure of the response"
   ]
  },
  {
   "cell_type": "code",
   "execution_count": 12,
   "metadata": {
    "tags": []
   },
   "outputs": [
    {
     "output_type": "execute_result",
     "data": {
      "text/plain": [
       "200"
      ]
     },
     "metadata": {},
     "execution_count": 12
    }
   ],
   "source": [
    "info['resultCount']"
   ]
  },
  {
   "cell_type": "code",
   "execution_count": 13,
   "metadata": {},
   "outputs": [
    {
     "output_type": "execute_result",
     "data": {
      "text/plain": [
       "True"
      ]
     },
     "metadata": {},
     "execution_count": 13
    }
   ],
   "source": [
    "res.ok"
   ]
  },
  {
   "cell_type": "code",
   "execution_count": 14,
   "metadata": {},
   "outputs": [
    {
     "output_type": "execute_result",
     "data": {
      "text/plain": [
       "80179886759.plus.aac.p.m4a',\n",
       "   'artworkUrl30': 'https://is1-ssl.mzstatic.com/image/thumb/Music124/v4/91/78/22/917822fb-f3cb-5ea4-3550-19bbb82cfa76/source/30x30bb.jpg',\n",
       "   'artworkUrl60': 'https://is1-ssl.mzstatic.com/image/thumb/Music124/v4/91/78/22/917822fb-f3cb-5ea4-3550-19bbb82cfa76/source/60x60bb.jpg',\n",
       "   'artworkUrl100': 'https://is1-ssl.mzstatic.com/image/thumb/Music124/v4/91/78/22/917822fb-f3cb-5ea4-3550-19bbb82cfa76/source/100x100bb.jpg',\n",
       "   'collectionPrice': 12.99,\n",
       "   'trackPrice': 1.29,\n",
       "   'releaseDate': '1963-11-22T12:00:00Z',\n",
       "   'collectionExplicitness': 'notExplicit',\n",
       "   'trackExplicitness': 'notExplicit',\n",
       "   'discCount': 1,\n",
       "   'discNumber': 1,\n",
       "   'trackCount': 14,\n",
       "   'trackNumber': 9,\n",
       "   'trackTimeMillis': 151907,\n",
       "   'country': 'USA',\n",
       "   'currency': 'USD',\n",
       "   'primaryGenreName': 'Rock',\n",
       "   'isStreamable': True},\n",
       "  {'wrapperType': 'track',\n",
       "   'kind': 'song',\n",
       "   'artistId': 136975,\n",
       "   'collectionId': 1441164359,\n",
       "   'trackId': 1441164629,\n",
       "   'artistName': 'The Beatles',\n",
       "   'collectionName': 'Rubber Soul',\n",
       "   'trackName': 'Michelle',\n",
       "   'collectionCensoredName': 'Rubber Soul',\n",
       "   'trackCensoredName': 'Michelle',\n",
       "   'artistViewUrl': 'https://music.apple.com/us/artist/the-beatles/136975?uo=4',\n",
       "   'collectionViewUrl': 'https://music.apple.com/us/album/michelle/1441164359?i=1441164629&uo=4',\n",
       "   'trackViewUrl': 'https://music.apple.com/us/album/michelle/1441164359?i=1441164629&uo=4',\n",
       "   'previewUrl': 'https://audio-ssl.itunes.apple.com/itunes-assets/AudioPreview115/v4/7d/af/64/7daf6421-fab9-048e-0653-18f938f57578/mzaf_7108988507541365473.plus.aac.p.m4a',\n",
       "   'artworkUrl30': 'https://is3-ssl.mzstatic.com/image/thumb/Music114/v4/ad/b6/b6/adb6b6d3-b3ee-ec61-10ea-91b173773b42/source/30x30bb.jpg',\n",
       "   'artworkUrl60': 'https://is3-ssl.mzstatic.com/image/thumb/Music114/v4/ad/b6/b6/adb6b6d3-b3ee-ec61-10ea-91b173773b42/source/60x60bb.jpg',\n",
       "   'artworkUrl100': 'https://is3-ssl.mzstatic.com/image/thumb/Music114/v4/ad/b6/b6/adb6b6d3-b3ee-ec61-10ea-91b173773b42/source/100x100bb.jpg',\n",
       "   'collectionPrice': 12.99,\n",
       "   'trackPrice': 1.29,\n",
       "   'releaseDate': '1965-12-03T12:00:00Z',\n",
       "   'collectionExplicitness': 'notExplicit',\n",
       "   'trackExplicitness': 'notExplicit',\n",
       "   'discCount': 1,\n",
       "   'discNumber': 1,\n",
       "   'trackCount': 14,\n",
       "   'trackNumber': 7,\n",
       "   'trackTimeMillis': 162373,\n",
       "   'country': 'USA',\n",
       "   'currency': 'USD',\n",
       "   'primaryGenreName': 'Rock',\n",
       "   'isStreamable': True},\n",
       "  {'wrapperType': 'track',\n",
       "   'kind': 'song',\n",
       "   'artistId': 136975,\n",
       "   'collectionId': 1441164362,\n",
       "   'trackId': 1441164627,\n",
       "   'artistName': 'The Beatles',\n",
       "   'collectionName': 'With The Beatles',\n",
       "   'trackName': \"Don't Bother Me\",\n",
       "   'collectionCensoredName': 'With The Beatles',\n",
       "   'trackCensoredName': \"Don't Bother Me\",\n",
       "   'artistViewUrl': 'https://music.apple.com/us/artist/the-beatles/136975?uo=4',\n",
       "   'collectionViewUrl': 'https://music.apple.com/us/album/dont-bother-me/1441164362?i=1441164627&uo=4',\n",
       "   'trackViewUrl': 'https://music.apple.com/us/album/dont-bother-me/1441164362?i=1441164627&uo=4',\n",
       "   'previewUrl': 'https://audio-ssl.itunes.apple.com/itunes-assets/AudioPreview125/v4/ec/9e/9d/ec9e9d13-d6a4-e518-2762-dfaf783485e0/mzaf_9116129221138335460.plus.aac.p.m4a',\n",
       "   'artworkUrl30': 'https://is1-ssl.mzstatic.com/image/thumb/Music124/v4/91/78/22/917822fb-f3cb-5ea4-3550-19bbb82cfa76/source/30x30bb.jpg',\n",
       "   'artworkUrl60': 'https://is1-ssl.mzstatic.com/image/thumb/Music124/v4/91/78/22/917822fb-f3cb-5ea4-3550-19bbb82cfa76/source/60x60bb.jpg',\n",
       "   'artworkUrl100': 'https://is1-ssl.mzstatic.com/image/thumb/Music124/v4/91/78/22/917822fb-f3cb-5ea4-3550-19bbb82cfa76/source/100x100bb.jpg',\n",
       "   'collectionPrice': 12.99,\n",
       "   'trackPrice': 1.29,\n",
       "   'releaseDate': '1963-11-22T12:00:00Z',\n",
       "   'collectionExplicitness': 'notExplicit',\n",
       "   'trackExplicitness': 'notExplicit',\n",
       "   'discCount': 1,\n",
       "   'discNumber': 1,\n",
       "   'trackCount': 14,\n",
       "   'trackNumber': 4,\n",
       "   'trackTimeMillis': 148253,\n",
       "   'country': 'USA',\n",
       "   'currency': 'USD',\n",
       "   'primaryGenreName': 'Rock',\n",
       "   'isStreamable': True},\n",
       "  {'wrapperType': 'track',\n",
       "   'kind': 'song',\n",
       "   'artistId': 136975,\n",
       "   'collectionId': 1441165005,\n",
       "   'trackId': 1441165006,\n",
       "   'artistName': 'The Beatles',\n",
       "   'collectionName': 'Beatles For Sale',\n",
       "   'trackName': 'No Reply',\n",
       "   'collectionCensoredName': 'Beatles For Sale',\n",
       "   'trackCensoredName': 'No Reply',\n",
       "   'artistViewUrl': 'https://music.apple.com/us/artist/the-beatles/136975?uo=4',\n",
       "   'collectionViewUrl': 'https://music.apple.com/us/album/no-reply/1441165005?i=1441165006&uo=4',\n",
       "   'trackViewUrl': 'https://music.apple.com/us/album/no-reply/1441165005?i=1441165006&uo=4',\n",
       "   'previewUrl': 'https://audio-ssl.itunes.apple.com/itunes-assets/AudioPreview125/v4/1b/34/76/1b3476ad-ef82-7ef8-cc17-9c46d3ad2157/mzaf_2595352916351294859.plus.aac.p.m4a',\n",
       "   'artworkUrl30': 'https://is3-ssl.mzstatic.com/image/thumb/Music124/v4/e5/c7/fa/e5c7fabe-30b3-4aa4-68c4-76c9fab31622/source/30x30bb.jpg',\n",
       "   'artworkUrl60': 'https://is3-ssl.mzstatic.com/image/thumb/Music124/v4/e5/c7/fa/e5c7fabe-30b3-4aa4-68c4-76c9fab31622/source/60x60bb.jpg',\n",
       "   'artworkUrl100': 'https://is3-ssl.mzstatic.com/image/thumb/Music124/v4/e5/c7/fa/e5c7fabe-30b3-4aa4-68c4-76c9fab31622/source/100x100bb.jpg',\n",
       "   'collectionPrice': 12.99,\n",
       "   'trackPrice': 1.29,\n",
       "   'releaseDate': '1964-12-04T12:00:00Z',\n",
       "   'collectionExplicitness': 'notExplicit',\n",
       "   'trackExplicitness': 'notExplicit',\n",
       "   'discCount': 1,\n",
       "   'discNumber': 1,\n",
       "   'trackCount': 14,\n",
       "   'trackNumber': 1,\n",
       "   'trackTimeMillis': 135067,\n",
       "   'country': 'USA',\n",
       "   'currency': 'USD',\n",
       "   'primaryGenreName': 'Rock',\n",
       "   'isStreamable': True},\n",
       "  {'wrapperType': 'track',\n",
       "   'kind': 'song',\n",
       "   'artistId': 136975,\n",
       "   'collectionId': 1441164670,\n",
       "   'trackId': 1441165133,\n",
       "   'artistName': 'The Beatles',\n",
       "   'collectionName': 'Revolver',\n",
       "   'trackName': 'Good Day Sunshine',\n",
       "   'collectionCensoredName': 'Revolver',\n",
       "   'trackCensoredName': 'Good Day Sunshine',\n",
       "   'artistViewUrl': 'https://music.apple.com/us/artist/the-beatles/136975?uo=4',\n",
       "   'collectionViewUrl': 'https://music.apple.com/us/album/good-day-sunshine/1441164670?i=1441165133&uo=4',\n",
       "   'trackViewUrl': 'https://music.apple.com/us/album/good-day-sunshine/1441164670?i=1441165133&uo=4',\n",
       "   'previewUrl': 'https://audio-ssl.itunes.apple.com/itunes-assets/AudioPreview115/v4/a1/8e/ac/a18eac03-d617-c2a6-085a-13f83f03fcdd/mzaf_5869585145513258504.plus.aac.p.m4a',\n",
       "   'artworkUrl30': 'https://is4-ssl.mzstatic.com/image/thumb/Music125/v4/94/ae/3e/94ae3ecc-3a86-0d22-023d-148e6bd1c106/source/30x30bb.jpg',\n",
       "   'artworkUrl60': 'https://is4-ssl.mzstatic.com/image/thumb/Music125/v4/94/ae/3e/94ae3ecc-3a86-0d22-023d-148e6bd1c106/source/60x60bb.jpg',\n",
       "   'artworkUrl100': 'https://is4-ssl.mzstatic.com/image/thumb/Music125/v4/94/ae/3e/94ae3ecc-3a86-0d22-023d-148e6bd1c106/source/100x100bb.jpg',\n",
       "   'collectionPrice': 12.99,\n",
       "   'trackPrice': 1.29,\n",
       "   'releaseDate': '1966-08-05T12:00:00Z',\n",
       "   'collectionExplicitness': 'notExplicit',\n",
       "   'trackExplicitness': 'notExplicit',\n",
       "   'discCount': 1,\n",
       "   'discNumber': 1,\n",
       "   'trackCount': 14,\n",
       "   'trackNumber': 8,\n",
       "   'trackTimeMillis': 129293,\n",
       "   'country': 'USA',\n",
       "   'currency': 'USD',\n",
       "   'primaryGenreName': 'Rock',\n",
       "   'isStreamable': True},\n",
       "  {'wrapperType': 'track',\n",
       "   'kind': 'song',\n",
       "   'artistId': 136975,\n",
       "   'collectionId': 1441165005,\n",
       "   'trackId': 1441165094,\n",
       "   'artistName': 'The Beatles',\n",
       "   'collectionName': 'Beatles For Sale',\n",
       "   'trackName': 'Rock and Roll Music',\n",
       "   'collectionCensoredName': 'Beatles For Sale',\n",
       "   'trackCensoredName': 'Rock and Roll Music',\n",
       "   'artistViewUrl': 'https://music.apple.com/us/artist/the-beatles/136975?uo=4',\n",
       "   'collectionViewUrl': 'https://music.apple.com/us/album/rock-and-roll-music/1441165005?i=1441165094&uo=4',\n",
       "   'trackViewUrl': 'https://music.apple.com/us/album/rock-and-roll-music/1441165005?i=1441165094&uo=4',\n",
       "   'previewUrl': 'https://audio-ssl.itunes.apple.com/itunes-assets/AudioPreview115/v4/03/17/e1/0317e119-bdda-39a3-d757-3e5d860cae95/mzaf_2410416766150478285.plus.aac.p.m4a',\n",
       "   'artworkUrl30': 'https://is3-ssl.mzstatic.com/image/thumb/Music124/v4/e5/c7/fa/e5c7fabe-30b3-4aa4-68c4-76c9fab31622/source/30x30bb.jpg',\n",
       "   'artworkUrl60': 'https://is3-ssl.mzstatic.com/image/thumb/Music124/v4/e5/c7/fa/e5c7fabe-30b3-4aa4-68c4-76c9fab31622/source/60x60bb.jpg',\n",
       "   'artworkUrl100': 'https://is3-ssl.mzstatic.com/image/thumb/Music124/v4/e5/c7/fa/e5c7fabe-30b3-4aa4-68c4-76c9fab31622/source/100x100bb.jpg',\n",
       "   'collectionPrice': 12.99,\n",
       "   'trackPrice': 1.29,\n",
       "   'releaseDate': '1964-12-04T12:00:00Z',\n",
       "   'collectionExplicitness': 'notExplicit',\n",
       "   'trackExplicitness': 'notExplicit',\n",
       "   'discCount': 1,\n",
       "   'discNumber': 1,\n",
       "   'trackCount': 14,\n",
       "   'trackNumber': 4,\n",
       "   'trackTimeMillis': 151280,\n",
       "   'country': 'USA',\n",
       "   'currency': 'USD',\n",
       "   'primaryGenreName': 'Rock',\n",
       "   'isStreamable': True},\n",
       "  {'wrapperType': 'track',\n",
       "   'kind': 'song',\n",
       "   'artistId': 136975,\n",
       "   'collectionId': 1441164670,\n",
       "   'trackId': 1441164817,\n",
       "   'artistName': 'The Beatles',\n",
       "   'collectionName': 'Revolver',\n",
       "   'trackName': 'Here, There and Everywhere',\n",
       "   'collectionCensoredName': 'Revolver',\n",
       "   'trackCensoredName': 'Here, There and Everywhere',\n",
       "   'artistViewUrl': 'https://music.apple.com/us/artist/the-beatles/136975?uo=4',\n",
       "   'collectionViewUrl': 'https://music.apple.com/us/album/here-there-and-everywhere/1441164670?i=1441164817&uo=4',\n",
       "   'trackViewUrl': 'https://music.apple.com/us/album/here-there-and-everywhere/1441164670?i=1441164817&uo=4',\n",
       "   'previewUrl': 'https://audio-ssl.itunes.apple.com/itunes-assets/AudioPreview125/v4/61/6e/dc/616edce1-e9c8-1fb1-0524-d26454c84996/mzaf_14162653647069466733.plus.aac.p.m4a',\n",
       "   'artworkUrl30': 'https://is4-ssl.mzstatic.com/image/thumb/Music125/v4/94/ae/3e/94ae3ecc-3a86-0d22-023d-148e6bd1c106/source/30x30bb.jpg',\n",
       "   'artworkUrl60': 'https://is4-ssl.mzstatic.com/image/thumb/Music125/v4/94/ae/3e/94ae3ecc-3a86-0d22-023d-148e6bd1c106/source/60x60bb.jpg',\n",
       "   'artworkUrl100': 'https://is4-ssl.mzstatic.com/image/thumb/Music125/v4/94/ae/3e/94ae3ecc-3a86-0d22-023d-148e6bd1c106/source/100x100bb.jpg',\n",
       "   'collectionPrice': 12.99,\n",
       "   'trackPrice': 1.29,\n",
       "   'releaseDate': '1966-08-05T12:00:00Z',\n",
       "   'collectionExplicitness': 'notExplicit',\n",
       "   'trackExplicitness': 'notExplicit',\n",
       "   'discCount': 1,\n",
       "   'discNumber': 1,\n",
       "   'trackCount': 14,\n",
       "   'trackNumber': 5,\n",
       "   'trackTimeMillis': 144880,\n",
       "   'country': 'USA',\n",
       "   'currency': 'USD',\n",
       "   'primaryGenreName': 'Rock',\n",
       "   'isStreamable': True},\n",
       "  {'wrapperType': 'track',\n",
       "   'kind': 'song',\n",
       "   'artistId': 136975,\n",
       "   'collectionId': 1441164362,\n",
       "   'trackId': 1441164834,\n",
       "   'artistName': 'The Beatles',\n",
       "   'collectionName': 'With The Beatles',\n",
       "   'trackName': 'I Wanna Be Your Man',\n",
       "   'collectionCensoredName': 'With The Beatles',\n",
       "   'trackCensoredName': 'I Wanna Be Your Man',\n",
       "   'artistViewUrl': 'https://music.apple.com/us/artist/the-beatles/136975?uo=4',\n",
       "   'collectionViewUrl': 'https://music.apple.com/us/album/i-wanna-be-your-man/1441164362?i=1441164834&uo=4',\n",
       "   'trackViewUrl': 'https://music.apple.com/us/album/i-wanna-be-your-man/1441164362?i=1441164834&uo=4',\n",
       "   'previewUrl': 'https://audio-ssl.itunes.apple.com/itunes-assets/AudioPreview115/v4/e8/12/68/e812684d-3786-d8fd-11a4-1573a69081a3/mzaf_9544659970155694438.plus.aac.p.m4a',\n",
       "   'artworkUrl30': 'https://is1-ssl.mzstatic.com/image/thumb/Music124/v4/91/78/22/917822fb-f3cb-5ea4-3550-19bbb82cfa76/source/30x30bb.jpg',\n",
       "   'artworkUrl60': 'https://is1-ssl.mzstatic.com/image/thumb/Music124/v4/91/78/22/917822fb-f3cb-5ea4-3550-19bbb82cfa76/source/60x60bb.jpg',\n",
       "   'artworkUrl100': 'https://is1-ssl.mzstatic.com/image/thumb/Music124/v4/91/78/22/917822fb-f3cb-5ea4-3550-19bbb82cfa76/source/100x100bb.jpg',\n",
       "   'collectionPrice': 12.99,\n",
       "   'trackPrice': 1.29,\n",
       "   'releaseDate': '1963-11-22T12:00:00Z',\n",
       "   'collectionExplicitness': 'notExplicit',\n",
       "   'trackExplicitness': 'notExplicit',\n",
       "   'discCount': 1,\n",
       "   'discNumber': 1,\n",
       "   'trackCount': 14,\n",
       "   'trackNumber': 11,\n",
       "   'trackTimeMillis': 119507,\n",
       "   'country': 'USA',\n",
       "   'currency': 'USD',\n",
       "   'primaryGenreName': 'Rock',\n",
       "   'isStreamable': True},\n",
       "  {'wrapperType': 'track',\n",
       "   'kind': 'song',\n",
       "   'artistId': 136975,\n",
       "   'collectionId': 1441164816,\n",
       "   'trackId': 1441165136,\n",
       "   'artistName': 'The Beatles',\n",
       "   'collectionName': 'Please Please Me',\n",
       "   'trackName': 'Twist and Shout',\n",
       "   'collectionCensoredName': 'Please Please Me',\n",
       "   'trackCensoredName': 'Twist and Shout',\n",
       "   'artistViewUrl': 'https://music.apple.com/us/artist/the-beatles/136975?uo=4',\n",
       "   'collectionViewUrl': 'https://music.apple.com/us/album/twist-and-shout/1441164816?i=1441165136&uo=4',\n",
       "   'trackViewUrl': 'https://music.apple.com/us/album/twist-and-shout/1441164816?i=1441165136&uo=4',\n",
       "   'previewUrl': 'https://audio-ssl.itunes.apple.com/itunes-assets/AudioPreview125/v4/3f/85/82/3f8582c2-0d45-b964-019c-1d07dff1fbf5/mzaf_14764987307132054307.plus.aac.p.m4a',\n",
       "   'artworkUrl30': 'https://is3-ssl.mzstatic.com/image/thumb/Music115/v4/da/1c/2a/da1c2a82-0fd6-5370-7be5-9fe1397ab618/source/30x30bb.jpg',\n",
       "   'artworkUrl60': 'https://is3-ssl.mzstatic.com/image/thumb/Music115/v4/da/1c/2a/da1c2a82-0fd6-5370-7be5-9fe1397ab618/source/60x60bb.jpg',\n",
       "   'artworkUrl100': 'https://is3-ssl.mzstatic.com/image/thumb/Music115/v4/da/1c/2a/da1c2a82-0fd6-5370-7be5-9fe1397ab618/source/100x100bb.jpg',\n",
       "   'collectionPrice': 12.99,\n",
       "   'trackPrice': 1.29,\n",
       "   'releaseDate': '1963-03-22T12:00:00Z',\n",
       "   'collectionExplicitness': 'notExplicit',\n",
       "   'trackExplicitness': 'notExplicit',\n",
       "   'discCount': 1,\n",
       "   'discNumber': 1,\n",
       "   'trackCount': 14,\n",
       "   'trackNumber': 14,\n",
       "   'trackTimeMillis': 153225,\n",
       "   'country': 'USA',\n",
       "   'currency': 'USD',\n",
       "   'primaryGenreName': 'Rock',\n",
       "   'isStreamable': True},\n",
       "  {'wrapperType': 'track',\n",
       "   'kind': 'song',\n",
       "   'artistId': 216123617,\n",
       "   'collectionId': 982690853,\n",
       "   'trackId': 982690978,\n",
       "   'artistName': 'Rockabye Baby!',\n",
       "   'collectionName': 'Lullaby Renditions of the Beatles',\n",
       "   'trackName': 'Here Comes the Sun',\n",
       "   'collectionCensoredName': 'Lullaby Renditions of the Beatles',\n",
       "   'trackCensoredName': 'Here Comes the Sun',\n",
       "   'artistViewUrl': 'https://music.apple.com/us/artist/rockabye-baby/216123617?uo=4',\n",
       "   'collectionViewUrl': 'https://music.apple.com/us/album/here-comes-the-sun/982690853?i=982690978&uo=4',\n",
       "   'trackViewUrl': 'https://music.apple.com/us/album/here-comes-the-sun/982690853?i=982690978&uo=4',\n",
       "   'previewUrl': 'https://audio-ssl.itunes.apple.com/itunes-assets/Music3/v4/c6/bc/8a/c6bc8a97-07ae-8ab9-1a0e-7d46836e5d0b/mzaf_4847164484212693994.plus.aac.p.m4a',\n",
       "   'artworkUrl30': 'https://is4-ssl.mzstatic.com/image/thumb/Music1/v4/74/12/3c/74123c76-0177-dd37-2a84-964935b2ce73/source/30x30bb.jpg',\n",
       "   'artworkUrl60': 'https://is4-ssl.mzstatic.com/image/thumb/Music1/v4/74/12/3c/74123c76-0177-dd37-2a84-964935b2ce73/source/60x60bb.jpg',\n",
       "   'artworkUrl100': 'https://is4-ssl.mzstatic.com/image/thumb/Music1/v4/74/12/3c/74123c76-0177-dd37-2a84-964935b2ce73/source/100x100bb.jpg',\n",
       "   'collectionPrice': 9.99,\n",
       "   'trackPrice': 1.29,\n",
       "   'releaseDate': '2007-03-13T12:00:00Z',\n",
       "   'collectionExplicitness': 'notExplicit',\n",
       "   'trackExplicitness': 'notExplicit',\n",
       "   'discCount': 1,\n",
       "   'discNumber': 1,\n",
       "   'trackCount': 12,\n",
       "   'trackNumber': 10,\n",
       "   'trackTimeMillis': 246373,\n",
       "   'country': 'USA',\n",
       "   'currency': 'USD',\n",
       "   'primaryGenreName': 'Lullabies',\n",
       "   'isStreamable': True},\n",
       "  {'wrapperType': 'track',\n",
       "   'kind': 'song',\n",
       "   'artistId': 136975,\n",
       "   'collectionId': 1441164362,\n",
       "   'trackId': 1441165031,\n",
       "   'artistName': 'The Beatles',\n",
       "   'collectionName': 'With The Beatles',\n",
       "   'trackName': 'Not a Second Time',\n",
       "   'collectionCensoredName': 'With The Beatles',\n",
       "   'trackCensoredName': 'Not a Second Time',\n",
       "   'artistViewUrl': 'https://music.apple.com/us/artist/the-beatles/136975?uo=4',\n",
       "   'collectionViewUrl': 'https://music.apple.com/us/album/not-a-second-time/1441164362?i=1441165031&uo=4',\n",
       "   'trackViewUrl': 'https://music.apple.com/us/album/not-a-second-time/1441164362?i=1441165031&uo=4',\n",
       "   'previewUrl': 'https://audio-ssl.itunes.apple.com/itunes-assets/AudioPreview125/v4/4c/87/ba/4c87ba12-912f-d8a8-5999-e782f83b83ae/mzaf_4713163347402704018.plus.aac.p.m4a',\n",
       "   'artworkUrl30': 'https://is1-ssl.mzstatic.com/image/thumb/Music124/v4/91/78/22/917822fb-f3cb-5ea4-3550-19bbb82cfa76/source/30x30bb.jpg',\n",
       "   'artworkUrl60': 'https://is1-ssl.mzstatic.com/image/thumb/Music124/v4/91/78/22/917822fb-f3cb-5ea4-3550-19bbb82cfa76/source/60x60bb.jpg',\n",
       "   'artworkUrl100': 'https://is1-ssl.mzstatic.com/image/thumb/Music124/v4/91/78/22/917822fb-f3cb-5ea4-3550-19bbb82cfa76/source/100x100bb.jpg',\n",
       "   'collectionPrice': 12.99,\n",
       "   'trackPrice': 1.29,\n",
       "   'releaseDate': '1963-11-22T12:00:00Z',\n",
       "   'collectionExplicitness': 'notExplicit',\n",
       "   'trackExplicitness': 'notExplicit',\n",
       "   'discCount': 1,\n",
       "   'discNumber': 1,\n",
       "   'trackCount': 14,\n",
       "   'trackNumber': 13,\n",
       "   'trackTimeMillis': 126827,\n",
       "   'country': 'USA',\n",
       "   'currency': 'USD',\n",
       "   'primaryGenreName': 'Rock',\n",
       "   'isStreamable': True},\n",
       "  {'wrapperType': 'track',\n",
       "   'kind': 'song',\n",
       "   'artistId': 136975,\n",
       "   'collectionId': 1441164359,\n",
       "   'trackId': 1441164634,\n",
       "   'artistName': 'The Beatles',\n",
       "   'collectionName': 'Rubber Soul',\n",
       "   'trackName': 'Girl',\n",
       "   'collectionCensoredName': 'Rubber Soul',\n",
       "   'trackCensoredName': 'Girl',\n",
       "   'artistViewUrl': 'https://music.apple.com/us/artist/the-beatles/136975?uo=4',\n",
       "   'collectionViewUrl': 'https://music.apple.com/us/album/girl/1441164359?i=1441164634&uo=4',\n",
       "   'trackViewUrl': 'https://music.apple.com/us/album/girl/1441164359?i=1441164634&uo=4',\n",
       "   'previewUrl': 'https://audio-ssl.itunes.apple.com/itunes-assets/AudioPreview115/v4/9a/0e/0a/9a0e0a66-d501-a39d-0d5d-2c354eca814a/mzaf_12320674419510278090.plus.aac.p.m4a',\n",
       "   'artworkUrl30': 'https://is3-ssl.mzstatic.com/image/thumb/Music114/v4/ad/b6/b6/adb6b6d3-b3ee-ec61-10ea-91b173773b42/source/30x30bb.jpg',\n",
       "   'artworkUrl60': 'https://is3-ssl.mzstatic.com/image/thumb/Music114/v4/ad/b6/b6/adb6b6d3-b3ee-ec61-10ea-91b173773b42/source/60x60bb.jpg',\n",
       "   'artworkUrl100': 'https://is3-ssl.mzstatic.com/image/thumb/Music114/v4/ad/b6/b6/adb6b6d3-b3ee-ec61-10ea-91b173773b42/source/100x100bb.jpg',\n",
       "   'collectionPrice': 12.99,\n",
       "   'trackPrice': 1.29,\n",
       "   'releaseDate': '1965-12-03T12:00:00Z',\n",
       "   'collectionExplicitness': 'notExplicit',\n",
       "   'trackExplicitness': 'notExplicit',\n",
       "   'discCount': 1,\n",
       "   'discNumber': 1,\n",
       "   'trackCount': 14,\n",
       "   'trackNumber': 9,\n",
       "   'trackTimeMillis': 151720,\n",
       "   'country': 'USA',\n",
       "   'currency': 'USD',\n",
       "   'primaryGenreName': 'Rock',\n",
       "   'isStreamable': True},\n",
       "  {'wrapperType': 'track',\n",
       "   'kind': 'song',\n",
       "   'artistId': 136975,\n",
       "   'collectionId': 1441164362,\n",
       "   'trackId': 1441164847,\n",
       "   'artistName': 'The Beatles',\n",
       "   'collectionName': 'With The Beatles',\n",
       "   'trackName': 'Devil In Her Heart',\n",
       "   'collectionCensoredName': 'With The Beatles',\n",
       "   'trackCensoredName': 'Devil In Her Heart',\n",
       "   'artistViewUrl': 'https://music.apple.com/us/artist/the-beatles/136975?uo=4',\n",
       "   'collectionViewUrl': 'https://music.apple.com/us/album/devil-in-her-heart/1441164362?i=1441164847&uo=4',\n",
       "   'trackViewUrl': 'https://music.apple.com/us/album/devil-in-her-heart/1441164362?i=1441164847&uo=4',\n",
       "   'previewUrl': 'https://audio-ssl.itunes.apple.com/itunes-assets/AudioPreview125/v4/b5/b7/2e/b5b72e13-db7c-da62-b98a-7fc5cc6cd3cb/mzaf_7858608045514386270.plus.aac.p.m4a',\n",
       "   'artworkUrl30': 'https://is1-ssl.mzstatic.com/image/thumb/Music124/v4/91/78/22/917822fb-f3cb-5ea4-3550-19bbb82cfa76/source/30x30bb.jpg',\n",
       "   'artworkUrl60': 'https://is1-ssl.mzstatic.com/image/thumb/Music124/v4/91/78/22/917822fb-f3cb-5ea4-3550-19bbb82cfa76/source/60x60bb.jpg',\n",
       "   'artworkUrl100': 'https://is1-ssl.mzstatic.com/image/thumb/Music124/v4/91/78/22/917822fb-f3cb-5ea4-3550-19bbb82cfa76/source/100x100bb.jpg',\n",
       "   'collectionPrice': 12.99,\n",
       "   'trackPrice': 1.29,\n",
       "   'releaseDate': '1963-11-22T12:00:00Z',\n",
       "   'collectionExplicitness': 'notExplicit',\n",
       "   'trackExplicitness': 'notExplicit',\n",
       "   'discCount': 1,\n",
       "   'discNumber': 1,\n",
       "   'trackCount': 14,\n",
       "   'trackNumber': 12,\n",
       "   'trackTimeMillis': 146213,\n",
       "   'country': 'USA',\n",
       "   'currency': 'USD',\n",
       "   'primaryGenreName': 'Rock',\n",
       "   'isStreamable': True}]}"
      ]
     },
     "metadata": {},
     "execution_count": 14
    }
   ],
   "source": [
    "res.json()"
   ]
  },
  {
   "cell_type": "markdown",
   "metadata": {},
   "source": [
    "### Locate the name and release date of a song"
   ]
  },
  {
   "cell_type": "code",
   "execution_count": 15,
   "metadata": {},
   "outputs": [
    {
     "output_type": "execute_result",
     "data": {
      "text/plain": [
       "'2005-11-01T08:00:00Z'"
      ]
     },
     "metadata": {},
     "execution_count": 15
    }
   ],
   "source": [
    "info['results'][0]['releaseDate']"
   ]
  },
  {
   "cell_type": "code",
   "execution_count": 16,
   "metadata": {},
   "outputs": [
    {
     "output_type": "execute_result",
     "data": {
      "text/plain": [
       "dict_keys(['resultCount', 'results'])"
      ]
     },
     "metadata": {},
     "execution_count": 16
    }
   ],
   "source": [
    "info.keys()"
   ]
  },
  {
   "cell_type": "markdown",
   "metadata": {},
   "source": [
    "### Print the name of all songs"
   ]
  },
  {
   "cell_type": "code",
   "execution_count": 17,
   "metadata": {},
   "outputs": [
    {
     "output_type": "error",
     "ename": "KeyError",
     "evalue": "'trackName'",
     "traceback": [
      "\u001b[0;31m---------------------------------------------------------------------------\u001b[0m",
      "\u001b[0;31mKeyError\u001b[0m                                  Traceback (most recent call last)",
      "\u001b[0;32m<ipython-input-17-28b52abe545a>\u001b[0m in \u001b[0;36m<module>\u001b[0;34m\u001b[0m\n\u001b[1;32m      1\u001b[0m \u001b[0;32mfor\u001b[0m \u001b[0mresult\u001b[0m \u001b[0;32min\u001b[0m \u001b[0minfo\u001b[0m\u001b[0;34m[\u001b[0m\u001b[0;34m'results'\u001b[0m\u001b[0;34m]\u001b[0m\u001b[0;34m:\u001b[0m\u001b[0;34m\u001b[0m\u001b[0;34m\u001b[0m\u001b[0m\n\u001b[0;32m----> 2\u001b[0;31m     \u001b[0mprint\u001b[0m\u001b[0;34m(\u001b[0m\u001b[0mresult\u001b[0m\u001b[0;34m[\u001b[0m\u001b[0;34m'trackName'\u001b[0m\u001b[0;34m]\u001b[0m\u001b[0;34m)\u001b[0m\u001b[0;34m\u001b[0m\u001b[0;34m\u001b[0m\u001b[0m\n\u001b[0m",
      "\u001b[0;31mKeyError\u001b[0m: 'trackName'"
     ]
    }
   ],
   "source": [
    "for result in info['results']:\n",
    "    print(result['trackName'])"
   ]
  },
  {
   "cell_type": "code",
   "execution_count": 26,
   "metadata": {},
   "outputs": [],
   "source": [
    "# exchange rates api"
   ]
  },
  {
   "source": [],
   "cell_type": "markdown",
   "metadata": {}
  },
  {
   "cell_type": "code",
   "execution_count": 56,
   "metadata": {},
   "outputs": [],
   "source": [
    "import requests"
   ]
  },
  {
   "cell_type": "code",
   "execution_count": 78,
   "metadata": {},
   "outputs": [],
   "source": [
    "base_url = 'http://api.exchangeratesapi.io/v1/latest?access_key=debfa4deeaf6ef27f39faf551f19a1f4'"
   ]
  },
  {
   "cell_type": "code",
   "execution_count": 79,
   "metadata": {},
   "outputs": [],
   "source": [
    "res = requests.get(base_url)"
   ]
  },
  {
   "cell_type": "code",
   "execution_count": 80,
   "metadata": {},
   "outputs": [
    {
     "output_type": "execute_result",
     "data": {
      "text/plain": [
       "True"
      ]
     },
     "metadata": {},
     "execution_count": 80
    }
   ],
   "source": [
    "# investigating the response\n",
    "res.ok"
   ]
  },
  {
   "cell_type": "code",
   "execution_count": 81,
   "metadata": {},
   "outputs": [
    {
     "output_type": "execute_result",
     "data": {
      "text/plain": [
       "200"
      ]
     },
     "metadata": {},
     "execution_count": 81
    }
   ],
   "source": [
    "res.status_code"
   ]
  },
  {
   "cell_type": "code",
   "execution_count": 82,
   "metadata": {},
   "outputs": [
    {
     "output_type": "execute_result",
     "data": {
      "text/plain": [
       "'{\"success\":true,\"timestamp\":1626282124,\"base\":\"EUR\",\"date\":\"2021-07-14\",\"rates\":{\"AED\":4.346235,\"AFN\":94.131069,\"ALL\":122.885962,\"AMD\":586.454558,\"ANG\":2.123045,\"AOA\":760.860978,\"ARS\":113.775969,\"AUD\":1.582183,\"AWG\":2.129938,\"AZN\":2.018213,\"BAM\":1.96075,\"BBD\":2.388092,\"BDT\":100.303712,\"BGN\":1.957025,\"BHD\":0.446128,\"BIF\":2350.031653,\"BMD\":1.183299,\"BND\":1.60343,\"BOB\":8.166891,\"BRL\":6.017663,\"BSD\":1.182768,\"BTC\":3.6031027e-5,\"BTN\":88.151674,\"BWP\":13.1125,\"BYN\":3.027984,\"BYR\":23192.658814,\"BZD\":2.384082,\"CAD\":1.480526,\"CDF\":2366.598157,\"CHF\":1.082043,\"CLF\":0.032093,\"CLP\":885.639562,\"CNY\":7.654997,\"COP\":4493.045161,\"CRC\":733.420165,\"CUC\":1.183299,\"CUP\":31.357421,\"CVE\":110.786395,\"CZK\":25.600796,\"DJF\":210.295642,\"DKK\":7.437436,\"DOP\":67.542464,\"DZD\":159.041112,\"EGP\":18.575375,\"ERN\":17.754512,\"ETB\":52.047398,\"EUR\":1,\"FJD\":2.452386,\"FKP\":0.855242,\"GBP\":0.854165,\"GEL\":3.721461,\"GGP\":0.855242,\"GHS\":7.016777,\"GIP\":0.855242,\"GMD\":60.573463,\"GNF\":11655.494238,\"GTQ\":9.163291,\"GYD\":247.450859,\"HKD\":9.190269,\"HNL\":28.375756,\"HRK\":7.491577,\"HTG\":111.770379,\"HUF\":358.799144,\"IDR\":17162.745017,\"ILS\":3.862572,\"IMP\":0.855242,\"INR\":88.20369,\"IQD\":1728.208071,\"IRR\":49822.801444,\"ISK\":146.101438,\"JEP\":0.855242,\"JMD\":181.575577,\"JOD\":0.838941,\"JPY\":130.140372,\"KES\":127.737079,\"KGS\":100.250388,\"KHR\":4831.409842,\"KMF\":494.441269,\"KPW\":1064.969034,\"KRW\":1356.036735,\"KWD\":0.355889,\"KYD\":0.985673,\"KZT\":504.933009,\"LAK\":11247.255931,\"LBP\":1812.813982,\"LKR\":235.368734,\"LRD\":202.99455,\"LSL\":17.417753,\"LTL\":3.493974,\"LVL\":0.715766,\"LYD\":5.34263,\"MAD\":10.595849,\"MDL\":21.30707,\"MGA\":4455.120203,\"MKD\":61.696803,\"MMK\":1946.819058,\"MNT\":3370.170891,\"MOP\":9.463424,\"MRO\":422.437511,\"MUR\":50.940915,\"MVR\":18.234397,\"MWK\":946.639182,\"MXN\":23.525899,\"MYR\":4.9598,\"MZN\":75.233716,\"NAD\":17.417675,\"NGN\":486.930441,\"NIO\":41.664404,\"NOK\":10.349485,\"NPR\":141.044074,\"NZD\":1.682805,\"OMR\":0.455616,\"PAB\":1.182768,\"PEN\":4.691817,\"PGK\":4.143025,\"PHP\":59.315822,\"PKR\":188.64982,\"PLN\":4.567238,\"PYG\":8104.935434,\"QAR\":4.308355,\"RON\":4.929268,\"RSD\":117.826126,\"RUB\":87.750248,\"RWF\":1186.257166,\"SAR\":4.438027,\"SBD\":9.508266,\"SCR\":19.421509,\"SDG\":528.934481,\"SEK\":10.201788,\"SGD\":1.60156,\"SHP\":0.855242,\"SLL\":12134.72997,\"SOS\":692.230314,\"SRD\":25.155782,\"STD\":24375.74951,\"SVC\":10.348966,\"SYP\":1487.839526,\"SZL\":17.417933,\"THB\":38.611146,\"TJS\":13.489245,\"TMT\":4.153379,\"TND\":3.304364,\"TOP\":2.673305,\"TRY\":10.172352,\"TTD\":8.032454,\"TWD\":33.119946,\"TZS\":2736.827184,\"UAH\":32.279453,\"UGX\":4186.905023,\"USD\":1.183299,\"UYU\":51.96438,\"UZS\":12590.300641,\"VEF\":253025070954.23926,\"VND\":27230.666375,\"VUV\":130.30334,\"WST\":3.019372,\"XAF\":657.609734,\"XAG\":0.045244,\"XAU\":0.000649,\"XCD\":3.197924,\"XDR\":0.830086,\"XOF\":653.79507,\"XPF\":120.075283,\"YER\":296.238787,\"ZAR\":17.160322,\"ZMK\":10651.103025,\"ZMW\":26.815882,\"ZWL\":381.022535}}'"
      ]
     },
     "metadata": {},
     "execution_count": 82
    }
   ],
   "source": [
    "res.text"
   ]
  },
  {
   "cell_type": "code",
   "execution_count": 83,
   "metadata": {},
   "outputs": [
    {
     "output_type": "execute_result",
     "data": {
      "text/plain": [
       "b'{\"success\":true,\"timestamp\":1626282124,\"base\":\"EUR\",\"date\":\"2021-07-14\",\"rates\":{\"AED\":4.346235,\"AFN\":94.131069,\"ALL\":122.885962,\"AMD\":586.454558,\"ANG\":2.123045,\"AOA\":760.860978,\"ARS\":113.775969,\"AUD\":1.582183,\"AWG\":2.129938,\"AZN\":2.018213,\"BAM\":1.96075,\"BBD\":2.388092,\"BDT\":100.303712,\"BGN\":1.957025,\"BHD\":0.446128,\"BIF\":2350.031653,\"BMD\":1.183299,\"BND\":1.60343,\"BOB\":8.166891,\"BRL\":6.017663,\"BSD\":1.182768,\"BTC\":3.6031027e-5,\"BTN\":88.151674,\"BWP\":13.1125,\"BYN\":3.027984,\"BYR\":23192.658814,\"BZD\":2.384082,\"CAD\":1.480526,\"CDF\":2366.598157,\"CHF\":1.082043,\"CLF\":0.032093,\"CLP\":885.639562,\"CNY\":7.654997,\"COP\":4493.045161,\"CRC\":733.420165,\"CUC\":1.183299,\"CUP\":31.357421,\"CVE\":110.786395,\"CZK\":25.600796,\"DJF\":210.295642,\"DKK\":7.437436,\"DOP\":67.542464,\"DZD\":159.041112,\"EGP\":18.575375,\"ERN\":17.754512,\"ETB\":52.047398,\"EUR\":1,\"FJD\":2.452386,\"FKP\":0.855242,\"GBP\":0.854165,\"GEL\":3.721461,\"GGP\":0.855242,\"GHS\":7.016777,\"GIP\":0.855242,\"GMD\":60.573463,\"GNF\":11655.494238,\"GTQ\":9.163291,\"GYD\":247.450859,\"HKD\":9.190269,\"HNL\":28.375756,\"HRK\":7.491577,\"HTG\":111.770379,\"HUF\":358.799144,\"IDR\":17162.745017,\"ILS\":3.862572,\"IMP\":0.855242,\"INR\":88.20369,\"IQD\":1728.208071,\"IRR\":49822.801444,\"ISK\":146.101438,\"JEP\":0.855242,\"JMD\":181.575577,\"JOD\":0.838941,\"JPY\":130.140372,\"KES\":127.737079,\"KGS\":100.250388,\"KHR\":4831.409842,\"KMF\":494.441269,\"KPW\":1064.969034,\"KRW\":1356.036735,\"KWD\":0.355889,\"KYD\":0.985673,\"KZT\":504.933009,\"LAK\":11247.255931,\"LBP\":1812.813982,\"LKR\":235.368734,\"LRD\":202.99455,\"LSL\":17.417753,\"LTL\":3.493974,\"LVL\":0.715766,\"LYD\":5.34263,\"MAD\":10.595849,\"MDL\":21.30707,\"MGA\":4455.120203,\"MKD\":61.696803,\"MMK\":1946.819058,\"MNT\":3370.170891,\"MOP\":9.463424,\"MRO\":422.437511,\"MUR\":50.940915,\"MVR\":18.234397,\"MWK\":946.639182,\"MXN\":23.525899,\"MYR\":4.9598,\"MZN\":75.233716,\"NAD\":17.417675,\"NGN\":486.930441,\"NIO\":41.664404,\"NOK\":10.349485,\"NPR\":141.044074,\"NZD\":1.682805,\"OMR\":0.455616,\"PAB\":1.182768,\"PEN\":4.691817,\"PGK\":4.143025,\"PHP\":59.315822,\"PKR\":188.64982,\"PLN\":4.567238,\"PYG\":8104.935434,\"QAR\":4.308355,\"RON\":4.929268,\"RSD\":117.826126,\"RUB\":87.750248,\"RWF\":1186.257166,\"SAR\":4.438027,\"SBD\":9.508266,\"SCR\":19.421509,\"SDG\":528.934481,\"SEK\":10.201788,\"SGD\":1.60156,\"SHP\":0.855242,\"SLL\":12134.72997,\"SOS\":692.230314,\"SRD\":25.155782,\"STD\":24375.74951,\"SVC\":10.348966,\"SYP\":1487.839526,\"SZL\":17.417933,\"THB\":38.611146,\"TJS\":13.489245,\"TMT\":4.153379,\"TND\":3.304364,\"TOP\":2.673305,\"TRY\":10.172352,\"TTD\":8.032454,\"TWD\":33.119946,\"TZS\":2736.827184,\"UAH\":32.279453,\"UGX\":4186.905023,\"USD\":1.183299,\"UYU\":51.96438,\"UZS\":12590.300641,\"VEF\":253025070954.23926,\"VND\":27230.666375,\"VUV\":130.30334,\"WST\":3.019372,\"XAF\":657.609734,\"XAG\":0.045244,\"XAU\":0.000649,\"XCD\":3.197924,\"XDR\":0.830086,\"XOF\":653.79507,\"XPF\":120.075283,\"YER\":296.238787,\"ZAR\":17.160322,\"ZMK\":10651.103025,\"ZMW\":26.815882,\"ZWL\":381.022535}}'"
      ]
     },
     "metadata": {},
     "execution_count": 83
    }
   ],
   "source": [
    "res.content"
   ]
  },
  {
   "cell_type": "code",
   "execution_count": 84,
   "metadata": {},
   "outputs": [
    {
     "output_type": "execute_result",
     "data": {
      "text/plain": [
       "{'success': True,\n",
       " 'timestamp': 1626282124,\n",
       " 'base': 'EUR',\n",
       " 'date': '2021-07-14',\n",
       " 'rates': {'AED': 4.346235,\n",
       "  'AFN': 94.131069,\n",
       "  'ALL': 122.885962,\n",
       "  'AMD': 586.454558,\n",
       "  'ANG': 2.123045,\n",
       "  'AOA': 760.860978,\n",
       "  'ARS': 113.775969,\n",
       "  'AUD': 1.582183,\n",
       "  'AWG': 2.129938,\n",
       "  'AZN': 2.018213,\n",
       "  'BAM': 1.96075,\n",
       "  'BBD': 2.388092,\n",
       "  'BDT': 100.303712,\n",
       "  'BGN': 1.957025,\n",
       "  'BHD': 0.446128,\n",
       "  'BIF': 2350.031653,\n",
       "  'BMD': 1.183299,\n",
       "  'BND': 1.60343,\n",
       "  'BOB': 8.166891,\n",
       "  'BRL': 6.017663,\n",
       "  'BSD': 1.182768,\n",
       "  'BTC': 3.6031027e-05,\n",
       "  'BTN': 88.151674,\n",
       "  'BWP': 13.1125,\n",
       "  'BYN': 3.027984,\n",
       "  'BYR': 23192.658814,\n",
       "  'BZD': 2.384082,\n",
       "  'CAD': 1.480526,\n",
       "  'CDF': 2366.598157,\n",
       "  'CHF': 1.082043,\n",
       "  'CLF': 0.032093,\n",
       "  'CLP': 885.639562,\n",
       "  'CNY': 7.654997,\n",
       "  'COP': 4493.045161,\n",
       "  'CRC': 733.420165,\n",
       "  'CUC': 1.183299,\n",
       "  'CUP': 31.357421,\n",
       "  'CVE': 110.786395,\n",
       "  'CZK': 25.600796,\n",
       "  'DJF': 210.295642,\n",
       "  'DKK': 7.437436,\n",
       "  'DOP': 67.542464,\n",
       "  'DZD': 159.041112,\n",
       "  'EGP': 18.575375,\n",
       "  'ERN': 17.754512,\n",
       "  'ETB': 52.047398,\n",
       "  'EUR': 1,\n",
       "  'FJD': 2.452386,\n",
       "  'FKP': 0.855242,\n",
       "  'GBP': 0.854165,\n",
       "  'GEL': 3.721461,\n",
       "  'GGP': 0.855242,\n",
       "  'GHS': 7.016777,\n",
       "  'GIP': 0.855242,\n",
       "  'GMD': 60.573463,\n",
       "  'GNF': 11655.494238,\n",
       "  'GTQ': 9.163291,\n",
       "  'GYD': 247.450859,\n",
       "  'HKD': 9.190269,\n",
       "  'HNL': 28.375756,\n",
       "  'HRK': 7.491577,\n",
       "  'HTG': 111.770379,\n",
       "  'HUF': 358.799144,\n",
       "  'IDR': 17162.745017,\n",
       "  'ILS': 3.862572,\n",
       "  'IMP': 0.855242,\n",
       "  'INR': 88.20369,\n",
       "  'IQD': 1728.208071,\n",
       "  'IRR': 49822.801444,\n",
       "  'ISK': 146.101438,\n",
       "  'JEP': 0.855242,\n",
       "  'JMD': 181.575577,\n",
       "  'JOD': 0.838941,\n",
       "  'JPY': 130.140372,\n",
       "  'KES': 127.737079,\n",
       "  'KGS': 100.250388,\n",
       "  'KHR': 4831.409842,\n",
       "  'KMF': 494.441269,\n",
       "  'KPW': 1064.969034,\n",
       "  'KRW': 1356.036735,\n",
       "  'KWD': 0.355889,\n",
       "  'KYD': 0.985673,\n",
       "  'KZT': 504.933009,\n",
       "  'LAK': 11247.255931,\n",
       "  'LBP': 1812.813982,\n",
       "  'LKR': 235.368734,\n",
       "  'LRD': 202.99455,\n",
       "  'LSL': 17.417753,\n",
       "  'LTL': 3.493974,\n",
       "  'LVL': 0.715766,\n",
       "  'LYD': 5.34263,\n",
       "  'MAD': 10.595849,\n",
       "  'MDL': 21.30707,\n",
       "  'MGA': 4455.120203,\n",
       "  'MKD': 61.696803,\n",
       "  'MMK': 1946.819058,\n",
       "  'MNT': 3370.170891,\n",
       "  'MOP': 9.463424,\n",
       "  'MRO': 422.437511,\n",
       "  'MUR': 50.940915,\n",
       "  'MVR': 18.234397,\n",
       "  'MWK': 946.639182,\n",
       "  'MXN': 23.525899,\n",
       "  'MYR': 4.9598,\n",
       "  'MZN': 75.233716,\n",
       "  'NAD': 17.417675,\n",
       "  'NGN': 486.930441,\n",
       "  'NIO': 41.664404,\n",
       "  'NOK': 10.349485,\n",
       "  'NPR': 141.044074,\n",
       "  'NZD': 1.682805,\n",
       "  'OMR': 0.455616,\n",
       "  'PAB': 1.182768,\n",
       "  'PEN': 4.691817,\n",
       "  'PGK': 4.143025,\n",
       "  'PHP': 59.315822,\n",
       "  'PKR': 188.64982,\n",
       "  'PLN': 4.567238,\n",
       "  'PYG': 8104.935434,\n",
       "  'QAR': 4.308355,\n",
       "  'RON': 4.929268,\n",
       "  'RSD': 117.826126,\n",
       "  'RUB': 87.750248,\n",
       "  'RWF': 1186.257166,\n",
       "  'SAR': 4.438027,\n",
       "  'SBD': 9.508266,\n",
       "  'SCR': 19.421509,\n",
       "  'SDG': 528.934481,\n",
       "  'SEK': 10.201788,\n",
       "  'SGD': 1.60156,\n",
       "  'SHP': 0.855242,\n",
       "  'SLL': 12134.72997,\n",
       "  'SOS': 692.230314,\n",
       "  'SRD': 25.155782,\n",
       "  'STD': 24375.74951,\n",
       "  'SVC': 10.348966,\n",
       "  'SYP': 1487.839526,\n",
       "  'SZL': 17.417933,\n",
       "  'THB': 38.611146,\n",
       "  'TJS': 13.489245,\n",
       "  'TMT': 4.153379,\n",
       "  'TND': 3.304364,\n",
       "  'TOP': 2.673305,\n",
       "  'TRY': 10.172352,\n",
       "  'TTD': 8.032454,\n",
       "  'TWD': 33.119946,\n",
       "  'TZS': 2736.827184,\n",
       "  'UAH': 32.279453,\n",
       "  'UGX': 4186.905023,\n",
       "  'USD': 1.183299,\n",
       "  'UYU': 51.96438,\n",
       "  'UZS': 12590.300641,\n",
       "  'VEF': 253025070954.23926,\n",
       "  'VND': 27230.666375,\n",
       "  'VUV': 130.30334,\n",
       "  'WST': 3.019372,\n",
       "  'XAF': 657.609734,\n",
       "  'XAG': 0.045244,\n",
       "  'XAU': 0.000649,\n",
       "  'XCD': 3.197924,\n",
       "  'XDR': 0.830086,\n",
       "  'XOF': 653.79507,\n",
       "  'XPF': 120.075283,\n",
       "  'YER': 296.238787,\n",
       "  'ZAR': 17.160322,\n",
       "  'ZMK': 10651.103025,\n",
       "  'ZMW': 26.815882,\n",
       "  'ZWL': 381.022535}}"
      ]
     },
     "metadata": {},
     "execution_count": 84
    }
   ],
   "source": [
    "# handling the json\n",
    "res.json()"
   ]
  },
  {
   "cell_type": "code",
   "execution_count": 85,
   "metadata": {},
   "outputs": [
    {
     "output_type": "execute_result",
     "data": {
      "text/plain": [
       "dict"
      ]
     },
     "metadata": {},
     "execution_count": 85
    }
   ],
   "source": [
    "type(res.json())"
   ]
  },
  {
   "cell_type": "code",
   "execution_count": 86,
   "metadata": {},
   "outputs": [],
   "source": [
    "# improve the readability\n",
    "\n",
    "import json"
   ]
  },
  {
   "cell_type": "code",
   "execution_count": 87,
   "metadata": {},
   "outputs": [
    {
     "output_type": "execute_result",
     "data": {
      "text/plain": [
       "'{\\n    \"success\": true,\\n    \"timestamp\": 1626282124,\\n    \"base\": \"EUR\",\\n    \"date\": \"2021-07-14\",\\n    \"rates\": {\\n        \"AED\": 4.346235,\\n        \"AFN\": 94.131069,\\n        \"ALL\": 122.885962,\\n        \"AMD\": 586.454558,\\n        \"ANG\": 2.123045,\\n        \"AOA\": 760.860978,\\n        \"ARS\": 113.775969,\\n        \"AUD\": 1.582183,\\n        \"AWG\": 2.129938,\\n        \"AZN\": 2.018213,\\n        \"BAM\": 1.96075,\\n        \"BBD\": 2.388092,\\n        \"BDT\": 100.303712,\\n        \"BGN\": 1.957025,\\n        \"BHD\": 0.446128,\\n        \"BIF\": 2350.031653,\\n        \"BMD\": 1.183299,\\n        \"BND\": 1.60343,\\n        \"BOB\": 8.166891,\\n        \"BRL\": 6.017663,\\n        \"BSD\": 1.182768,\\n        \"BTC\": 3.6031027e-05,\\n        \"BTN\": 88.151674,\\n        \"BWP\": 13.1125,\\n        \"BYN\": 3.027984,\\n        \"BYR\": 23192.658814,\\n        \"BZD\": 2.384082,\\n        \"CAD\": 1.480526,\\n        \"CDF\": 2366.598157,\\n        \"CHF\": 1.082043,\\n        \"CLF\": 0.032093,\\n        \"CLP\": 885.639562,\\n        \"CNY\": 7.654997,\\n        \"COP\": 4493.045161,\\n        \"CRC\": 733.420165,\\n        \"CUC\": 1.183299,\\n        \"CUP\": 31.357421,\\n        \"CVE\": 110.786395,\\n        \"CZK\": 25.600796,\\n        \"DJF\": 210.295642,\\n        \"DKK\": 7.437436,\\n        \"DOP\": 67.542464,\\n        \"DZD\": 159.041112,\\n        \"EGP\": 18.575375,\\n        \"ERN\": 17.754512,\\n        \"ETB\": 52.047398,\\n        \"EUR\": 1,\\n        \"FJD\": 2.452386,\\n        \"FKP\": 0.855242,\\n        \"GBP\": 0.854165,\\n        \"GEL\": 3.721461,\\n        \"GGP\": 0.855242,\\n        \"GHS\": 7.016777,\\n        \"GIP\": 0.855242,\\n        \"GMD\": 60.573463,\\n        \"GNF\": 11655.494238,\\n        \"GTQ\": 9.163291,\\n        \"GYD\": 247.450859,\\n        \"HKD\": 9.190269,\\n        \"HNL\": 28.375756,\\n        \"HRK\": 7.491577,\\n        \"HTG\": 111.770379,\\n        \"HUF\": 358.799144,\\n        \"IDR\": 17162.745017,\\n        \"ILS\": 3.862572,\\n        \"IMP\": 0.855242,\\n        \"INR\": 88.20369,\\n        \"IQD\": 1728.208071,\\n        \"IRR\": 49822.801444,\\n        \"ISK\": 146.101438,\\n        \"JEP\": 0.855242,\\n        \"JMD\": 181.575577,\\n        \"JOD\": 0.838941,\\n        \"JPY\": 130.140372,\\n        \"KES\": 127.737079,\\n        \"KGS\": 100.250388,\\n        \"KHR\": 4831.409842,\\n        \"KMF\": 494.441269,\\n        \"KPW\": 1064.969034,\\n        \"KRW\": 1356.036735,\\n        \"KWD\": 0.355889,\\n        \"KYD\": 0.985673,\\n        \"KZT\": 504.933009,\\n        \"LAK\": 11247.255931,\\n        \"LBP\": 1812.813982,\\n        \"LKR\": 235.368734,\\n        \"LRD\": 202.99455,\\n        \"LSL\": 17.417753,\\n        \"LTL\": 3.493974,\\n        \"LVL\": 0.715766,\\n        \"LYD\": 5.34263,\\n        \"MAD\": 10.595849,\\n        \"MDL\": 21.30707,\\n        \"MGA\": 4455.120203,\\n        \"MKD\": 61.696803,\\n        \"MMK\": 1946.819058,\\n        \"MNT\": 3370.170891,\\n        \"MOP\": 9.463424,\\n        \"MRO\": 422.437511,\\n        \"MUR\": 50.940915,\\n        \"MVR\": 18.234397,\\n        \"MWK\": 946.639182,\\n        \"MXN\": 23.525899,\\n        \"MYR\": 4.9598,\\n        \"MZN\": 75.233716,\\n        \"NAD\": 17.417675,\\n        \"NGN\": 486.930441,\\n        \"NIO\": 41.664404,\\n        \"NOK\": 10.349485,\\n        \"NPR\": 141.044074,\\n        \"NZD\": 1.682805,\\n        \"OMR\": 0.455616,\\n        \"PAB\": 1.182768,\\n        \"PEN\": 4.691817,\\n        \"PGK\": 4.143025,\\n        \"PHP\": 59.315822,\\n        \"PKR\": 188.64982,\\n        \"PLN\": 4.567238,\\n        \"PYG\": 8104.935434,\\n        \"QAR\": 4.308355,\\n        \"RON\": 4.929268,\\n        \"RSD\": 117.826126,\\n        \"RUB\": 87.750248,\\n        \"RWF\": 1186.257166,\\n        \"SAR\": 4.438027,\\n        \"SBD\": 9.508266,\\n        \"SCR\": 19.421509,\\n        \"SDG\": 528.934481,\\n        \"SEK\": 10.201788,\\n        \"SGD\": 1.60156,\\n        \"SHP\": 0.855242,\\n        \"SLL\": 12134.72997,\\n        \"SOS\": 692.230314,\\n        \"SRD\": 25.155782,\\n        \"STD\": 24375.74951,\\n        \"SVC\": 10.348966,\\n        \"SYP\": 1487.839526,\\n        \"SZL\": 17.417933,\\n        \"THB\": 38.611146,\\n        \"TJS\": 13.489245,\\n        \"TMT\": 4.153379,\\n        \"TND\": 3.304364,\\n        \"TOP\": 2.673305,\\n        \"TRY\": 10.172352,\\n        \"TTD\": 8.032454,\\n        \"TWD\": 33.119946,\\n        \"TZS\": 2736.827184,\\n        \"UAH\": 32.279453,\\n        \"UGX\": 4186.905023,\\n        \"USD\": 1.183299,\\n        \"UYU\": 51.96438,\\n        \"UZS\": 12590.300641,\\n        \"VEF\": 253025070954.23926,\\n        \"VND\": 27230.666375,\\n        \"VUV\": 130.30334,\\n        \"WST\": 3.019372,\\n        \"XAF\": 657.609734,\\n        \"XAG\": 0.045244,\\n        \"XAU\": 0.000649,\\n        \"XCD\": 3.197924,\\n        \"XDR\": 0.830086,\\n        \"XOF\": 653.79507,\\n        \"XPF\": 120.075283,\\n        \"YER\": 296.238787,\\n        \"ZAR\": 17.160322,\\n        \"ZMK\": 10651.103025,\\n        \"ZMW\": 26.815882,\\n        \"ZWL\": 381.022535\\n    }\\n}'"
      ]
     },
     "metadata": {},
     "execution_count": 87
    }
   ],
   "source": [
    "json.dumps(res.json(), indent=4)"
   ]
  },
  {
   "cell_type": "code",
   "execution_count": 88,
   "metadata": {},
   "outputs": [
    {
     "output_type": "stream",
     "name": "stdout",
     "text": [
      "{\n    \"success\": true,\n    \"timestamp\": 1626282124,\n    \"base\": \"EUR\",\n    \"date\": \"2021-07-14\",\n    \"rates\": {\n        \"AED\": 4.346235,\n        \"AFN\": 94.131069,\n        \"ALL\": 122.885962,\n        \"AMD\": 586.454558,\n        \"ANG\": 2.123045,\n        \"AOA\": 760.860978,\n        \"ARS\": 113.775969,\n        \"AUD\": 1.582183,\n        \"AWG\": 2.129938,\n        \"AZN\": 2.018213,\n        \"BAM\": 1.96075,\n        \"BBD\": 2.388092,\n        \"BDT\": 100.303712,\n        \"BGN\": 1.957025,\n        \"BHD\": 0.446128,\n        \"BIF\": 2350.031653,\n        \"BMD\": 1.183299,\n        \"BND\": 1.60343,\n        \"BOB\": 8.166891,\n        \"BRL\": 6.017663,\n        \"BSD\": 1.182768,\n        \"BTC\": 3.6031027e-05,\n        \"BTN\": 88.151674,\n        \"BWP\": 13.1125,\n        \"BYN\": 3.027984,\n        \"BYR\": 23192.658814,\n        \"BZD\": 2.384082,\n        \"CAD\": 1.480526,\n        \"CDF\": 2366.598157,\n        \"CHF\": 1.082043,\n        \"CLF\": 0.032093,\n        \"CLP\": 885.639562,\n        \"CNY\": 7.654997,\n        \"COP\": 4493.045161,\n        \"CRC\": 733.420165,\n        \"CUC\": 1.183299,\n        \"CUP\": 31.357421,\n        \"CVE\": 110.786395,\n        \"CZK\": 25.600796,\n        \"DJF\": 210.295642,\n        \"DKK\": 7.437436,\n        \"DOP\": 67.542464,\n        \"DZD\": 159.041112,\n        \"EGP\": 18.575375,\n        \"ERN\": 17.754512,\n        \"ETB\": 52.047398,\n        \"EUR\": 1,\n        \"FJD\": 2.452386,\n        \"FKP\": 0.855242,\n        \"GBP\": 0.854165,\n        \"GEL\": 3.721461,\n        \"GGP\": 0.855242,\n        \"GHS\": 7.016777,\n        \"GIP\": 0.855242,\n        \"GMD\": 60.573463,\n        \"GNF\": 11655.494238,\n        \"GTQ\": 9.163291,\n        \"GYD\": 247.450859,\n        \"HKD\": 9.190269,\n        \"HNL\": 28.375756,\n        \"HRK\": 7.491577,\n        \"HTG\": 111.770379,\n        \"HUF\": 358.799144,\n        \"IDR\": 17162.745017,\n        \"ILS\": 3.862572,\n        \"IMP\": 0.855242,\n        \"INR\": 88.20369,\n        \"IQD\": 1728.208071,\n        \"IRR\": 49822.801444,\n        \"ISK\": 146.101438,\n        \"JEP\": 0.855242,\n        \"JMD\": 181.575577,\n        \"JOD\": 0.838941,\n        \"JPY\": 130.140372,\n        \"KES\": 127.737079,\n        \"KGS\": 100.250388,\n        \"KHR\": 4831.409842,\n        \"KMF\": 494.441269,\n        \"KPW\": 1064.969034,\n        \"KRW\": 1356.036735,\n        \"KWD\": 0.355889,\n        \"KYD\": 0.985673,\n        \"KZT\": 504.933009,\n        \"LAK\": 11247.255931,\n        \"LBP\": 1812.813982,\n        \"LKR\": 235.368734,\n        \"LRD\": 202.99455,\n        \"LSL\": 17.417753,\n        \"LTL\": 3.493974,\n        \"LVL\": 0.715766,\n        \"LYD\": 5.34263,\n        \"MAD\": 10.595849,\n        \"MDL\": 21.30707,\n        \"MGA\": 4455.120203,\n        \"MKD\": 61.696803,\n        \"MMK\": 1946.819058,\n        \"MNT\": 3370.170891,\n        \"MOP\": 9.463424,\n        \"MRO\": 422.437511,\n        \"MUR\": 50.940915,\n        \"MVR\": 18.234397,\n        \"MWK\": 946.639182,\n        \"MXN\": 23.525899,\n        \"MYR\": 4.9598,\n        \"MZN\": 75.233716,\n        \"NAD\": 17.417675,\n        \"NGN\": 486.930441,\n        \"NIO\": 41.664404,\n        \"NOK\": 10.349485,\n        \"NPR\": 141.044074,\n        \"NZD\": 1.682805,\n        \"OMR\": 0.455616,\n        \"PAB\": 1.182768,\n        \"PEN\": 4.691817,\n        \"PGK\": 4.143025,\n        \"PHP\": 59.315822,\n        \"PKR\": 188.64982,\n        \"PLN\": 4.567238,\n        \"PYG\": 8104.935434,\n        \"QAR\": 4.308355,\n        \"RON\": 4.929268,\n        \"RSD\": 117.826126,\n        \"RUB\": 87.750248,\n        \"RWF\": 1186.257166,\n        \"SAR\": 4.438027,\n        \"SBD\": 9.508266,\n        \"SCR\": 19.421509,\n        \"SDG\": 528.934481,\n        \"SEK\": 10.201788,\n        \"SGD\": 1.60156,\n        \"SHP\": 0.855242,\n        \"SLL\": 12134.72997,\n        \"SOS\": 692.230314,\n        \"SRD\": 25.155782,\n        \"STD\": 24375.74951,\n        \"SVC\": 10.348966,\n        \"SYP\": 1487.839526,\n        \"SZL\": 17.417933,\n        \"THB\": 38.611146,\n        \"TJS\": 13.489245,\n        \"TMT\": 4.153379,\n        \"TND\": 3.304364,\n        \"TOP\": 2.673305,\n        \"TRY\": 10.172352,\n        \"TTD\": 8.032454,\n        \"TWD\": 33.119946,\n        \"TZS\": 2736.827184,\n        \"UAH\": 32.279453,\n        \"UGX\": 4186.905023,\n        \"USD\": 1.183299,\n        \"UYU\": 51.96438,\n        \"UZS\": 12590.300641,\n        \"VEF\": 253025070954.23926,\n        \"VND\": 27230.666375,\n        \"VUV\": 130.30334,\n        \"WST\": 3.019372,\n        \"XAF\": 657.609734,\n        \"XAG\": 0.045244,\n        \"XAU\": 0.000649,\n        \"XCD\": 3.197924,\n        \"XDR\": 0.830086,\n        \"XOF\": 653.79507,\n        \"XPF\": 120.075283,\n        \"YER\": 296.238787,\n        \"ZAR\": 17.160322,\n        \"ZMK\": 10651.103025,\n        \"ZMW\": 26.815882,\n        \"ZWL\": 381.022535\n    }\n}\n"
     ]
    }
   ],
   "source": [
    "print(json.dumps(res.json(), indent=4))"
   ]
  },
  {
   "cell_type": "code",
   "execution_count": 89,
   "metadata": {},
   "outputs": [
    {
     "output_type": "execute_result",
     "data": {
      "text/plain": [
       "dict_keys(['success', 'timestamp', 'base', 'date', 'rates'])"
      ]
     },
     "metadata": {},
     "execution_count": 89
    }
   ],
   "source": [
    "res.json().keys()"
   ]
  },
  {
   "cell_type": "code",
   "execution_count": 127,
   "metadata": {},
   "outputs": [
    {
     "output_type": "execute_result",
     "data": {
      "text/plain": [
       "'http://api.exchangeratesapi.io/v1/latest?access_key=debfa4deeaf6ef27f39faf551f19a1f4&symbols=GBP,USD'"
      ]
     },
     "metadata": {},
     "execution_count": 127
    }
   ],
   "source": [
    "# incorporating parameters in the GET request\n",
    "\n",
    "base_url = 'http://api.exchangeratesapi.io/v1/latest?'\n",
    "API_KEY = 'access_key=debfa4deeaf6ef27f39faf551f19a1f4'\n",
    "access_key = API_KEY\n",
    "# 'http://api.exchangeratesapi.io/v1/latest?access_key=debfa4deeaf6ef27f39faf551f19a1f4&symbols=GBP,USD'\n",
    "param_url = base_url + access_key + '&symbols=GBP,USD'\n",
    "param_url\n",
    "\n",
    "\n"
   ]
  },
  {
   "cell_type": "code",
   "execution_count": 128,
   "metadata": {},
   "outputs": [
    {
     "output_type": "execute_result",
     "data": {
      "text/plain": [
       "<Response [200]>"
      ]
     },
     "metadata": {},
     "execution_count": 128
    }
   ],
   "source": [
    "res = requests.get(param_url)\n",
    "res"
   ]
  },
  {
   "cell_type": "code",
   "execution_count": 129,
   "metadata": {},
   "outputs": [],
   "source": [
    "data = res.json()"
   ]
  },
  {
   "cell_type": "code",
   "execution_count": 130,
   "metadata": {},
   "outputs": [
    {
     "output_type": "execute_result",
     "data": {
      "text/plain": [
       "{'success': True,\n",
       " 'timestamp': 1626282124,\n",
       " 'base': 'EUR',\n",
       " 'date': '2021-07-14',\n",
       " 'rates': {'GBP': 0.854165, 'USD': 1.183299}}"
      ]
     },
     "metadata": {},
     "execution_count": 130
    }
   ],
   "source": [
    "data"
   ]
  },
  {
   "cell_type": "code",
   "execution_count": 131,
   "metadata": {},
   "outputs": [
    {
     "output_type": "execute_result",
     "data": {
      "text/plain": [
       "{'GBP': 0.854165, 'USD': 1.183299}"
      ]
     },
     "metadata": {},
     "execution_count": 131
    }
   ],
   "source": [
    "data['rates']"
   ]
  },
  {
   "cell_type": "code",
   "execution_count": 135,
   "metadata": {},
   "outputs": [
    {
     "output_type": "execute_result",
     "data": {
      "text/plain": [
       "'http://api.exchangeratesapi.io/v1/latest?access_key=debfa4deeaf6ef27f39faf551f19a1f4&symbols=GBP,USD'"
      ]
     },
     "metadata": {},
     "execution_count": 135
    }
   ],
   "source": [
    "param_url = f\"{base_url}{access_key}&symbols=GBP,USD\"\n",
    "param_url"
   ]
  },
  {
   "cell_type": "code",
   "execution_count": 136,
   "metadata": {},
   "outputs": [
    {
     "output_type": "execute_result",
     "data": {
      "text/plain": [
       "{'success': True,\n",
       " 'timestamp': 1626282124,\n",
       " 'base': 'EUR',\n",
       " 'date': '2021-07-14',\n",
       " 'rates': {'GBP': 0.854165, 'USD': 1.183299}}"
      ]
     },
     "metadata": {},
     "execution_count": 136
    }
   ],
   "source": [
    "data = requests.get(param_url).json()\n",
    "data"
   ]
  },
  {
   "cell_type": "code",
   "execution_count": 139,
   "metadata": {},
   "outputs": [
    {
     "output_type": "execute_result",
     "data": {
      "text/plain": [
       "0.854165"
      ]
     },
     "metadata": {},
     "execution_count": 139
    }
   ],
   "source": [
    "usd_to_gbp = data['rates']['GBP']\n",
    "usd_to_gbp"
   ]
  },
  {
   "cell_type": "code",
   "execution_count": 140,
   "metadata": {},
   "outputs": [],
   "source": [
    "# obtaining historical exchang rates"
   ]
  },
  {
   "cell_type": "code",
   "execution_count": 167,
   "metadata": {},
   "outputs": [],
   "source": [
    "base_url = 'http://api.exchangeratesapi.io/v1/'\n",
    "API_KEY = 'access_key=debfa4deeaf6ef27f39faf551f19a1f4'\n",
    "access_key = API_KEY"
   ]
  },
  {
   "cell_type": "code",
   "execution_count": 168,
   "metadata": {},
   "outputs": [
    {
     "output_type": "execute_result",
     "data": {
      "text/plain": [
       "'http://api.exchangeratesapi.io/v1//2016-01-26?access_key=debfa4deeaf6ef27f39faf551f19a1f4'"
      ]
     },
     "metadata": {},
     "execution_count": 168
    }
   ],
   "source": [
    "historical_url = f\"{base_url}/2016-01-26?{access_key}\"\n",
    "historical_url"
   ]
  },
  {
   "cell_type": "code",
   "execution_count": 169,
   "metadata": {},
   "outputs": [
    {
     "output_type": "execute_result",
     "data": {
      "text/plain": [
       "200"
      ]
     },
     "metadata": {},
     "execution_count": 169
    }
   ],
   "source": [
    "res = requests.get(historical_url)\n",
    "res.status_code"
   ]
  },
  {
   "cell_type": "code",
   "execution_count": 170,
   "metadata": {},
   "outputs": [
    {
     "output_type": "stream",
     "name": "stdout",
     "text": [
      "{\n    \"success\": true,\n    \"timestamp\": 1453852799,\n    \"historical\": true,\n    \"base\": \"EUR\",\n    \"date\": \"2016-01-26\",\n    \"rates\": {\n        \"AED\": 3.991061,\n        \"AFN\": 74.58154,\n        \"ALL\": 137.965795,\n        \"AMD\": 530.247142,\n        \"ANG\": 1.943586,\n        \"AOA\": 168.999693,\n        \"ARS\": 14.990112,\n        \"AUD\": 1.55192,\n        \"AWG\": 1.948565,\n        \"AZN\": 1.738253,\n        \"BAM\": 1.958195,\n        \"BBD\": 2.173122,\n        \"BDT\": 85.139638,\n        \"BGN\": 1.959586,\n        \"BHD\": 0.409556,\n        \"BIF\": 1701.160447,\n        \"BMD\": 1.086561,\n        \"BND\": 1.550257,\n        \"BOB\": 7.503896,\n        \"BRL\": 4.430875,\n        \"BSD\": 1.086561,\n        \"BTC\": 0.002759,\n        \"BTN\": 73.608145,\n        \"BWP\": 12.59286,\n        \"BYR\": 22823.99887,\n        \"BZD\": 2.166505,\n        \"CAD\": 1.536042,\n        \"CDF\": 1008.769361,\n        \"CHF\": 1.104771,\n        \"CLF\": 0.026732,\n        \"CLP\": 780.130471,\n        \"CNY\": 7.136479,\n        \"COP\": 3643.349976,\n        \"CRC\": 581.502935,\n        \"CUC\": 1.086561,\n        \"CUP\": 1.08504,\n        \"CVE\": 110.692846,\n        \"CZK\": 27.049648,\n        \"DJF\": 193.049679,\n        \"DKK\": 7.470534,\n        \"DOP\": 49.597361,\n        \"DZD\": 116.607946,\n        \"EGP\": 8.510282,\n        \"ERN\": 16.300043,\n        \"ETB\": 23.082356,\n        \"EUR\": 1,\n        \"FJD\": 2.351843,\n        \"FKP\": 0.757253,\n        \"GBP\": 0.757253,\n        \"GEL\": 2.699126,\n        \"GGP\": 0.757253,\n        \"GHS\": 4.331521,\n        \"GIP\": 0.757253,\n        \"GMD\": 42.997577,\n        \"GNF\": 8411.849927,\n        \"GTQ\": 8.309943,\n        \"GYD\": 223.994889,\n        \"HKD\": 8.469703,\n        \"HNL\": 24.454289,\n        \"HRK\": 7.67416,\n        \"HTG\": 63.815513,\n        \"HUF\": 312.357732,\n        \"IDR\": 15029.907588,\n        \"ILS\": 4.311148,\n        \"IMP\": 0.757253,\n        \"INR\": 73.56411,\n        \"IQD\": 1182.775824,\n        \"IRR\": 32594.109754,\n        \"ISK\": 141.807466,\n        \"JEP\": 0.757253,\n        \"JMD\": 130.925561,\n        \"JOD\": 0.770478,\n        \"JPY\": 128.708432,\n        \"KES\": 110.981463,\n        \"KGS\": 82.466493,\n        \"KHR\": 4414.51754,\n        \"KMF\": 492.857326,\n        \"KPW\": 978.002575,\n        \"KRW\": 1301.9281,\n        \"KWD\": 0.330032,\n        \"KYD\": 0.896274,\n        \"KZT\": 411.653349,\n        \"LAK\": 8845.300949,\n        \"LBP\": 1643.659616,\n        \"LKR\": 156.368877,\n        \"LRD\": 92.172961,\n        \"LSL\": 17.833525,\n        \"LTL\": 3.36406,\n        \"LVL\": 0.690078,\n        \"LYD\": 1.515605,\n        \"MAD\": 10.771797,\n        \"MDL\": 22.343864,\n        \"MGA\": 3478.168258,\n        \"MKD\": 61.675488,\n        \"MMK\": 1407.859638,\n        \"MNT\": 2176.200332,\n        \"MOP\": 8.720062,\n        \"MRO\": 366.985934,\n        \"MUR\": 39.243944,\n        \"MVR\": 16.666576,\n        \"MWK\": 770.837583,\n        \"MXN\": 20.044516,\n        \"MYR\": 4.636976,\n        \"MZN\": 49.53631,\n        \"NAD\": 17.833691,\n        \"NGN\": 216.20171,\n        \"NIO\": 30.061684,\n        \"NOK\": 9.466752,\n        \"NPR\": 117.805364,\n        \"NZD\": 1.673047,\n        \"OMR\": 0.418382,\n        \"PAB\": 1.086561,\n        \"PEN\": 3.761785,\n        \"PGK\": 3.27321,\n        \"PHP\": 52.177077,\n        \"PKR\": 114.032,\n        \"PLN\": 4.454915,\n        \"PYG\": 6453.313196,\n        \"QAR\": 3.958007,\n        \"RON\": 4.534513,\n        \"RSD\": 123.273591,\n        \"RUB\": 85.537408,\n        \"RWF\": 811.845415,\n        \"SAR\": 4.076612,\n        \"SBD\": 8.871363,\n        \"SCR\": 14.265227,\n        \"SDG\": 6.630971,\n        \"SEK\": 9.289385,\n        \"SGD\": 1.550432,\n        \"SHP\": 0.757253,\n        \"SLL\": 4478.803914,\n        \"SOS\": 671.150318,\n        \"SRD\": 4.338094,\n        \"STD\": 24561.436868,\n        \"SVC\": 9.495542,\n        \"SYP\": 238.934734,\n        \"SZL\": 17.83619,\n        \"THB\": 38.950752,\n        \"TJS\": 8.364998,\n        \"TMT\": 3.804557,\n        \"TND\": 2.219164,\n        \"TOP\": 2.493078,\n        \"TRY\": 3.269079,\n        \"TTD\": 6.999677,\n        \"TWD\": 36.408514,\n        \"TZS\": 2378.121408,\n        \"UAH\": 27.008644,\n        \"UGX\": 3775.58715,\n        \"USD\": 1.086561,\n        \"UYU\": 33.701902,\n        \"UZS\": 3064.356985,\n        \"VEF\": 6.867559,\n        \"VND\": 24267.775683,\n        \"VUV\": 124.236012,\n        \"WST\": 2.849591,\n        \"XAF\": 658.116362,\n        \"XAG\": 0.074814,\n        \"XAU\": 0.000969,\n        \"XCD\": 2.934823,\n        \"XDR\": 0.787598,\n        \"XOF\": 660.390925,\n        \"XPF\": 119.468985,\n        \"YER\": 233.667416,\n        \"ZAR\": 17.829127,\n        \"ZMK\": 5707.786029,\n        \"ZMW\": 12.228889,\n        \"ZWL\": 350.293368\n    }\n}\n"
     ]
    }
   ],
   "source": [
    "data = res.json()\n",
    "print(json.dumps(data, indent=4))"
   ]
  },
  {
   "cell_type": "code",
   "execution_count": 171,
   "metadata": {},
   "outputs": [],
   "source": [
    "# extracting data for a time period"
   ]
  },
  {
   "cell_type": "code",
   "execution_count": 204,
   "metadata": {},
   "outputs": [
    {
     "output_type": "execute_result",
     "data": {
      "text/plain": [
       "'http://api.exchangeratesapi.io/v1/start_at=2017-04-26&end_at=2018-04-26?access_key=debfa4deeaf6ef27f39faf551f19a1f4&symbols=GBP'"
      ]
     },
     "metadata": {},
     "execution_count": 204
    }
   ],
   "source": [
    "base_url = 'http://api.exchangeratesapi.io/v1/'\n",
    "access_key  = 'access_key=debfa4deeaf6ef27f39faf551f19a1f4'\n",
    "start_date = 'start_at=2017-04-26'\n",
    "end_date = 'end_at=2018-04-26'\n",
    "\n",
    "time_period = f\"{base_url}{start_date}&{end_date}?{access_key}&symbols=GBP\"\n",
    "time_period"
   ]
  },
  {
   "cell_type": "code",
   "execution_count": 205,
   "metadata": {},
   "outputs": [],
   "source": [
    "data = requests.get(time_period).json()"
   ]
  },
  {
   "cell_type": "code",
   "execution_count": 206,
   "metadata": {},
   "outputs": [
    {
     "output_type": "stream",
     "name": "stdout",
     "text": [
      "{\n    \"error\": {\n        \"code\": \"invalid_date\",\n        \"message\": \"You have entered an invalid date. [Required format: date=YYYY-MM-DD]\"\n    }\n}\n"
     ]
    }
   ],
   "source": [
    "print(json.dumps(data, indent=4))"
   ]
  },
  {
   "cell_type": "code",
   "execution_count": 208,
   "metadata": {},
   "outputs": [
    {
     "output_type": "execute_result",
     "data": {
      "text/plain": [
       "200"
      ]
     },
     "metadata": {},
     "execution_count": 208
    }
   ],
   "source": [
    "res.status_code"
   ]
  },
  {
   "cell_type": "code",
   "execution_count": 207,
   "metadata": {},
   "outputs": [
    {
     "output_type": "execute_result",
     "data": {
      "text/plain": [
       "{'success': True,\n",
       " 'timestamp': 1453852799,\n",
       " 'historical': True,\n",
       " 'base': 'EUR',\n",
       " 'date': '2016-01-26',\n",
       " 'rates': {'AED': 3.991061,\n",
       "  'AFN': 74.58154,\n",
       "  'ALL': 137.965795,\n",
       "  'AMD': 530.247142,\n",
       "  'ANG': 1.943586,\n",
       "  'AOA': 168.999693,\n",
       "  'ARS': 14.990112,\n",
       "  'AUD': 1.55192,\n",
       "  'AWG': 1.948565,\n",
       "  'AZN': 1.738253,\n",
       "  'BAM': 1.958195,\n",
       "  'BBD': 2.173122,\n",
       "  'BDT': 85.139638,\n",
       "  'BGN': 1.959586,\n",
       "  'BHD': 0.409556,\n",
       "  'BIF': 1701.160447,\n",
       "  'BMD': 1.086561,\n",
       "  'BND': 1.550257,\n",
       "  'BOB': 7.503896,\n",
       "  'BRL': 4.430875,\n",
       "  'BSD': 1.086561,\n",
       "  'BTC': 0.002759,\n",
       "  'BTN': 73.608145,\n",
       "  'BWP': 12.59286,\n",
       "  'BYR': 22823.99887,\n",
       "  'BZD': 2.166505,\n",
       "  'CAD': 1.536042,\n",
       "  'CDF': 1008.769361,\n",
       "  'CHF': 1.104771,\n",
       "  'CLF': 0.026732,\n",
       "  'CLP': 780.130471,\n",
       "  'CNY': 7.136479,\n",
       "  'COP': 3643.349976,\n",
       "  'CRC': 581.502935,\n",
       "  'CUC': 1.086561,\n",
       "  'CUP': 1.08504,\n",
       "  'CVE': 110.692846,\n",
       "  'CZK': 27.049648,\n",
       "  'DJF': 193.049679,\n",
       "  'DKK': 7.470534,\n",
       "  'DOP': 49.597361,\n",
       "  'DZD': 116.607946,\n",
       "  'EGP': 8.510282,\n",
       "  'ERN': 16.300043,\n",
       "  'ETB': 23.082356,\n",
       "  'EUR': 1,\n",
       "  'FJD': 2.351843,\n",
       "  'FKP': 0.757253,\n",
       "  'GBP': 0.757253,\n",
       "  'GEL': 2.699126,\n",
       "  'GGP': 0.757253,\n",
       "  'GHS': 4.331521,\n",
       "  'GIP': 0.757253,\n",
       "  'GMD': 42.997577,\n",
       "  'GNF': 8411.849927,\n",
       "  'GTQ': 8.309943,\n",
       "  'GYD': 223.994889,\n",
       "  'HKD': 8.469703,\n",
       "  'HNL': 24.454289,\n",
       "  'HRK': 7.67416,\n",
       "  'HTG': 63.815513,\n",
       "  'HUF': 312.357732,\n",
       "  'IDR': 15029.907588,\n",
       "  'ILS': 4.311148,\n",
       "  'IMP': 0.757253,\n",
       "  'INR': 73.56411,\n",
       "  'IQD': 1182.775824,\n",
       "  'IRR': 32594.109754,\n",
       "  'ISK': 141.807466,\n",
       "  'JEP': 0.757253,\n",
       "  'JMD': 130.925561,\n",
       "  'JOD': 0.770478,\n",
       "  'JPY': 128.708432,\n",
       "  'KES': 110.981463,\n",
       "  'KGS': 82.466493,\n",
       "  'KHR': 4414.51754,\n",
       "  'KMF': 492.857326,\n",
       "  'KPW': 978.002575,\n",
       "  'KRW': 1301.9281,\n",
       "  'KWD': 0.330032,\n",
       "  'KYD': 0.896274,\n",
       "  'KZT': 411.653349,\n",
       "  'LAK': 8845.300949,\n",
       "  'LBP': 1643.659616,\n",
       "  'LKR': 156.368877,\n",
       "  'LRD': 92.172961,\n",
       "  'LSL': 17.833525,\n",
       "  'LTL': 3.36406,\n",
       "  'LVL': 0.690078,\n",
       "  'LYD': 1.515605,\n",
       "  'MAD': 10.771797,\n",
       "  'MDL': 22.343864,\n",
       "  'MGA': 3478.168258,\n",
       "  'MKD': 61.675488,\n",
       "  'MMK': 1407.859638,\n",
       "  'MNT': 2176.200332,\n",
       "  'MOP': 8.720062,\n",
       "  'MRO': 366.985934,\n",
       "  'MUR': 39.243944,\n",
       "  'MVR': 16.666576,\n",
       "  'MWK': 770.837583,\n",
       "  'MXN': 20.044516,\n",
       "  'MYR': 4.636976,\n",
       "  'MZN': 49.53631,\n",
       "  'NAD': 17.833691,\n",
       "  'NGN': 216.20171,\n",
       "  'NIO': 30.061684,\n",
       "  'NOK': 9.466752,\n",
       "  'NPR': 117.805364,\n",
       "  'NZD': 1.673047,\n",
       "  'OMR': 0.418382,\n",
       "  'PAB': 1.086561,\n",
       "  'PEN': 3.761785,\n",
       "  'PGK': 3.27321,\n",
       "  'PHP': 52.177077,\n",
       "  'PKR': 114.032,\n",
       "  'PLN': 4.454915,\n",
       "  'PYG': 6453.313196,\n",
       "  'QAR': 3.958007,\n",
       "  'RON': 4.534513,\n",
       "  'RSD': 123.273591,\n",
       "  'RUB': 85.537408,\n",
       "  'RWF': 811.845415,\n",
       "  'SAR': 4.076612,\n",
       "  'SBD': 8.871363,\n",
       "  'SCR': 14.265227,\n",
       "  'SDG': 6.630971,\n",
       "  'SEK': 9.289385,\n",
       "  'SGD': 1.550432,\n",
       "  'SHP': 0.757253,\n",
       "  'SLL': 4478.803914,\n",
       "  'SOS': 671.150318,\n",
       "  'SRD': 4.338094,\n",
       "  'STD': 24561.436868,\n",
       "  'SVC': 9.495542,\n",
       "  'SYP': 238.934734,\n",
       "  'SZL': 17.83619,\n",
       "  'THB': 38.950752,\n",
       "  'TJS': 8.364998,\n",
       "  'TMT': 3.804557,\n",
       "  'TND': 2.219164,\n",
       "  'TOP': 2.493078,\n",
       "  'TRY': 3.269079,\n",
       "  'TTD': 6.999677,\n",
       "  'TWD': 36.408514,\n",
       "  'TZS': 2378.121408,\n",
       "  'UAH': 27.008644,\n",
       "  'UGX': 3775.58715,\n",
       "  'USD': 1.086561,\n",
       "  'UYU': 33.701902,\n",
       "  'UZS': 3064.356985,\n",
       "  'VEF': 6.867559,\n",
       "  'VND': 24267.775683,\n",
       "  'VUV': 124.236012,\n",
       "  'WST': 2.849591,\n",
       "  'XAF': 658.116362,\n",
       "  'XAG': 0.074814,\n",
       "  'XAU': 0.000969,\n",
       "  'XCD': 2.934823,\n",
       "  'XDR': 0.787598,\n",
       "  'XOF': 660.390925,\n",
       "  'XPF': 119.468985,\n",
       "  'YER': 233.667416,\n",
       "  'ZAR': 17.829127,\n",
       "  'ZMK': 5707.786029,\n",
       "  'ZMW': 12.228889,\n",
       "  'ZWL': 350.293368}}"
      ]
     },
     "metadata": {},
     "execution_count": 207
    }
   ],
   "source": [
    "res.json()"
   ]
  },
  {
   "cell_type": "code",
   "execution_count": 209,
   "metadata": {},
   "outputs": [],
   "source": [
    "# creating a simple currency converter app\n"
   ]
  },
  {
   "cell_type": "code",
   "execution_count": 229,
   "metadata": {},
   "outputs": [
    {
     "output_type": "stream",
     "name": "stdout",
     "text": [
      "Error: 400\n{'code': 'base_currency_access_restricted', 'message': 'An unexpected error ocurred. [Technical Support: support@apilayer.com]'}\n"
     ]
    }
   ],
   "source": [
    "base_url = 'http://api.exchangeratesapi.io/v1/'\n",
    "\n",
    "# 1. Gather input (date, base, currency, quantity)\n",
    "\n",
    "date = input(\"Please enter the date in the format 'YYYY-MM-DD' or 'latest' >>> \")\n",
    "# base = input(\"Convert from (currency): \")\n",
    "currency = input(\"Convert to (currency): \")\n",
    "quantity = float(input(f\"How much {base} do you want to convert: \"))\n",
    "access_key  = 'access_key=5f4dd9916217b32c4ee78fa59cc45578'\n",
    "\n",
    "# build the URL based on the user parameters:\n",
    "url = f\"{base_url}{date}?{access_key}&base=USD&symbols={currency}\"\n",
    "res = requests.get(url)\n",
    "\n",
    "# show error message if something went wrong.\n",
    "if(res.ok is False):\n",
    "    print(f'Error: {res.status_code}')\n",
    "    print(res.json()['error'])\n",
    "\n",
    "else:\n",
    "    data = res.json()\n",
    "    rate = data['rates'][currency]\n",
    "\n",
    "    result = quantity * rate\n",
    "\n",
    "    print(f\"{quantity} USD is equal to {result}{currency}, based upon exchage rates on {data['date']}\")"
   ]
  },
  {
   "cell_type": "code",
   "execution_count": 227,
   "metadata": {},
   "outputs": [
    {
     "output_type": "execute_result",
     "data": {
      "text/plain": [
       "'http://api.exchangeratesapi.io/v1/2019-03-04?access_key=5f4dd9916217b32c4ee78fa59cc45578&base=USD&symbols=CAD'"
      ]
     },
     "metadata": {},
     "execution_count": 227
    }
   ],
   "source": [
    "url = f\"{base_url}{date}?{access_key}&base={base}&symbols={currency}\"\n",
    "url"
   ]
  },
  {
   "cell_type": "code",
   "execution_count": 230,
   "metadata": {},
   "outputs": [],
   "source": [
    "# itunes search api"
   ]
  },
  {
   "cell_type": "code",
   "execution_count": 18,
   "metadata": {},
   "outputs": [],
   "source": [
    "import pandas as pd"
   ]
  },
  {
   "cell_type": "code",
   "execution_count": 22,
   "metadata": {},
   "outputs": [
    {
     "output_type": "execute_result",
     "data": {
      "text/plain": [
       "  wrapperType    artistId  collectionId         artistName  \\\n",
       "0   audiobook   160778930    1439484338          Bob Spitz   \n",
       "1   audiobook   310801194    1454533897       Paul Charles   \n",
       "2   audiobook   265867174     266241608         Larry Kane   \n",
       "3   audiobook     2037074    1420827098      Hunter Davies   \n",
       "4   audiobook     2065398    1469497435  Geoffrey Giuliano   \n",
       "5   audiobook     2065398    1469491203  Geoffrey Giuliano   \n",
       "6   audiobook     2065398    1477982007  Geoffrey Giuliano   \n",
       "7   audiobook   645389932    1434045544      Mark Lewisohn   \n",
       "8   audiobook   270708576     338505525       Alan Clayson   \n",
       "9   audiobook  1069415389    1483869140        Peter Asher   \n",
       "\n",
       "                                      collectionName  \\\n",
       "0                             The Beatles (Abridged)   \n",
       "1            The Beatles: The Pocket Essential Guide   \n",
       "2  Ticket to Ride: Inside the Beatles' 1964 and 1...   \n",
       "3                                        The Beatles   \n",
       "4  The Beatles: Inside Interviews: The Lost Press...   \n",
       "5  The Beatles: Interviews from the Edge: The Los...   \n",
       "6  The Beatles: Interviews from the Edge - The Lo...   \n",
       "7  Tune In: The Beatles: All These Years (Unabrid...   \n",
       "8                                    George Harrison   \n",
       "9                          The Beatles from A to Zed   \n",
       "\n",
       "                              collectionCensoredName  \\\n",
       "0                             The Beatles (Abridged)   \n",
       "1            The Beatles: The Pocket Essential Guide   \n",
       "2  Ticket to Ride: Inside the Beatles' 1964 and 1...   \n",
       "3                                        The Beatles   \n",
       "4  The Beatles: Inside Interviews: The Lost Press...   \n",
       "5  The Beatles: Interviews from the Edge: The Los...   \n",
       "6  The Beatles: Interviews from the Edge - The Lo...   \n",
       "7  Tune In: The Beatles: All These Years (Unabrid...   \n",
       "8                                    George Harrison   \n",
       "9                          The Beatles from A to Zed   \n",
       "\n",
       "                                       artistViewUrl  \\\n",
       "0  https://books.apple.com/us/author/bob-spitz/id...   \n",
       "1  https://books.apple.com/us/author/paul-charles...   \n",
       "2  https://books.apple.com/us/author/larry-kane/i...   \n",
       "3  https://books.apple.com/us/author/hunter-davie...   \n",
       "4  https://books.apple.com/us/author/geoffrey-giu...   \n",
       "5  https://books.apple.com/us/author/geoffrey-giu...   \n",
       "6  https://books.apple.com/us/author/geoffrey-giu...   \n",
       "7  https://books.apple.com/us/author/mark-lewisoh...   \n",
       "8  https://books.apple.com/us/author/alan-clayson...   \n",
       "9  https://books.apple.com/us/author/peter-asher/...   \n",
       "\n",
       "                                   collectionViewUrl  \\\n",
       "0  https://books.apple.com/us/audiobook/the-beatl...   \n",
       "1  https://books.apple.com/us/audiobook/the-beatl...   \n",
       "2  https://books.apple.com/us/audiobook/ticket-to...   \n",
       "3  https://books.apple.com/us/audiobook/the-beatl...   \n",
       "4  https://books.apple.com/us/audiobook/beatles-i...   \n",
       "5  https://books.apple.com/us/audiobook/beatles-i...   \n",
       "6  https://books.apple.com/us/audiobook/beatles-i...   \n",
       "7  https://books.apple.com/us/audiobook/tune-in-t...   \n",
       "8  https://books.apple.com/us/audiobook/george-ha...   \n",
       "9  https://books.apple.com/us/audiobook/the-beatl...   \n",
       "\n",
       "                                        artworkUrl60  \\\n",
       "0  https://is3-ssl.mzstatic.com/image/thumb/Music...   \n",
       "1  https://is5-ssl.mzstatic.com/image/thumb/Music...   \n",
       "2  https://is3-ssl.mzstatic.com/image/thumb/Music...   \n",
       "3  https://is5-ssl.mzstatic.com/image/thumb/Music...   \n",
       "4  https://is1-ssl.mzstatic.com/image/thumb/Music...   \n",
       "5  https://is2-ssl.mzstatic.com/image/thumb/Music...   \n",
       "6  https://is4-ssl.mzstatic.com/image/thumb/Music...   \n",
       "7  https://is4-ssl.mzstatic.com/image/thumb/Music...   \n",
       "8  https://is4-ssl.mzstatic.com/image/thumb/Music...   \n",
       "9  https://is5-ssl.mzstatic.com/image/thumb/Music...   \n",
       "\n",
       "                                       artworkUrl100  ...  trackPrice  \\\n",
       "0  https://is3-ssl.mzstatic.com/image/thumb/Music...  ...         NaN   \n",
       "1  https://is5-ssl.mzstatic.com/image/thumb/Music...  ...         NaN   \n",
       "2  https://is3-ssl.mzstatic.com/image/thumb/Music...  ...         NaN   \n",
       "3  https://is5-ssl.mzstatic.com/image/thumb/Music...  ...         NaN   \n",
       "4  https://is1-ssl.mzstatic.com/image/thumb/Music...  ...         NaN   \n",
       "5  https://is2-ssl.mzstatic.com/image/thumb/Music...  ...         NaN   \n",
       "6  https://is4-ssl.mzstatic.com/image/thumb/Music...  ...         NaN   \n",
       "7  https://is4-ssl.mzstatic.com/image/thumb/Music...  ...         NaN   \n",
       "8  https://is4-ssl.mzstatic.com/image/thumb/Music...  ...         NaN   \n",
       "9  https://is5-ssl.mzstatic.com/image/thumb/Music...  ...         NaN   \n",
       "\n",
       "  trackExplicitness  discCount discNumber trackNumber trackTimeMillis  \\\n",
       "0               NaN        NaN        NaN         NaN             NaN   \n",
       "1               NaN        NaN        NaN         NaN             NaN   \n",
       "2               NaN        NaN        NaN         NaN             NaN   \n",
       "3               NaN        NaN        NaN         NaN             NaN   \n",
       "4               NaN        NaN        NaN         NaN             NaN   \n",
       "5               NaN        NaN        NaN         NaN             NaN   \n",
       "6               NaN        NaN        NaN         NaN             NaN   \n",
       "7               NaN        NaN        NaN         NaN             NaN   \n",
       "8               NaN        NaN        NaN         NaN             NaN   \n",
       "9               NaN        NaN        NaN         NaN             NaN   \n",
       "\n",
       "  isStreamable contentAdvisoryRating collectionArtistName collectionArtistId  \n",
       "0          NaN                   NaN                  NaN                NaN  \n",
       "1          NaN                   NaN                  NaN                NaN  \n",
       "2          NaN                   NaN                  NaN                NaN  \n",
       "3          NaN                   NaN                  NaN                NaN  \n",
       "4          NaN                   NaN                  NaN                NaN  \n",
       "5          NaN                   NaN                  NaN                NaN  \n",
       "6          NaN                   NaN                  NaN                NaN  \n",
       "7          NaN                   NaN                  NaN                NaN  \n",
       "8          NaN                   NaN                  NaN                NaN  \n",
       "9          NaN                   NaN                  NaN                NaN  \n",
       "\n",
       "[10 rows x 37 columns]"
      ],
      "text/html": "<div>\n<style scoped>\n    .dataframe tbody tr th:only-of-type {\n        vertical-align: middle;\n    }\n\n    .dataframe tbody tr th {\n        vertical-align: top;\n    }\n\n    .dataframe thead th {\n        text-align: right;\n    }\n</style>\n<table border=\"1\" class=\"dataframe\">\n  <thead>\n    <tr style=\"text-align: right;\">\n      <th></th>\n      <th>wrapperType</th>\n      <th>artistId</th>\n      <th>collectionId</th>\n      <th>artistName</th>\n      <th>collectionName</th>\n      <th>collectionCensoredName</th>\n      <th>artistViewUrl</th>\n      <th>collectionViewUrl</th>\n      <th>artworkUrl60</th>\n      <th>artworkUrl100</th>\n      <th>...</th>\n      <th>trackPrice</th>\n      <th>trackExplicitness</th>\n      <th>discCount</th>\n      <th>discNumber</th>\n      <th>trackNumber</th>\n      <th>trackTimeMillis</th>\n      <th>isStreamable</th>\n      <th>contentAdvisoryRating</th>\n      <th>collectionArtistName</th>\n      <th>collectionArtistId</th>\n    </tr>\n  </thead>\n  <tbody>\n    <tr>\n      <th>0</th>\n      <td>audiobook</td>\n      <td>160778930</td>\n      <td>1439484338</td>\n      <td>Bob Spitz</td>\n      <td>The Beatles (Abridged)</td>\n      <td>The Beatles (Abridged)</td>\n      <td>https://books.apple.com/us/author/bob-spitz/id...</td>\n      <td>https://books.apple.com/us/audiobook/the-beatl...</td>\n      <td>https://is3-ssl.mzstatic.com/image/thumb/Music...</td>\n      <td>https://is3-ssl.mzstatic.com/image/thumb/Music...</td>\n      <td>...</td>\n      <td>NaN</td>\n      <td>NaN</td>\n      <td>NaN</td>\n      <td>NaN</td>\n      <td>NaN</td>\n      <td>NaN</td>\n      <td>NaN</td>\n      <td>NaN</td>\n      <td>NaN</td>\n      <td>NaN</td>\n    </tr>\n    <tr>\n      <th>1</th>\n      <td>audiobook</td>\n      <td>310801194</td>\n      <td>1454533897</td>\n      <td>Paul Charles</td>\n      <td>The Beatles: The Pocket Essential Guide</td>\n      <td>The Beatles: The Pocket Essential Guide</td>\n      <td>https://books.apple.com/us/author/paul-charles...</td>\n      <td>https://books.apple.com/us/audiobook/the-beatl...</td>\n      <td>https://is5-ssl.mzstatic.com/image/thumb/Music...</td>\n      <td>https://is5-ssl.mzstatic.com/image/thumb/Music...</td>\n      <td>...</td>\n      <td>NaN</td>\n      <td>NaN</td>\n      <td>NaN</td>\n      <td>NaN</td>\n      <td>NaN</td>\n      <td>NaN</td>\n      <td>NaN</td>\n      <td>NaN</td>\n      <td>NaN</td>\n      <td>NaN</td>\n    </tr>\n    <tr>\n      <th>2</th>\n      <td>audiobook</td>\n      <td>265867174</td>\n      <td>266241608</td>\n      <td>Larry Kane</td>\n      <td>Ticket to Ride: Inside the Beatles' 1964 and 1...</td>\n      <td>Ticket to Ride: Inside the Beatles' 1964 and 1...</td>\n      <td>https://books.apple.com/us/author/larry-kane/i...</td>\n      <td>https://books.apple.com/us/audiobook/ticket-to...</td>\n      <td>https://is3-ssl.mzstatic.com/image/thumb/Music...</td>\n      <td>https://is3-ssl.mzstatic.com/image/thumb/Music...</td>\n      <td>...</td>\n      <td>NaN</td>\n      <td>NaN</td>\n      <td>NaN</td>\n      <td>NaN</td>\n      <td>NaN</td>\n      <td>NaN</td>\n      <td>NaN</td>\n      <td>NaN</td>\n      <td>NaN</td>\n      <td>NaN</td>\n    </tr>\n    <tr>\n      <th>3</th>\n      <td>audiobook</td>\n      <td>2037074</td>\n      <td>1420827098</td>\n      <td>Hunter Davies</td>\n      <td>The Beatles</td>\n      <td>The Beatles</td>\n      <td>https://books.apple.com/us/author/hunter-davie...</td>\n      <td>https://books.apple.com/us/audiobook/the-beatl...</td>\n      <td>https://is5-ssl.mzstatic.com/image/thumb/Music...</td>\n      <td>https://is5-ssl.mzstatic.com/image/thumb/Music...</td>\n      <td>...</td>\n      <td>NaN</td>\n      <td>NaN</td>\n      <td>NaN</td>\n      <td>NaN</td>\n      <td>NaN</td>\n      <td>NaN</td>\n      <td>NaN</td>\n      <td>NaN</td>\n      <td>NaN</td>\n      <td>NaN</td>\n    </tr>\n    <tr>\n      <th>4</th>\n      <td>audiobook</td>\n      <td>2065398</td>\n      <td>1469497435</td>\n      <td>Geoffrey Giuliano</td>\n      <td>The Beatles: Inside Interviews: The Lost Press...</td>\n      <td>The Beatles: Inside Interviews: The Lost Press...</td>\n      <td>https://books.apple.com/us/author/geoffrey-giu...</td>\n      <td>https://books.apple.com/us/audiobook/beatles-i...</td>\n      <td>https://is1-ssl.mzstatic.com/image/thumb/Music...</td>\n      <td>https://is1-ssl.mzstatic.com/image/thumb/Music...</td>\n      <td>...</td>\n      <td>NaN</td>\n      <td>NaN</td>\n      <td>NaN</td>\n      <td>NaN</td>\n      <td>NaN</td>\n      <td>NaN</td>\n      <td>NaN</td>\n      <td>NaN</td>\n      <td>NaN</td>\n      <td>NaN</td>\n    </tr>\n    <tr>\n      <th>5</th>\n      <td>audiobook</td>\n      <td>2065398</td>\n      <td>1469491203</td>\n      <td>Geoffrey Giuliano</td>\n      <td>The Beatles: Interviews from the Edge: The Los...</td>\n      <td>The Beatles: Interviews from the Edge: The Los...</td>\n      <td>https://books.apple.com/us/author/geoffrey-giu...</td>\n      <td>https://books.apple.com/us/audiobook/beatles-i...</td>\n      <td>https://is2-ssl.mzstatic.com/image/thumb/Music...</td>\n      <td>https://is2-ssl.mzstatic.com/image/thumb/Music...</td>\n      <td>...</td>\n      <td>NaN</td>\n      <td>NaN</td>\n      <td>NaN</td>\n      <td>NaN</td>\n      <td>NaN</td>\n      <td>NaN</td>\n      <td>NaN</td>\n      <td>NaN</td>\n      <td>NaN</td>\n      <td>NaN</td>\n    </tr>\n    <tr>\n      <th>6</th>\n      <td>audiobook</td>\n      <td>2065398</td>\n      <td>1477982007</td>\n      <td>Geoffrey Giuliano</td>\n      <td>The Beatles: Interviews from the Edge - The Lo...</td>\n      <td>The Beatles: Interviews from the Edge - The Lo...</td>\n      <td>https://books.apple.com/us/author/geoffrey-giu...</td>\n      <td>https://books.apple.com/us/audiobook/beatles-i...</td>\n      <td>https://is4-ssl.mzstatic.com/image/thumb/Music...</td>\n      <td>https://is4-ssl.mzstatic.com/image/thumb/Music...</td>\n      <td>...</td>\n      <td>NaN</td>\n      <td>NaN</td>\n      <td>NaN</td>\n      <td>NaN</td>\n      <td>NaN</td>\n      <td>NaN</td>\n      <td>NaN</td>\n      <td>NaN</td>\n      <td>NaN</td>\n      <td>NaN</td>\n    </tr>\n    <tr>\n      <th>7</th>\n      <td>audiobook</td>\n      <td>645389932</td>\n      <td>1434045544</td>\n      <td>Mark Lewisohn</td>\n      <td>Tune In: The Beatles: All These Years (Unabrid...</td>\n      <td>Tune In: The Beatles: All These Years (Unabrid...</td>\n      <td>https://books.apple.com/us/author/mark-lewisoh...</td>\n      <td>https://books.apple.com/us/audiobook/tune-in-t...</td>\n      <td>https://is4-ssl.mzstatic.com/image/thumb/Music...</td>\n      <td>https://is4-ssl.mzstatic.com/image/thumb/Music...</td>\n      <td>...</td>\n      <td>NaN</td>\n      <td>NaN</td>\n      <td>NaN</td>\n      <td>NaN</td>\n      <td>NaN</td>\n      <td>NaN</td>\n      <td>NaN</td>\n      <td>NaN</td>\n      <td>NaN</td>\n      <td>NaN</td>\n    </tr>\n    <tr>\n      <th>8</th>\n      <td>audiobook</td>\n      <td>270708576</td>\n      <td>338505525</td>\n      <td>Alan Clayson</td>\n      <td>George Harrison</td>\n      <td>George Harrison</td>\n      <td>https://books.apple.com/us/author/alan-clayson...</td>\n      <td>https://books.apple.com/us/audiobook/george-ha...</td>\n      <td>https://is4-ssl.mzstatic.com/image/thumb/Music...</td>\n      <td>https://is4-ssl.mzstatic.com/image/thumb/Music...</td>\n      <td>...</td>\n      <td>NaN</td>\n      <td>NaN</td>\n      <td>NaN</td>\n      <td>NaN</td>\n      <td>NaN</td>\n      <td>NaN</td>\n      <td>NaN</td>\n      <td>NaN</td>\n      <td>NaN</td>\n      <td>NaN</td>\n    </tr>\n    <tr>\n      <th>9</th>\n      <td>audiobook</td>\n      <td>1069415389</td>\n      <td>1483869140</td>\n      <td>Peter Asher</td>\n      <td>The Beatles from A to Zed</td>\n      <td>The Beatles from A to Zed</td>\n      <td>https://books.apple.com/us/author/peter-asher/...</td>\n      <td>https://books.apple.com/us/audiobook/the-beatl...</td>\n      <td>https://is5-ssl.mzstatic.com/image/thumb/Music...</td>\n      <td>https://is5-ssl.mzstatic.com/image/thumb/Music...</td>\n      <td>...</td>\n      <td>NaN</td>\n      <td>NaN</td>\n      <td>NaN</td>\n      <td>NaN</td>\n      <td>NaN</td>\n      <td>NaN</td>\n      <td>NaN</td>\n      <td>NaN</td>\n      <td>NaN</td>\n      <td>NaN</td>\n    </tr>\n  </tbody>\n</table>\n<p>10 rows × 37 columns</p>\n</div>"
     },
     "metadata": {},
     "execution_count": 22
    }
   ],
   "source": [
    "songs_df = pd.DataFrame(info['results']).head(10)\n",
    "songs_df"
   ]
  },
  {
   "cell_type": "code",
   "execution_count": 23,
   "metadata": {},
   "outputs": [],
   "source": [
    "songs_df.to_csv('songs_info.csv')"
   ]
  },
  {
   "cell_type": "code",
   "execution_count": 24,
   "metadata": {},
   "outputs": [
    {
     "output_type": "execute_result",
     "data": {
      "text/plain": [
       "   Unnamed: 0 wrapperType   artistId  collectionId         artistName  \\\n",
       "0           0   audiobook  160778930    1439484338          Bob Spitz   \n",
       "1           1   audiobook  310801194    1454533897       Paul Charles   \n",
       "2           2   audiobook  265867174     266241608         Larry Kane   \n",
       "3           3   audiobook    2037074    1420827098      Hunter Davies   \n",
       "4           4   audiobook    2065398    1469497435  Geoffrey Giuliano   \n",
       "\n",
       "                                      collectionName  \\\n",
       "0                             The Beatles (Abridged)   \n",
       "1            The Beatles: The Pocket Essential Guide   \n",
       "2  Ticket to Ride: Inside the Beatles' 1964 and 1...   \n",
       "3                                        The Beatles   \n",
       "4  The Beatles: Inside Interviews: The Lost Press...   \n",
       "\n",
       "                              collectionCensoredName  \\\n",
       "0                             The Beatles (Abridged)   \n",
       "1            The Beatles: The Pocket Essential Guide   \n",
       "2  Ticket to Ride: Inside the Beatles' 1964 and 1...   \n",
       "3                                        The Beatles   \n",
       "4  The Beatles: Inside Interviews: The Lost Press...   \n",
       "\n",
       "                                       artistViewUrl  \\\n",
       "0  https://books.apple.com/us/author/bob-spitz/id...   \n",
       "1  https://books.apple.com/us/author/paul-charles...   \n",
       "2  https://books.apple.com/us/author/larry-kane/i...   \n",
       "3  https://books.apple.com/us/author/hunter-davie...   \n",
       "4  https://books.apple.com/us/author/geoffrey-giu...   \n",
       "\n",
       "                                   collectionViewUrl  \\\n",
       "0  https://books.apple.com/us/audiobook/the-beatl...   \n",
       "1  https://books.apple.com/us/audiobook/the-beatl...   \n",
       "2  https://books.apple.com/us/audiobook/ticket-to...   \n",
       "3  https://books.apple.com/us/audiobook/the-beatl...   \n",
       "4  https://books.apple.com/us/audiobook/beatles-i...   \n",
       "\n",
       "                                        artworkUrl60  ... trackPrice  \\\n",
       "0  https://is3-ssl.mzstatic.com/image/thumb/Music...  ...        NaN   \n",
       "1  https://is5-ssl.mzstatic.com/image/thumb/Music...  ...        NaN   \n",
       "2  https://is3-ssl.mzstatic.com/image/thumb/Music...  ...        NaN   \n",
       "3  https://is5-ssl.mzstatic.com/image/thumb/Music...  ...        NaN   \n",
       "4  https://is1-ssl.mzstatic.com/image/thumb/Music...  ...        NaN   \n",
       "\n",
       "   trackExplicitness discCount  discNumber trackNumber trackTimeMillis  \\\n",
       "0                NaN       NaN         NaN         NaN             NaN   \n",
       "1                NaN       NaN         NaN         NaN             NaN   \n",
       "2                NaN       NaN         NaN         NaN             NaN   \n",
       "3                NaN       NaN         NaN         NaN             NaN   \n",
       "4                NaN       NaN         NaN         NaN             NaN   \n",
       "\n",
       "  isStreamable contentAdvisoryRating collectionArtistName collectionArtistId  \n",
       "0          NaN                   NaN                  NaN                NaN  \n",
       "1          NaN                   NaN                  NaN                NaN  \n",
       "2          NaN                   NaN                  NaN                NaN  \n",
       "3          NaN                   NaN                  NaN                NaN  \n",
       "4          NaN                   NaN                  NaN                NaN  \n",
       "\n",
       "[5 rows x 38 columns]"
      ],
      "text/html": "<div>\n<style scoped>\n    .dataframe tbody tr th:only-of-type {\n        vertical-align: middle;\n    }\n\n    .dataframe tbody tr th {\n        vertical-align: top;\n    }\n\n    .dataframe thead th {\n        text-align: right;\n    }\n</style>\n<table border=\"1\" class=\"dataframe\">\n  <thead>\n    <tr style=\"text-align: right;\">\n      <th></th>\n      <th>Unnamed: 0</th>\n      <th>wrapperType</th>\n      <th>artistId</th>\n      <th>collectionId</th>\n      <th>artistName</th>\n      <th>collectionName</th>\n      <th>collectionCensoredName</th>\n      <th>artistViewUrl</th>\n      <th>collectionViewUrl</th>\n      <th>artworkUrl60</th>\n      <th>...</th>\n      <th>trackPrice</th>\n      <th>trackExplicitness</th>\n      <th>discCount</th>\n      <th>discNumber</th>\n      <th>trackNumber</th>\n      <th>trackTimeMillis</th>\n      <th>isStreamable</th>\n      <th>contentAdvisoryRating</th>\n      <th>collectionArtistName</th>\n      <th>collectionArtistId</th>\n    </tr>\n  </thead>\n  <tbody>\n    <tr>\n      <th>0</th>\n      <td>0</td>\n      <td>audiobook</td>\n      <td>160778930</td>\n      <td>1439484338</td>\n      <td>Bob Spitz</td>\n      <td>The Beatles (Abridged)</td>\n      <td>The Beatles (Abridged)</td>\n      <td>https://books.apple.com/us/author/bob-spitz/id...</td>\n      <td>https://books.apple.com/us/audiobook/the-beatl...</td>\n      <td>https://is3-ssl.mzstatic.com/image/thumb/Music...</td>\n      <td>...</td>\n      <td>NaN</td>\n      <td>NaN</td>\n      <td>NaN</td>\n      <td>NaN</td>\n      <td>NaN</td>\n      <td>NaN</td>\n      <td>NaN</td>\n      <td>NaN</td>\n      <td>NaN</td>\n      <td>NaN</td>\n    </tr>\n    <tr>\n      <th>1</th>\n      <td>1</td>\n      <td>audiobook</td>\n      <td>310801194</td>\n      <td>1454533897</td>\n      <td>Paul Charles</td>\n      <td>The Beatles: The Pocket Essential Guide</td>\n      <td>The Beatles: The Pocket Essential Guide</td>\n      <td>https://books.apple.com/us/author/paul-charles...</td>\n      <td>https://books.apple.com/us/audiobook/the-beatl...</td>\n      <td>https://is5-ssl.mzstatic.com/image/thumb/Music...</td>\n      <td>...</td>\n      <td>NaN</td>\n      <td>NaN</td>\n      <td>NaN</td>\n      <td>NaN</td>\n      <td>NaN</td>\n      <td>NaN</td>\n      <td>NaN</td>\n      <td>NaN</td>\n      <td>NaN</td>\n      <td>NaN</td>\n    </tr>\n    <tr>\n      <th>2</th>\n      <td>2</td>\n      <td>audiobook</td>\n      <td>265867174</td>\n      <td>266241608</td>\n      <td>Larry Kane</td>\n      <td>Ticket to Ride: Inside the Beatles' 1964 and 1...</td>\n      <td>Ticket to Ride: Inside the Beatles' 1964 and 1...</td>\n      <td>https://books.apple.com/us/author/larry-kane/i...</td>\n      <td>https://books.apple.com/us/audiobook/ticket-to...</td>\n      <td>https://is3-ssl.mzstatic.com/image/thumb/Music...</td>\n      <td>...</td>\n      <td>NaN</td>\n      <td>NaN</td>\n      <td>NaN</td>\n      <td>NaN</td>\n      <td>NaN</td>\n      <td>NaN</td>\n      <td>NaN</td>\n      <td>NaN</td>\n      <td>NaN</td>\n      <td>NaN</td>\n    </tr>\n    <tr>\n      <th>3</th>\n      <td>3</td>\n      <td>audiobook</td>\n      <td>2037074</td>\n      <td>1420827098</td>\n      <td>Hunter Davies</td>\n      <td>The Beatles</td>\n      <td>The Beatles</td>\n      <td>https://books.apple.com/us/author/hunter-davie...</td>\n      <td>https://books.apple.com/us/audiobook/the-beatl...</td>\n      <td>https://is5-ssl.mzstatic.com/image/thumb/Music...</td>\n      <td>...</td>\n      <td>NaN</td>\n      <td>NaN</td>\n      <td>NaN</td>\n      <td>NaN</td>\n      <td>NaN</td>\n      <td>NaN</td>\n      <td>NaN</td>\n      <td>NaN</td>\n      <td>NaN</td>\n      <td>NaN</td>\n    </tr>\n    <tr>\n      <th>4</th>\n      <td>4</td>\n      <td>audiobook</td>\n      <td>2065398</td>\n      <td>1469497435</td>\n      <td>Geoffrey Giuliano</td>\n      <td>The Beatles: Inside Interviews: The Lost Press...</td>\n      <td>The Beatles: Inside Interviews: The Lost Press...</td>\n      <td>https://books.apple.com/us/author/geoffrey-giu...</td>\n      <td>https://books.apple.com/us/audiobook/beatles-i...</td>\n      <td>https://is1-ssl.mzstatic.com/image/thumb/Music...</td>\n      <td>...</td>\n      <td>NaN</td>\n      <td>NaN</td>\n      <td>NaN</td>\n      <td>NaN</td>\n      <td>NaN</td>\n      <td>NaN</td>\n      <td>NaN</td>\n      <td>NaN</td>\n      <td>NaN</td>\n      <td>NaN</td>\n    </tr>\n  </tbody>\n</table>\n<p>5 rows × 38 columns</p>\n</div>"
     },
     "metadata": {},
     "execution_count": 24
    }
   ],
   "source": [
    "data = pd.read_csv('songs_info.csv')\n",
    "data.head()"
   ]
  },
  {
   "cell_type": "code",
   "execution_count": 25,
   "metadata": {},
   "outputs": [],
   "source": [
    "songs_df.to_json(\"songs_info.json\")"
   ]
  },
  {
   "cell_type": "code",
   "execution_count": 26,
   "metadata": {},
   "outputs": [
    {
     "output_type": "execute_result",
     "data": {
      "text/plain": [
       "  wrapperType   artistId  collectionId         artistName  \\\n",
       "0   audiobook  160778930    1439484338          Bob Spitz   \n",
       "1   audiobook  310801194    1454533897       Paul Charles   \n",
       "2   audiobook  265867174     266241608         Larry Kane   \n",
       "3   audiobook    2037074    1420827098      Hunter Davies   \n",
       "4   audiobook    2065398    1469497435  Geoffrey Giuliano   \n",
       "\n",
       "                                      collectionName  \\\n",
       "0                             The Beatles (Abridged)   \n",
       "1            The Beatles: The Pocket Essential Guide   \n",
       "2  Ticket to Ride: Inside the Beatles' 1964 and 1...   \n",
       "3                                        The Beatles   \n",
       "4  The Beatles: Inside Interviews: The Lost Press...   \n",
       "\n",
       "                              collectionCensoredName  \\\n",
       "0                             The Beatles (Abridged)   \n",
       "1            The Beatles: The Pocket Essential Guide   \n",
       "2  Ticket to Ride: Inside the Beatles' 1964 and 1...   \n",
       "3                                        The Beatles   \n",
       "4  The Beatles: Inside Interviews: The Lost Press...   \n",
       "\n",
       "                                       artistViewUrl  \\\n",
       "0  https://books.apple.com/us/author/bob-spitz/id...   \n",
       "1  https://books.apple.com/us/author/paul-charles...   \n",
       "2  https://books.apple.com/us/author/larry-kane/i...   \n",
       "3  https://books.apple.com/us/author/hunter-davie...   \n",
       "4  https://books.apple.com/us/author/geoffrey-giu...   \n",
       "\n",
       "                                   collectionViewUrl  \\\n",
       "0  https://books.apple.com/us/audiobook/the-beatl...   \n",
       "1  https://books.apple.com/us/audiobook/the-beatl...   \n",
       "2  https://books.apple.com/us/audiobook/ticket-to...   \n",
       "3  https://books.apple.com/us/audiobook/the-beatl...   \n",
       "4  https://books.apple.com/us/audiobook/beatles-i...   \n",
       "\n",
       "                                        artworkUrl60  \\\n",
       "0  https://is3-ssl.mzstatic.com/image/thumb/Music...   \n",
       "1  https://is5-ssl.mzstatic.com/image/thumb/Music...   \n",
       "2  https://is3-ssl.mzstatic.com/image/thumb/Music...   \n",
       "3  https://is5-ssl.mzstatic.com/image/thumb/Music...   \n",
       "4  https://is1-ssl.mzstatic.com/image/thumb/Music...   \n",
       "\n",
       "                                       artworkUrl100  ...  trackPrice  \\\n",
       "0  https://is3-ssl.mzstatic.com/image/thumb/Music...  ...         NaN   \n",
       "1  https://is5-ssl.mzstatic.com/image/thumb/Music...  ...         NaN   \n",
       "2  https://is3-ssl.mzstatic.com/image/thumb/Music...  ...         NaN   \n",
       "3  https://is5-ssl.mzstatic.com/image/thumb/Music...  ...         NaN   \n",
       "4  https://is1-ssl.mzstatic.com/image/thumb/Music...  ...         NaN   \n",
       "\n",
       "  trackExplicitness  discCount discNumber trackNumber trackTimeMillis  \\\n",
       "0               NaN        NaN        NaN         NaN             NaN   \n",
       "1               NaN        NaN        NaN         NaN             NaN   \n",
       "2               NaN        NaN        NaN         NaN             NaN   \n",
       "3               NaN        NaN        NaN         NaN             NaN   \n",
       "4               NaN        NaN        NaN         NaN             NaN   \n",
       "\n",
       "  isStreamable contentAdvisoryRating collectionArtistName collectionArtistId  \n",
       "0          NaN                   NaN                  NaN                NaN  \n",
       "1          NaN                   NaN                  NaN                NaN  \n",
       "2          NaN                   NaN                  NaN                NaN  \n",
       "3          NaN                   NaN                  NaN                NaN  \n",
       "4          NaN                   NaN                  NaN                NaN  \n",
       "\n",
       "[5 rows x 37 columns]"
      ],
      "text/html": "<div>\n<style scoped>\n    .dataframe tbody tr th:only-of-type {\n        vertical-align: middle;\n    }\n\n    .dataframe tbody tr th {\n        vertical-align: top;\n    }\n\n    .dataframe thead th {\n        text-align: right;\n    }\n</style>\n<table border=\"1\" class=\"dataframe\">\n  <thead>\n    <tr style=\"text-align: right;\">\n      <th></th>\n      <th>wrapperType</th>\n      <th>artistId</th>\n      <th>collectionId</th>\n      <th>artistName</th>\n      <th>collectionName</th>\n      <th>collectionCensoredName</th>\n      <th>artistViewUrl</th>\n      <th>collectionViewUrl</th>\n      <th>artworkUrl60</th>\n      <th>artworkUrl100</th>\n      <th>...</th>\n      <th>trackPrice</th>\n      <th>trackExplicitness</th>\n      <th>discCount</th>\n      <th>discNumber</th>\n      <th>trackNumber</th>\n      <th>trackTimeMillis</th>\n      <th>isStreamable</th>\n      <th>contentAdvisoryRating</th>\n      <th>collectionArtistName</th>\n      <th>collectionArtistId</th>\n    </tr>\n  </thead>\n  <tbody>\n    <tr>\n      <th>0</th>\n      <td>audiobook</td>\n      <td>160778930</td>\n      <td>1439484338</td>\n      <td>Bob Spitz</td>\n      <td>The Beatles (Abridged)</td>\n      <td>The Beatles (Abridged)</td>\n      <td>https://books.apple.com/us/author/bob-spitz/id...</td>\n      <td>https://books.apple.com/us/audiobook/the-beatl...</td>\n      <td>https://is3-ssl.mzstatic.com/image/thumb/Music...</td>\n      <td>https://is3-ssl.mzstatic.com/image/thumb/Music...</td>\n      <td>...</td>\n      <td>NaN</td>\n      <td>NaN</td>\n      <td>NaN</td>\n      <td>NaN</td>\n      <td>NaN</td>\n      <td>NaN</td>\n      <td>NaN</td>\n      <td>NaN</td>\n      <td>NaN</td>\n      <td>NaN</td>\n    </tr>\n    <tr>\n      <th>1</th>\n      <td>audiobook</td>\n      <td>310801194</td>\n      <td>1454533897</td>\n      <td>Paul Charles</td>\n      <td>The Beatles: The Pocket Essential Guide</td>\n      <td>The Beatles: The Pocket Essential Guide</td>\n      <td>https://books.apple.com/us/author/paul-charles...</td>\n      <td>https://books.apple.com/us/audiobook/the-beatl...</td>\n      <td>https://is5-ssl.mzstatic.com/image/thumb/Music...</td>\n      <td>https://is5-ssl.mzstatic.com/image/thumb/Music...</td>\n      <td>...</td>\n      <td>NaN</td>\n      <td>NaN</td>\n      <td>NaN</td>\n      <td>NaN</td>\n      <td>NaN</td>\n      <td>NaN</td>\n      <td>NaN</td>\n      <td>NaN</td>\n      <td>NaN</td>\n      <td>NaN</td>\n    </tr>\n    <tr>\n      <th>2</th>\n      <td>audiobook</td>\n      <td>265867174</td>\n      <td>266241608</td>\n      <td>Larry Kane</td>\n      <td>Ticket to Ride: Inside the Beatles' 1964 and 1...</td>\n      <td>Ticket to Ride: Inside the Beatles' 1964 and 1...</td>\n      <td>https://books.apple.com/us/author/larry-kane/i...</td>\n      <td>https://books.apple.com/us/audiobook/ticket-to...</td>\n      <td>https://is3-ssl.mzstatic.com/image/thumb/Music...</td>\n      <td>https://is3-ssl.mzstatic.com/image/thumb/Music...</td>\n      <td>...</td>\n      <td>NaN</td>\n      <td>NaN</td>\n      <td>NaN</td>\n      <td>NaN</td>\n      <td>NaN</td>\n      <td>NaN</td>\n      <td>NaN</td>\n      <td>NaN</td>\n      <td>NaN</td>\n      <td>NaN</td>\n    </tr>\n    <tr>\n      <th>3</th>\n      <td>audiobook</td>\n      <td>2037074</td>\n      <td>1420827098</td>\n      <td>Hunter Davies</td>\n      <td>The Beatles</td>\n      <td>The Beatles</td>\n      <td>https://books.apple.com/us/author/hunter-davie...</td>\n      <td>https://books.apple.com/us/audiobook/the-beatl...</td>\n      <td>https://is5-ssl.mzstatic.com/image/thumb/Music...</td>\n      <td>https://is5-ssl.mzstatic.com/image/thumb/Music...</td>\n      <td>...</td>\n      <td>NaN</td>\n      <td>NaN</td>\n      <td>NaN</td>\n      <td>NaN</td>\n      <td>NaN</td>\n      <td>NaN</td>\n      <td>NaN</td>\n      <td>NaN</td>\n      <td>NaN</td>\n      <td>NaN</td>\n    </tr>\n    <tr>\n      <th>4</th>\n      <td>audiobook</td>\n      <td>2065398</td>\n      <td>1469497435</td>\n      <td>Geoffrey Giuliano</td>\n      <td>The Beatles: Inside Interviews: The Lost Press...</td>\n      <td>The Beatles: Inside Interviews: The Lost Press...</td>\n      <td>https://books.apple.com/us/author/geoffrey-giu...</td>\n      <td>https://books.apple.com/us/audiobook/beatles-i...</td>\n      <td>https://is1-ssl.mzstatic.com/image/thumb/Music...</td>\n      <td>https://is1-ssl.mzstatic.com/image/thumb/Music...</td>\n      <td>...</td>\n      <td>NaN</td>\n      <td>NaN</td>\n      <td>NaN</td>\n      <td>NaN</td>\n      <td>NaN</td>\n      <td>NaN</td>\n      <td>NaN</td>\n      <td>NaN</td>\n      <td>NaN</td>\n      <td>NaN</td>\n    </tr>\n  </tbody>\n</table>\n<p>5 rows × 37 columns</p>\n</div>"
     },
     "metadata": {},
     "execution_count": 26
    }
   ],
   "source": [
    "data1 = pd.read_json('songs_info.json')\n",
    "data1.head()"
   ]
  },
  {
   "cell_type": "code",
   "execution_count": 30,
   "metadata": {},
   "outputs": [],
   "source": [
    "# Pagination"
   ]
  },
  {
   "cell_type": "code",
   "execution_count": 49,
   "metadata": {},
   "outputs": [],
   "source": [
    "base_site = 'https://jobs.github.com/positions.json'"
   ]
  },
  {
   "cell_type": "code",
   "execution_count": 50,
   "metadata": {},
   "outputs": [
    {
     "output_type": "execute_result",
     "data": {
      "text/plain": [
       "200"
      ]
     },
     "metadata": {},
     "execution_count": 50
    }
   ],
   "source": [
    "res = requests.get(base_site, params={\"description\": \"data science\", \"location\": \"los angeles\"})\n",
    "res.status_code"
   ]
  },
  {
   "cell_type": "code",
   "execution_count": 51,
   "metadata": {},
   "outputs": [
    {
     "output_type": "execute_result",
     "data": {
      "text/plain": [
       "[]"
      ]
     },
     "metadata": {},
     "execution_count": 51
    }
   ],
   "source": [
    "res.json()"
   ]
  },
  {
   "cell_type": "code",
   "execution_count": 52,
   "metadata": {},
   "outputs": [
    {
     "output_type": "execute_result",
     "data": {
      "text/plain": [
       "0"
      ]
     },
     "metadata": {},
     "execution_count": 52
    }
   ],
   "source": [
    "len(res.json())"
   ]
  },
  {
   "cell_type": "code",
   "execution_count": 53,
   "metadata": {},
   "outputs": [
    {
     "output_type": "execute_result",
     "data": {
      "text/plain": [
       "True"
      ]
     },
     "metadata": {},
     "execution_count": 53
    }
   ],
   "source": [
    "res = requests.get(base_site)\n",
    "res.ok"
   ]
  },
  {
   "cell_type": "code",
   "execution_count": 54,
   "metadata": {},
   "outputs": [
    {
     "output_type": "execute_result",
     "data": {
      "text/plain": [
       "[]"
      ]
     },
     "metadata": {},
     "execution_count": 54
    }
   ],
   "source": [
    "res.json()"
   ]
  },
  {
   "cell_type": "code",
   "execution_count": 55,
   "metadata": {},
   "outputs": [
    {
     "output_type": "execute_result",
     "data": {
      "text/plain": [
       "0"
      ]
     },
     "metadata": {},
     "execution_count": 55
    }
   ],
   "source": [
    "len(res.json())"
   ]
  },
  {
   "cell_type": "code",
   "execution_count": 56,
   "metadata": {},
   "outputs": [
    {
     "output_type": "execute_result",
     "data": {
      "text/plain": [
       "True"
      ]
     },
     "metadata": {},
     "execution_count": 56
    }
   ],
   "source": [
    "res = requests.get(base_site, params={\"page\": 2})\n",
    "res.ok"
   ]
  },
  {
   "cell_type": "code",
   "execution_count": 57,
   "metadata": {},
   "outputs": [
    {
     "output_type": "execute_result",
     "data": {
      "text/plain": [
       "[]"
      ]
     },
     "metadata": {},
     "execution_count": 57
    }
   ],
   "source": [
    "res.json()"
   ]
  },
  {
   "cell_type": "code",
   "execution_count": 58,
   "metadata": {},
   "outputs": [
    {
     "output_type": "execute_result",
     "data": {
      "text/plain": [
       "0"
      ]
     },
     "metadata": {},
     "execution_count": 58
    }
   ],
   "source": [
    "len(res.json())"
   ]
  },
  {
   "cell_type": "code",
   "execution_count": 59,
   "metadata": {},
   "outputs": [
    {
     "output_type": "execute_result",
     "data": {
      "text/plain": [
       "0"
      ]
     },
     "metadata": {},
     "execution_count": 59
    }
   ],
   "source": [
    "res = requests.get(base_site, params={\"page\": 5})\n",
    "len(res.json())"
   ]
  },
  {
   "cell_type": "code",
   "execution_count": 60,
   "metadata": {},
   "outputs": [],
   "source": [
    "# extracting results from multiple pages\n",
    "\n",
    "results = []\n",
    "\n",
    "for i in range(5):\n",
    "    res = requests.get(base_site, params={\"page\": i+1})\n",
    "\n",
    "    if len(res.json()) == 0:\n",
    "        break\n",
    "    results.extend(res.json())"
   ]
  },
  {
   "cell_type": "code",
   "execution_count": 61,
   "metadata": {},
   "outputs": [
    {
     "output_type": "execute_result",
     "data": {
      "text/plain": [
       "0"
      ]
     },
     "metadata": {},
     "execution_count": 61
    }
   ],
   "source": [
    "len(results)"
   ]
  },
  {
   "cell_type": "code",
   "execution_count": 62,
   "metadata": {},
   "outputs": [
    {
     "output_type": "execute_result",
     "data": {
      "text/plain": [
       "[]"
      ]
     },
     "metadata": {},
     "execution_count": 62
    }
   ],
   "source": [
    "res.json()"
   ]
  },
  {
   "cell_type": "code",
   "execution_count": null,
   "metadata": {},
   "outputs": [],
   "source": []
  }
 ],
 "metadata": {
  "kernelspec": {
   "name": "python3",
   "display_name": "Python 3.8.3 64-bit ('base': conda)"
  },
  "language_info": {
   "codemirror_mode": {
    "name": "ipython",
    "version": 3
   },
   "file_extension": ".py",
   "mimetype": "text/x-python",
   "name": "python",
   "nbconvert_exporter": "python",
   "pygments_lexer": "ipython3",
   "version": "3.8.3"
  },
  "interpreter": {
   "hash": "dca0ade3e726a953b501b15e8e990130d2b7799f14cfd9f4271676035ebe5511"
  }
 },
 "nbformat": 4,
 "nbformat_minor": 2
}