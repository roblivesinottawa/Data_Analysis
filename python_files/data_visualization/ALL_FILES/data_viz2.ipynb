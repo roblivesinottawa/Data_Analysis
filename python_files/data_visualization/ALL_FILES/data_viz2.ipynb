{
 "cells": [
  {
   "cell_type": "markdown",
   "metadata": {},
   "source": [
    "## Libraries"
   ]
  },
  {
   "cell_type": "code",
   "execution_count": 1,
   "metadata": {},
   "outputs": [],
   "source": [
    "import pandas as pd # library for data manipulation\n",
    "import matplotlib.pyplot as plt # library for visualization\n",
    "import seaborn as sns # library for visualization\n",
    "sns.set() # this command sets the seaborn chart style as the default\n",
    "\n",
    "from matplotlib.ticker import PercentFormatter #converts values into percentage format"
   ]
  },
  {
   "cell_type": "markdown",
   "metadata": {},
   "source": [
    "## Bar Chart"
   ]
  },
  {
   "cell_type": "code",
   "execution_count": 3,
   "metadata": {},
   "outputs": [
    {
     "output_type": "error",
     "ename": "FileNotFoundError",
     "evalue": "[Errno 2] No such file or directory: 'bar_chart_data.csv'",
     "traceback": [
      "\u001b[0;31m---------------------------------------------------------------------------\u001b[0m",
      "\u001b[0;31mFileNotFoundError\u001b[0m                         Traceback (most recent call last)",
      "\u001b[0;32m<ipython-input-3-5d519f231bf5>\u001b[0m in \u001b[0;36m<module>\u001b[0;34m\u001b[0m\n\u001b[1;32m      1\u001b[0m \u001b[0;31m# Read the car data csv file for this task.\u001b[0m\u001b[0;34m\u001b[0m\u001b[0;34m\u001b[0m\u001b[0;34m\u001b[0m\u001b[0m\n\u001b[1;32m      2\u001b[0m \u001b[0;31m# Make sure the file is in the same directory, as your Python Notebook, otherwise you'll need to specify the file location.\u001b[0m\u001b[0;34m\u001b[0m\u001b[0;34m\u001b[0m\u001b[0;34m\u001b[0m\u001b[0m\n\u001b[0;32m----> 3\u001b[0;31m \u001b[0mdf_used_cars\u001b[0m \u001b[0;34m=\u001b[0m \u001b[0mpd\u001b[0m\u001b[0;34m.\u001b[0m\u001b[0mread_csv\u001b[0m\u001b[0;34m(\u001b[0m\u001b[0;34m\"bar_chart_data.csv\"\u001b[0m\u001b[0;34m)\u001b[0m\u001b[0;34m\u001b[0m\u001b[0;34m\u001b[0m\u001b[0m\n\u001b[0m",
      "\u001b[0;32m/opt/anaconda3/lib/python3.8/site-packages/pandas/util/_decorators.py\u001b[0m in \u001b[0;36mwrapper\u001b[0;34m(*args, **kwargs)\u001b[0m\n\u001b[1;32m    309\u001b[0m                     \u001b[0mstacklevel\u001b[0m\u001b[0;34m=\u001b[0m\u001b[0mstacklevel\u001b[0m\u001b[0;34m,\u001b[0m\u001b[0;34m\u001b[0m\u001b[0;34m\u001b[0m\u001b[0m\n\u001b[1;32m    310\u001b[0m                 )\n\u001b[0;32m--> 311\u001b[0;31m             \u001b[0;32mreturn\u001b[0m \u001b[0mfunc\u001b[0m\u001b[0;34m(\u001b[0m\u001b[0;34m*\u001b[0m\u001b[0margs\u001b[0m\u001b[0;34m,\u001b[0m \u001b[0;34m**\u001b[0m\u001b[0mkwargs\u001b[0m\u001b[0;34m)\u001b[0m\u001b[0;34m\u001b[0m\u001b[0;34m\u001b[0m\u001b[0m\n\u001b[0m\u001b[1;32m    312\u001b[0m \u001b[0;34m\u001b[0m\u001b[0m\n\u001b[1;32m    313\u001b[0m         \u001b[0;32mreturn\u001b[0m \u001b[0mwrapper\u001b[0m\u001b[0;34m\u001b[0m\u001b[0;34m\u001b[0m\u001b[0m\n",
      "\u001b[0;32m/opt/anaconda3/lib/python3.8/site-packages/pandas/io/parsers/readers.py\u001b[0m in \u001b[0;36mread_csv\u001b[0;34m(filepath_or_buffer, sep, delimiter, header, names, index_col, usecols, squeeze, prefix, mangle_dupe_cols, dtype, engine, converters, true_values, false_values, skipinitialspace, skiprows, skipfooter, nrows, na_values, keep_default_na, na_filter, verbose, skip_blank_lines, parse_dates, infer_datetime_format, keep_date_col, date_parser, dayfirst, cache_dates, iterator, chunksize, compression, thousands, decimal, lineterminator, quotechar, quoting, doublequote, escapechar, comment, encoding, encoding_errors, dialect, error_bad_lines, warn_bad_lines, on_bad_lines, delim_whitespace, low_memory, memory_map, float_precision, storage_options)\u001b[0m\n\u001b[1;32m    584\u001b[0m     \u001b[0mkwds\u001b[0m\u001b[0;34m.\u001b[0m\u001b[0mupdate\u001b[0m\u001b[0;34m(\u001b[0m\u001b[0mkwds_defaults\u001b[0m\u001b[0;34m)\u001b[0m\u001b[0;34m\u001b[0m\u001b[0;34m\u001b[0m\u001b[0m\n\u001b[1;32m    585\u001b[0m \u001b[0;34m\u001b[0m\u001b[0m\n\u001b[0;32m--> 586\u001b[0;31m     \u001b[0;32mreturn\u001b[0m \u001b[0m_read\u001b[0m\u001b[0;34m(\u001b[0m\u001b[0mfilepath_or_buffer\u001b[0m\u001b[0;34m,\u001b[0m \u001b[0mkwds\u001b[0m\u001b[0;34m)\u001b[0m\u001b[0;34m\u001b[0m\u001b[0;34m\u001b[0m\u001b[0m\n\u001b[0m\u001b[1;32m    587\u001b[0m \u001b[0;34m\u001b[0m\u001b[0m\n\u001b[1;32m    588\u001b[0m \u001b[0;34m\u001b[0m\u001b[0m\n",
      "\u001b[0;32m/opt/anaconda3/lib/python3.8/site-packages/pandas/io/parsers/readers.py\u001b[0m in \u001b[0;36m_read\u001b[0;34m(filepath_or_buffer, kwds)\u001b[0m\n\u001b[1;32m    480\u001b[0m \u001b[0;34m\u001b[0m\u001b[0m\n\u001b[1;32m    481\u001b[0m     \u001b[0;31m# Create the parser.\u001b[0m\u001b[0;34m\u001b[0m\u001b[0;34m\u001b[0m\u001b[0;34m\u001b[0m\u001b[0m\n\u001b[0;32m--> 482\u001b[0;31m     \u001b[0mparser\u001b[0m \u001b[0;34m=\u001b[0m \u001b[0mTextFileReader\u001b[0m\u001b[0;34m(\u001b[0m\u001b[0mfilepath_or_buffer\u001b[0m\u001b[0;34m,\u001b[0m \u001b[0;34m**\u001b[0m\u001b[0mkwds\u001b[0m\u001b[0;34m)\u001b[0m\u001b[0;34m\u001b[0m\u001b[0;34m\u001b[0m\u001b[0m\n\u001b[0m\u001b[1;32m    483\u001b[0m \u001b[0;34m\u001b[0m\u001b[0m\n\u001b[1;32m    484\u001b[0m     \u001b[0;32mif\u001b[0m \u001b[0mchunksize\u001b[0m \u001b[0;32mor\u001b[0m \u001b[0miterator\u001b[0m\u001b[0;34m:\u001b[0m\u001b[0;34m\u001b[0m\u001b[0;34m\u001b[0m\u001b[0m\n",
      "\u001b[0;32m/opt/anaconda3/lib/python3.8/site-packages/pandas/io/parsers/readers.py\u001b[0m in \u001b[0;36m__init__\u001b[0;34m(self, f, engine, **kwds)\u001b[0m\n\u001b[1;32m    809\u001b[0m             \u001b[0mself\u001b[0m\u001b[0;34m.\u001b[0m\u001b[0moptions\u001b[0m\u001b[0;34m[\u001b[0m\u001b[0;34m\"has_index_names\"\u001b[0m\u001b[0;34m]\u001b[0m \u001b[0;34m=\u001b[0m \u001b[0mkwds\u001b[0m\u001b[0;34m[\u001b[0m\u001b[0;34m\"has_index_names\"\u001b[0m\u001b[0;34m]\u001b[0m\u001b[0;34m\u001b[0m\u001b[0;34m\u001b[0m\u001b[0m\n\u001b[1;32m    810\u001b[0m \u001b[0;34m\u001b[0m\u001b[0m\n\u001b[0;32m--> 811\u001b[0;31m         \u001b[0mself\u001b[0m\u001b[0;34m.\u001b[0m\u001b[0m_engine\u001b[0m \u001b[0;34m=\u001b[0m \u001b[0mself\u001b[0m\u001b[0;34m.\u001b[0m\u001b[0m_make_engine\u001b[0m\u001b[0;34m(\u001b[0m\u001b[0mself\u001b[0m\u001b[0;34m.\u001b[0m\u001b[0mengine\u001b[0m\u001b[0;34m)\u001b[0m\u001b[0;34m\u001b[0m\u001b[0;34m\u001b[0m\u001b[0m\n\u001b[0m\u001b[1;32m    812\u001b[0m \u001b[0;34m\u001b[0m\u001b[0m\n\u001b[1;32m    813\u001b[0m     \u001b[0;32mdef\u001b[0m \u001b[0mclose\u001b[0m\u001b[0;34m(\u001b[0m\u001b[0mself\u001b[0m\u001b[0;34m)\u001b[0m\u001b[0;34m:\u001b[0m\u001b[0;34m\u001b[0m\u001b[0;34m\u001b[0m\u001b[0m\n",
      "\u001b[0;32m/opt/anaconda3/lib/python3.8/site-packages/pandas/io/parsers/readers.py\u001b[0m in \u001b[0;36m_make_engine\u001b[0;34m(self, engine)\u001b[0m\n\u001b[1;32m   1038\u001b[0m             )\n\u001b[1;32m   1039\u001b[0m         \u001b[0;31m# error: Too many arguments for \"ParserBase\"\u001b[0m\u001b[0;34m\u001b[0m\u001b[0;34m\u001b[0m\u001b[0;34m\u001b[0m\u001b[0m\n\u001b[0;32m-> 1040\u001b[0;31m         \u001b[0;32mreturn\u001b[0m \u001b[0mmapping\u001b[0m\u001b[0;34m[\u001b[0m\u001b[0mengine\u001b[0m\u001b[0;34m]\u001b[0m\u001b[0;34m(\u001b[0m\u001b[0mself\u001b[0m\u001b[0;34m.\u001b[0m\u001b[0mf\u001b[0m\u001b[0;34m,\u001b[0m \u001b[0;34m**\u001b[0m\u001b[0mself\u001b[0m\u001b[0;34m.\u001b[0m\u001b[0moptions\u001b[0m\u001b[0;34m)\u001b[0m  \u001b[0;31m# type: ignore[call-arg]\u001b[0m\u001b[0;34m\u001b[0m\u001b[0;34m\u001b[0m\u001b[0m\n\u001b[0m\u001b[1;32m   1041\u001b[0m \u001b[0;34m\u001b[0m\u001b[0m\n\u001b[1;32m   1042\u001b[0m     \u001b[0;32mdef\u001b[0m \u001b[0m_failover_to_python\u001b[0m\u001b[0;34m(\u001b[0m\u001b[0mself\u001b[0m\u001b[0;34m)\u001b[0m\u001b[0;34m:\u001b[0m\u001b[0;34m\u001b[0m\u001b[0;34m\u001b[0m\u001b[0m\n",
      "\u001b[0;32m/opt/anaconda3/lib/python3.8/site-packages/pandas/io/parsers/c_parser_wrapper.py\u001b[0m in \u001b[0;36m__init__\u001b[0;34m(self, src, **kwds)\u001b[0m\n\u001b[1;32m     49\u001b[0m \u001b[0;34m\u001b[0m\u001b[0m\n\u001b[1;32m     50\u001b[0m         \u001b[0;31m# open handles\u001b[0m\u001b[0;34m\u001b[0m\u001b[0;34m\u001b[0m\u001b[0;34m\u001b[0m\u001b[0m\n\u001b[0;32m---> 51\u001b[0;31m         \u001b[0mself\u001b[0m\u001b[0;34m.\u001b[0m\u001b[0m_open_handles\u001b[0m\u001b[0;34m(\u001b[0m\u001b[0msrc\u001b[0m\u001b[0;34m,\u001b[0m \u001b[0mkwds\u001b[0m\u001b[0;34m)\u001b[0m\u001b[0;34m\u001b[0m\u001b[0;34m\u001b[0m\u001b[0m\n\u001b[0m\u001b[1;32m     52\u001b[0m         \u001b[0;32massert\u001b[0m \u001b[0mself\u001b[0m\u001b[0;34m.\u001b[0m\u001b[0mhandles\u001b[0m \u001b[0;32mis\u001b[0m \u001b[0;32mnot\u001b[0m \u001b[0;32mNone\u001b[0m\u001b[0;34m\u001b[0m\u001b[0;34m\u001b[0m\u001b[0m\n\u001b[1;32m     53\u001b[0m \u001b[0;34m\u001b[0m\u001b[0m\n",
      "\u001b[0;32m/opt/anaconda3/lib/python3.8/site-packages/pandas/io/parsers/base_parser.py\u001b[0m in \u001b[0;36m_open_handles\u001b[0;34m(self, src, kwds)\u001b[0m\n\u001b[1;32m    220\u001b[0m         \u001b[0mLet\u001b[0m \u001b[0mthe\u001b[0m \u001b[0mreaders\u001b[0m \u001b[0mopen\u001b[0m \u001b[0mIOHandles\u001b[0m \u001b[0mafter\u001b[0m \u001b[0mthey\u001b[0m \u001b[0mare\u001b[0m \u001b[0mdone\u001b[0m \u001b[0;32mwith\u001b[0m \u001b[0mtheir\u001b[0m \u001b[0mpotential\u001b[0m \u001b[0mraises\u001b[0m\u001b[0;34m.\u001b[0m\u001b[0;34m\u001b[0m\u001b[0;34m\u001b[0m\u001b[0m\n\u001b[1;32m    221\u001b[0m         \"\"\"\n\u001b[0;32m--> 222\u001b[0;31m         self.handles = get_handle(\n\u001b[0m\u001b[1;32m    223\u001b[0m             \u001b[0msrc\u001b[0m\u001b[0;34m,\u001b[0m\u001b[0;34m\u001b[0m\u001b[0;34m\u001b[0m\u001b[0m\n\u001b[1;32m    224\u001b[0m             \u001b[0;34m\"r\"\u001b[0m\u001b[0;34m,\u001b[0m\u001b[0;34m\u001b[0m\u001b[0;34m\u001b[0m\u001b[0m\n",
      "\u001b[0;32m/opt/anaconda3/lib/python3.8/site-packages/pandas/io/common.py\u001b[0m in \u001b[0;36mget_handle\u001b[0;34m(path_or_buf, mode, encoding, compression, memory_map, is_text, errors, storage_options)\u001b[0m\n\u001b[1;32m    699\u001b[0m         \u001b[0;32mif\u001b[0m \u001b[0mioargs\u001b[0m\u001b[0;34m.\u001b[0m\u001b[0mencoding\u001b[0m \u001b[0;32mand\u001b[0m \u001b[0;34m\"b\"\u001b[0m \u001b[0;32mnot\u001b[0m \u001b[0;32min\u001b[0m \u001b[0mioargs\u001b[0m\u001b[0;34m.\u001b[0m\u001b[0mmode\u001b[0m\u001b[0;34m:\u001b[0m\u001b[0;34m\u001b[0m\u001b[0;34m\u001b[0m\u001b[0m\n\u001b[1;32m    700\u001b[0m             \u001b[0;31m# Encoding\u001b[0m\u001b[0;34m\u001b[0m\u001b[0;34m\u001b[0m\u001b[0;34m\u001b[0m\u001b[0m\n\u001b[0;32m--> 701\u001b[0;31m             handle = open(\n\u001b[0m\u001b[1;32m    702\u001b[0m                 \u001b[0mhandle\u001b[0m\u001b[0;34m,\u001b[0m\u001b[0;34m\u001b[0m\u001b[0;34m\u001b[0m\u001b[0m\n\u001b[1;32m    703\u001b[0m                 \u001b[0mioargs\u001b[0m\u001b[0;34m.\u001b[0m\u001b[0mmode\u001b[0m\u001b[0;34m,\u001b[0m\u001b[0;34m\u001b[0m\u001b[0;34m\u001b[0m\u001b[0m\n",
      "\u001b[0;31mFileNotFoundError\u001b[0m: [Errno 2] No such file or directory: 'bar_chart_data.csv'"
     ]
    }
   ],
   "source": [
    "# Read the car data csv file for this task.\n",
    "# Make sure the file is in the same directory, as your Python Notebook, otherwise you'll need to specify the file location.\n",
    "df_used_cars = pd.read_csv(\"bar_chart_data.csv\")"
   ]
  },
  {
   "cell_type": "code",
   "execution_count": null,
   "metadata": {},
   "outputs": [],
   "source": [
    "df_used_cars"
   ]
  },
  {
   "cell_type": "code",
   "execution_count": null,
   "metadata": {},
   "outputs": [],
   "source": [
    "plt.figure(figsize = (9, 6)) #determine the size of the chart\n",
    "# To create a bar chart with matplotlib you can use the 'bar' function.\n",
    "plt.bar(x = df_used_cars[\"Brand\"], #specify the x axis\n",
    "        height = df_used_cars[\"Cars Listings\"], #specify the y axis\n",
    "        color = \"midnightblue\") # the color for the bars\n",
    "plt.xticks(rotation = 45, fontsize = 13) # rotate and format the labels for the x-axis\n",
    "plt.yticks(fontsize = 13) # format the y-axis\n",
    "plt.title(\"Cars Listings by Brand\", fontsize = 16, fontweight = \"bold\") #add and format the title for the chart\n",
    "plt.ylabel(\"Number of Listings\", fontsize = 13 ) #add a title for the y-axis\n",
    "plt.savefig(\"Used Cars Bar.png\") # you can export your chart as a picture\n",
    "plt.show() # depending on which environment you're using without this line you're chart may not display properly."
   ]
  },
  {
   "cell_type": "markdown",
   "metadata": {},
   "source": [
    "## Pie Chart"
   ]
  },
  {
   "cell_type": "code",
   "execution_count": null,
   "metadata": {},
   "outputs": [],
   "source": [
    "# load data. Number of cars based on their engine fuel types. Four engine fuel types in total : Diesel, Gas, Petrol and Other.\n",
    "df_fuel_engine_type = pd.read_csv(\"pie_chart_data.csv\")"
   ]
  },
  {
   "cell_type": "code",
   "execution_count": null,
   "metadata": {},
   "outputs": [],
   "source": [
    "df_fuel_engine_type"
   ]
  },
  {
   "cell_type": "code",
   "execution_count": null,
   "metadata": {},
   "outputs": [],
   "source": [
    "# Set the matplotlib color cycle using a seaborn palette\n",
    "sns.set_palette('colorblind')"
   ]
  },
  {
   "cell_type": "code",
   "execution_count": null,
   "metadata": {},
   "outputs": [],
   "source": [
    "# create a pie chart with the pie function from matplotlib's pyplot.\n",
    "# Labels are added as the number of cars in each category in the form of percentages.\n",
    "# Additional labels formatting using textprops. Note it is a dictionary.  \n",
    "\n",
    "plt.figure(figsize = (10, 8))\n",
    "plt.pie(df_fuel_engine_type['Number of Cars'], \n",
    "        labels = df_fuel_engine_type['Engine Fuel Type'].values, \n",
    "        autopct = '%.2f%%',\n",
    "        textprops = {'size' : 'x-large',\n",
    "                     'fontweight' : 'bold', \n",
    "                     'rotation' : '30',\n",
    "                     'color' : 'w'})\n",
    "plt.legend()\n",
    "plt.title('Cars by Engine Fuel Type', fontsize = 18, fontweight = 'bold')\n",
    "plt.show()"
   ]
  },
  {
   "cell_type": "markdown",
   "metadata": {},
   "source": [
    "## Stacked Area Chart"
   ]
  },
  {
   "cell_type": "code",
   "execution_count": null,
   "metadata": {},
   "outputs": [],
   "source": [
    "# load data. Engine Fuel Types for used cars. Data is collected from 1982 until 2016\n",
    "df_fuel_engine_types = pd.read_csv(\"stacked_area_chart_data.csv\")"
   ]
  },
  {
   "cell_type": "code",
   "execution_count": null,
   "metadata": {},
   "outputs": [],
   "source": [
    "df_fuel_engine_types"
   ]
  },
  {
   "cell_type": "code",
   "execution_count": null,
   "metadata": {},
   "outputs": [],
   "source": [
    "# Create a stacked area chart, with pyplots 'stackplot'. On the x-axis we have the time line - year 1982 to 2016.\n",
    "# On the y-axis we have the three categories, 'Diesel', 'Petrol' and 'Gas' stacked on top of each other. \n",
    "# Note that this ordering is chosen specifically so that categories are from largest to smallest.\n",
    "# This helps us compare the size of the catogories, as people have difficulties determining the size of non-rectangular shapes.\n",
    "\n",
    "# Provide a color list, so that each category can have a specific color.\n",
    "# Color names should appear in the same order as the stacked area plot categories appear.  \n",
    "colors = [\"#011638\", \"#7e2987\", \"ef2026\"]\n",
    "# label list for the legend. Names should appear in the same order as the stacked area plot categories appear. \n",
    "labels = [\"Diesel\", \"Petrol\", \"Gas\"]\n",
    "sns.set_style(\"white\") # Use seaborn's 'white' theme to introduce a white background, instead of the default grey.\n",
    "plt.figure(figsize = (12, 6))\n",
    "plt.stackplot(df_fuel_engine_types[\"Year\"],\n",
    "              df_fuel_engine_types[\"Diesel\"],\n",
    "              df_fuel_engine_types[\"Petrol\"],\n",
    "              df_fuel_engine_types[\"Gas\"],\n",
    "              colors = colors,\n",
    "              edgecolor = 'none')\n",
    "plt.xticks(df_fuel_engine_types[\"Year\"], rotation = 45) # Include x-axis labels for each year and rotate labels by 45 degrees.\n",
    "plt.legend(labels = labels, loc = \"upper left\") # Add a legend and specify its location on the chart.\n",
    "plt.ylabel(\"Number of Cars\", fontsize = 13)\n",
    "plt.title(\"Popularity of Engine Fuel Types (1982 - 2016)\", fontsize = 14, weight = \"bold\")\n",
    "sns.despine() # Remove top and right border of the chart.\n",
    "plt.show()"
   ]
  },
  {
   "cell_type": "markdown",
   "metadata": {},
   "source": [
    "## Line Chart"
   ]
  },
  {
   "cell_type": "code",
   "execution_count": null,
   "metadata": {},
   "outputs": [],
   "source": [
    "# load line chart data\n",
    "df_spx_ftse_00_10 = pd.read_csv(\"line_chart_data.csv\")"
   ]
  },
  {
   "cell_type": "code",
   "execution_count": null,
   "metadata": {},
   "outputs": [],
   "source": [
    "df_spx_ftse_00_10"
   ]
  },
  {
   "cell_type": "code",
   "execution_count": null,
   "metadata": {},
   "outputs": [],
   "source": [
    "# Convert 'Date' into datetime format. Otherwise it will be regarded as a simple string\n",
    "# and it's highly likely that many operations or transformations on the date column won't have the desired result. \n",
    "# This is a crucial step in any time series analysis.\n",
    "df_spx_ftse_00_10[\"new_date\"] = pd.to_datetime(df_spx_ftse_00_10[\"Date\"])"
   ]
  },
  {
   "cell_type": "code",
   "execution_count": null,
   "metadata": {},
   "outputs": [],
   "source": [
    "df_spx_ftse_00_10[\"new_date\"]"
   ]
  },
  {
   "cell_type": "code",
   "execution_count": null,
   "metadata": {},
   "outputs": [],
   "source": [
    "# line chart for the two indices: S&P 500 (in blue) vs FTSE 100 (in orange). The time frame is from 2000 until end of 2010\n",
    "labels = [\"S&P 500\", \"FTSE 100\"] # legend labels list\n",
    "plt.figure(figsize = (20, 8))\n",
    "plt.plot(df_spx_ftse_00_10[\"new_date\"], df_spx_ftse_00_10[\"GSPC500\"])\n",
    "plt.plot(df_spx_ftse_00_10[\"new_date\"], df_spx_ftse_00_10[\"FTSE100\"])\n",
    "# chart formatting elements: title, labels and legend\n",
    "plt.title(\"S&P vs FTSE Returns (2000 - 2010)\", fontsize = 14, fontweight = \"bold\")\n",
    "plt.ylabel(\"Returns\")\n",
    "plt.xlabel(\"Date\")\n",
    "plt.legend(labels = labels, fontsize = \"large\")\n",
    "plt.show()"
   ]
  },
  {
   "cell_type": "code",
   "execution_count": null,
   "metadata": {},
   "outputs": [],
   "source": [
    "\n",
    "# introduce a new data frame for a specific time frame. Starts 07/01/2008 and ends 12/31/2008\n",
    "df_spx_ftse_H2_08 = df_spx_ftse_00_10[(df_spx_ftse_00_10.new_date >= '2008-07-01') &\n",
    "                                      (df_spx_ftse_00_10.new_date <= '2008-12-31')]"
   ]
  },
  {
   "cell_type": "code",
   "execution_count": null,
   "metadata": {},
   "outputs": [],
   "source": [
    "df_spx_ftse_H2_08"
   ]
  },
  {
   "cell_type": "code",
   "execution_count": null,
   "metadata": {},
   "outputs": [],
   "source": [
    "# line chart for the two indices S&P 500 (in dark blue) vs FTSE 100 (in crimson red). The time frame is H2(second half) of 2008 \n",
    "plt.figure(figsize = (20, 8))\n",
    "plt.plot(df_spx_ftse_H2_08[\"new_date\"], df_spx_ftse_H2_08[\"GSPC500\"], color = \"midnightblue\")\n",
    "plt.plot(df_spx_ftse_H2_08[\"new_date\"], df_spx_ftse_H2_08[\"FTSE100\"], color = \"crimson\")\n",
    "plt.title(\"S&P vs FTSE Returns (H2 2008)\", fontsize = 14, fontweight = \"bold\")\n",
    "plt.ylabel(\"Returns\")\n",
    "plt.xlabel(\"Date\")\n",
    "plt.legend(labels = labels, fontsize = \"large\")\n",
    "plt.show()"
   ]
  },
  {
   "cell_type": "markdown",
   "metadata": {},
   "source": [
    "## Histogram"
   ]
  },
  {
   "cell_type": "code",
   "execution_count": null,
   "metadata": {},
   "outputs": [],
   "source": [
    "# Load real estate data set for the histogram\n",
    "df_real_estate = pd.read_csv(\"histogram_data.csv\")"
   ]
  },
  {
   "cell_type": "code",
   "execution_count": null,
   "metadata": {},
   "outputs": [],
   "source": [
    "df_real_estate"
   ]
  },
  {
   "cell_type": "code",
   "execution_count": null,
   "metadata": {},
   "outputs": [],
   "source": [
    "sns.set_style(\"white\") # override the default matplotlib style, to avoid the grey background and grid\n",
    "plt.figure(figsize = (8, 6)) # determine the size of the figure\n",
    "plt.hist(df_real_estate[\"Price\"], # the variable on which to create the histogram\n",
    "         bins = 8, # create a histogram with 8 bins\n",
    "         color = \"#108A99\")\n",
    "plt.title(\"Distribution of Real Estate Prices\", fontsize = 14, weight = \"bold\")\n",
    "plt.xlabel(\"Price in (000's $)\")\n",
    "plt.ylabel(\"Number of Properties\")\n",
    "sns.despine() # removes the top and right border of our graph\n",
    "plt.show()"
   ]
  },
  {
   "cell_type": "markdown",
   "metadata": {},
   "source": [
    "## Scatter Plot"
   ]
  },
  {
   "cell_type": "code",
   "execution_count": null,
   "metadata": {},
   "outputs": [],
   "source": [
    "#load the real estate data for the scatter plot\n",
    "df_real_estate = pd.read_csv(\"scatter_data.csv\")"
   ]
  },
  {
   "cell_type": "code",
   "execution_count": null,
   "metadata": {},
   "outputs": [],
   "source": [
    "df_real_estate"
   ]
  },
  {
   "cell_type": "code",
   "execution_count": null,
   "metadata": {},
   "outputs": [],
   "source": [
    "# scatter plot with matplotlib's pyplot. Depending on what features you'd like to include,\n",
    "# this version might not give as many high level options as seaborn. However, technically, it should perform just as well. \n",
    "plt.figure(figsize = (12, 8)) # size of the figure\n",
    "scatter = plt.scatter(df_real_estate['Area (ft.)'],\n",
    "            df_real_estate['Price'], \n",
    "            alpha = 0.6, #transparency level of points on the plot. Used to avoid overplotting\n",
    "            c = df_real_estate['Building Type'], # additional third feature\n",
    "            cmap = 'viridis') #color map for the third variable\n",
    "# add and format additional elements, such as legends, titles and axis labels\n",
    "plt.legend(*scatter.legend_elements(),\n",
    "           loc = \"upper left\",\n",
    "           title = \"Building Type\")\n",
    "plt.title(\"Relationship between Area and Price of California Real Estate\", \n",
    "          fontsize = 14, \n",
    "          weight = \"bold\")\n",
    "plt.xlabel(\"Area (sq. ft.)\", weight = \"bold\")\n",
    "plt.ylabel(\"Price (000's of $)\")\n",
    "plt.show()"
   ]
  },
  {
   "cell_type": "code",
   "execution_count": null,
   "metadata": {},
   "outputs": [],
   "source": [
    "# the seaborn scatter plot is used very often, as it is usually very intuitive to handle.\n",
    "# This is also a main advantage of the library, the fact that it is easy to use. Though in some cases,\n",
    "# it doesn't provide as many options as matplotlib\n",
    "plt.figure(figsize = (12, 8))\n",
    "sns.scatterplot(df_real_estate['Area (ft.)'],\n",
    "                df_real_estate['Price'],\n",
    "                hue = df_real_estate['Building Type'], #third variable is added with the hue parameter\n",
    "                palette = ['black', 'darkblue', 'purple', 'pink', 'white'], #colors for the third parameter\n",
    "                s = 100) # size of points on the scatter\n",
    "plt.title(\"Relationship between Area and Price of California Real Estate\", \n",
    "          fontsize = 14, \n",
    "          weight = \"bold\")\n",
    "plt.xlabel(\"Area (sq. ft.)\", weight = \"bold\")\n",
    "plt.ylabel(\"Price (000's of $)\")\n",
    "plt.show()"
   ]
  },
  {
   "cell_type": "markdown",
   "metadata": {},
   "source": [
    "## Regression Plot"
   ]
  },
  {
   "cell_type": "code",
   "execution_count": null,
   "metadata": {},
   "outputs": [],
   "source": [
    "#load the marketing data set for the regression plot\n",
    "df_ad_expenditure = pd.read_csv(\"scatter_plot_ii.csv\")"
   ]
  },
  {
   "cell_type": "code",
   "execution_count": null,
   "metadata": {},
   "outputs": [],
   "source": [
    "df_ad_expenditure"
   ]
  },
  {
   "cell_type": "code",
   "execution_count": null,
   "metadata": {},
   "outputs": [],
   "source": [
    "# A regplot accepts x and y in a variety of formats. For the lmplot the data need to be strings in the so called 'long-form'.\n",
    "#plt.figure(figsize = (10, 8))\n",
    "sns.set(rc = {'figure.figsize': (9,6)}) # control the size of the figure with the rc dictionary\n",
    "sns.regplot(x = \"Budget\", \n",
    "            y = \"Sales\", \n",
    "            data = df_ad_expenditure, \n",
    "            scatter_kws = {'color': 'k'}, # color for the points\n",
    "            line_kws = {'color': 'red'}) # color for the regression line\n",
    "plt.xlabel(\"Ad Expenditure in (000's $)\")\n",
    "plt.ylabel(\"Sales in (000's Units)\")\n",
    "plt.title(\"Effect of Ad Expenditure on Sales\", fontsize = 14, weight = \"bold\")\n",
    "plt.show()"
   ]
  },
  {
   "cell_type": "code",
   "execution_count": null,
   "metadata": {},
   "outputs": [],
   "source": [
    "sns.lmplot(x = \"Budget\", \n",
    "           y = \"Sales\", \n",
    "           data = df_ad_expenditure, \n",
    "           height = 10, # height and width of the plot\n",
    "           scatter_kws = {'color': 'k'}, # color for the points\n",
    "           line_kws = {'color': 'red'}) # color for the regression line\n",
    "plt.xlabel(\"Ad Expenditure in (000's $)\")\n",
    "plt.ylabel(\"Sales in (000's Units)\")\n",
    "plt.title(\"Effect of Ad Expenditure on Sales\", fontsize = 14, weight = \"bold\")\n",
    "plt.show()"
   ]
  },
  {
   "cell_type": "markdown",
   "metadata": {},
   "source": [
    "## Bar and Line Chart"
   ]
  },
  {
   "cell_type": "code",
   "execution_count": null,
   "metadata": {},
   "outputs": [],
   "source": [
    "df_kdnuggets = pd.read_csv(\"bar_line_chart_data.csv\") #read in the KDnuggets survey data file"
   ]
  },
  {
   "cell_type": "code",
   "execution_count": null,
   "metadata": {},
   "outputs": [],
   "source": [
    "# The data frame, which we'll use to create the combo plot. The two charts will share the x-axis which is Year.\n",
    "# The bar chart will have the number of Participants on the primary x-axis(on the lefthandside of the chart)\n",
    "# The line chart will have the Python Users in percentages on a secondary y-axis(on the righthandside of the chart)\n",
    "df_kdnuggets"
   ]
  },
  {
   "cell_type": "code",
   "execution_count": null,
   "metadata": {},
   "outputs": [],
   "source": [
    "# Creating the combination chart. Here we use a figure with axes.\n",
    "# The first axes or subplot is the bar chart, the second is the line chart. \n",
    "fig, ax = plt.subplots(figsize = (10, 7))\n",
    "\n",
    "#creating and styling the bar chart\n",
    "ax.bar(df_kdnuggets[\"Year\"],\n",
    "       df_kdnuggets[\"Participants\"],\n",
    "       color = \"k\")\n",
    "ax.set_ylabel(\"Number of Participants\", \n",
    "              weight = \"bold\")\n",
    "ax.tick_params(axis = \"y\", \n",
    "               width = 2, \n",
    "               labelsize = \"large\")\n",
    "ax1 = ax.twinx()\n",
    "#changing the secondary y-axis to display percentages on a scale from 0% to 100%\n",
    "ax1.set_ylim(0, 1)\n",
    "ax1.yaxis.set_major_formatter(PercentFormatter(xmax = 1.0))\n",
    "#creating and styling the line chart\n",
    "ax1.plot(df_kdnuggets[\"Year\"],\n",
    "         df_kdnuggets[\"Python Users\"], \n",
    "         color = \"#b60000\", \n",
    "         marker = \"D\")\n",
    "ax1.set_ylabel(\"Python Users\", \n",
    "               color = \"#b60000\", \n",
    "               weight = \"bold\")\n",
    "ax1.tick_params(axis = \"y\", \n",
    "                colors = \"#b60000\", \n",
    "                width = 2, \n",
    "                labelsize = \"large\")\n",
    "ax.set_title(\"KD Nuggets Survey Python Users (2012 - 2019)\", fontsize = \"14\", weight = \"bold\")\n",
    "plt.show()"
   ]
  },
  {
   "cell_type": "code",
   "execution_count": null,
   "metadata": {},
   "outputs": [],
   "source": []
  }
 ],
 "metadata": {
  "kernelspec": {
   "name": "python3",
   "display_name": "Python 3.8.3 64-bit ('base': conda)"
  },
  "language_info": {
   "codemirror_mode": {
    "name": "ipython",
    "version": 3
   },
   "file_extension": ".py",
   "mimetype": "text/x-python",
   "name": "python",
   "nbconvert_exporter": "python",
   "pygments_lexer": "ipython3",
   "version": "3.8.3"
  },
  "interpreter": {
   "hash": "dca0ade3e726a953b501b15e8e990130d2b7799f14cfd9f4271676035ebe5511"
  }
 },
 "nbformat": 4,
 "nbformat_minor": 2
}